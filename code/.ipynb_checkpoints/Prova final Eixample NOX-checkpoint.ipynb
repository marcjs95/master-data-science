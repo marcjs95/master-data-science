{
 "cells": [
  {
   "cell_type": "code",
   "execution_count": 1,
   "metadata": {},
   "outputs": [],
   "source": [
    "import pandas as pd\n",
    "import numpy as np\n",
    "import time\n",
    "import datetime \n",
    "import calendar\n",
    "import scipy.stats\n",
    "from matplotlib import pyplot as plt\n",
    "import seaborn as sns\n",
    "pd.options.display.max_rows = 53000\n",
    "%matplotlib inline"
   ]
  },
  {
   "cell_type": "code",
   "execution_count": 2,
   "metadata": {},
   "outputs": [],
   "source": [
    "data = pd.read_csv('/mnt/c/users/marcj/Desktop/MASTER/TFM/DADES POLLUTION/master-data-science/data/Eixample/notebook-serie-Eix_NOX-19', parse_dates= ['DATA'], index_col='DATA',header=0)"
   ]
  },
  {
   "cell_type": "code",
   "execution_count": 3,
   "metadata": {},
   "outputs": [],
   "source": [
    "vent_raval = pd.read_csv('/mnt/c/users/marcj/Desktop/MASTER/TFM/DADES POLLUTION/master-data-science/data/meteo/meteo-vent-raval', parse_dates= ['DATA'], index_col='DATA',header=0)"
   ]
  },
  {
   "cell_type": "code",
   "execution_count": 4,
   "metadata": {},
   "outputs": [],
   "source": [
    "temp_raval = pd.read_csv('/mnt/c/users/marcj/Desktop/MASTER/TFM/DADES POLLUTION/master-data-science/data/meteo/meteo-temp-raval', parse_dates= ['DATA'], index_col='DATA',header=0)"
   ]
  },
  {
   "cell_type": "code",
   "execution_count": 5,
   "metadata": {},
   "outputs": [],
   "source": [
    "hum_raval = pd.read_csv('/mnt/c/users/marcj/Desktop/MASTER/TFM/DADES POLLUTION/master-data-science/data/meteo/meteo-hum-raval', parse_dates= ['DATA'], index_col='DATA',header=0)"
   ]
  },
  {
   "cell_type": "code",
   "execution_count": 6,
   "metadata": {},
   "outputs": [],
   "source": [
    "prep_raval = pd.read_csv('/mnt/c/users/marcj/Desktop/MASTER/TFM/DADES POLLUTION/master-data-science/data/meteo/meteo-prep-raval', parse_dates= ['DATA'], index_col='DATA',header=0)"
   ]
  },
  {
   "cell_type": "code",
   "execution_count": 7,
   "metadata": {},
   "outputs": [],
   "source": [
    "pre_raval = pd.read_csv('/mnt/c/users/marcj/Desktop/MASTER/TFM/DADES POLLUTION/master-data-science/data/meteo/meteo-pressio-raval', parse_dates= ['DATA'], index_col='DATA',header=0)"
   ]
  },
  {
   "cell_type": "code",
   "execution_count": 8,
   "metadata": {},
   "outputs": [],
   "source": [
    "pre_raval = np.log(pre_raval)"
   ]
  },
  {
   "cell_type": "code",
   "execution_count": 9,
   "metadata": {},
   "outputs": [],
   "source": [
    "temp_zoo = pd.read_csv('/mnt/c/users/marcj/Desktop/MASTER/TFM/DADES POLLUTION/master-data-science/data/meteo/meteo-temp-zoo', parse_dates= ['DATA'], index_col='DATA',header=0)"
   ]
  },
  {
   "cell_type": "code",
   "execution_count": 10,
   "metadata": {},
   "outputs": [],
   "source": [
    "hum_zoo = pd.read_csv('/mnt/c/users/marcj/Desktop/MASTER/TFM/DADES POLLUTION/master-data-science/data/meteo/meteo-hum-zoo', parse_dates= ['DATA'], index_col='DATA',header=0)"
   ]
  },
  {
   "cell_type": "code",
   "execution_count": 11,
   "metadata": {},
   "outputs": [],
   "source": [
    "hum_zoo = np.log(hum_zoo)"
   ]
  },
  {
   "cell_type": "code",
   "execution_count": 12,
   "metadata": {},
   "outputs": [],
   "source": [
    "pre_zoo = pd.read_csv('/mnt/c/users/marcj/Desktop/MASTER/TFM/DADES POLLUTION/master-data-science/data/meteo/meteo-pressio-zoo', parse_dates= ['DATA'], index_col='DATA',header=0)"
   ]
  },
  {
   "cell_type": "code",
   "execution_count": 13,
   "metadata": {},
   "outputs": [],
   "source": [
    "trans_4071 = pd.read_csv('/mnt/c/users/marcj/Desktop/MASTER/TFM/DADES POLLUTION/master-data-science/data/transit/transit-4071', parse_dates= ['DATA'], index_col='DATA',header=0)"
   ]
  },
  {
   "cell_type": "code",
   "execution_count": 14,
   "metadata": {},
   "outputs": [],
   "source": [
    "trans_4071 = np.log(trans_4071)"
   ]
  },
  {
   "cell_type": "code",
   "execution_count": 15,
   "metadata": {},
   "outputs": [],
   "source": [
    "trans_4095 = pd.read_csv('/mnt/c/users/marcj/Desktop/MASTER/TFM/DADES POLLUTION/master-data-science/data/transit/transit-4095', parse_dates= ['DATA'], index_col='DATA',header=0)"
   ]
  },
  {
   "cell_type": "code",
   "execution_count": 16,
   "metadata": {},
   "outputs": [],
   "source": [
    "trans_4095 = np.log(trans_4095)"
   ]
  },
  {
   "cell_type": "code",
   "execution_count": 17,
   "metadata": {},
   "outputs": [],
   "source": [
    "trans_20013 = pd.read_csv('/mnt/c/users/marcj/Desktop/MASTER/TFM/DADES POLLUTION/master-data-science/data/transit/transit-20013', parse_dates= ['DATA'], index_col='DATA',header=0)"
   ]
  },
  {
   "cell_type": "code",
   "execution_count": 18,
   "metadata": {},
   "outputs": [],
   "source": [
    "trans_20013 = np.log(trans_20013)"
   ]
  },
  {
   "cell_type": "code",
   "execution_count": 19,
   "metadata": {},
   "outputs": [],
   "source": [
    "vent_raval.rename(columns={'VALOR_LECTURA':'VENT_RAVAL'}, inplace=True)"
   ]
  },
  {
   "cell_type": "code",
   "execution_count": 20,
   "metadata": {},
   "outputs": [],
   "source": [
    "temp_raval.rename(columns={'VALOR_LECTURA':'TEMP_RAVAL'}, inplace=True)"
   ]
  },
  {
   "cell_type": "code",
   "execution_count": 21,
   "metadata": {},
   "outputs": [],
   "source": [
    "hum_raval.rename(columns={'VALOR_LECTURA':'HUM_RAVAL'}, inplace=True)"
   ]
  },
  {
   "cell_type": "code",
   "execution_count": 22,
   "metadata": {},
   "outputs": [],
   "source": [
    "prep_raval.rename(columns={'VALOR_LECTURA':'PREP_RAVAL'}, inplace=True)"
   ]
  },
  {
   "cell_type": "code",
   "execution_count": 23,
   "metadata": {},
   "outputs": [],
   "source": [
    "pre_raval.rename(columns={'VALOR_LECTURA':'PRE_RAVAL'}, inplace=True)"
   ]
  },
  {
   "cell_type": "code",
   "execution_count": 24,
   "metadata": {},
   "outputs": [],
   "source": [
    "temp_zoo.rename(columns={'VALOR_LECTURA':'TEMP_ZOO'}, inplace=True)"
   ]
  },
  {
   "cell_type": "code",
   "execution_count": 25,
   "metadata": {},
   "outputs": [],
   "source": [
    "hum_zoo.rename(columns={'VALOR_LECTURA':'HUM_ZOO'}, inplace=True)"
   ]
  },
  {
   "cell_type": "code",
   "execution_count": 26,
   "metadata": {},
   "outputs": [],
   "source": [
    "pre_zoo.rename(columns={'VALOR_LECTURA':'PRE_ZOO'}, inplace=True)"
   ]
  },
  {
   "cell_type": "code",
   "execution_count": 27,
   "metadata": {},
   "outputs": [],
   "source": [
    "trans_4095.rename(columns={'Valor_IMD':'4095'}, inplace=True)"
   ]
  },
  {
   "cell_type": "code",
   "execution_count": 28,
   "metadata": {},
   "outputs": [],
   "source": [
    "vent_raval.rename(columns={'VALOR_LECTURA':'VENT_RAVAL'}, inplace=True)"
   ]
  },
  {
   "cell_type": "code",
   "execution_count": 29,
   "metadata": {},
   "outputs": [],
   "source": [
    "temp_raval.rename(columns={'VALOR_LECTURA':'TEMP_RAVAL'}, inplace=True)"
   ]
  },
  {
   "cell_type": "code",
   "execution_count": 30,
   "metadata": {},
   "outputs": [],
   "source": [
    "hum_raval.rename(columns={'VALOR_LECTURA':'HUM_RAVAL'}, inplace=True)"
   ]
  },
  {
   "cell_type": "code",
   "execution_count": 31,
   "metadata": {},
   "outputs": [],
   "source": [
    "prep_raval.rename(columns={'VALOR_LECTURA':'PREP_RAVAL'}, inplace=True)"
   ]
  },
  {
   "cell_type": "code",
   "execution_count": 32,
   "metadata": {},
   "outputs": [],
   "source": [
    "pre_raval.rename(columns={'VALOR_LECTURA':'PRE_RAVAL'}, inplace=True)"
   ]
  },
  {
   "cell_type": "code",
   "execution_count": 33,
   "metadata": {},
   "outputs": [],
   "source": [
    "temp_zoo.rename(columns={'VALOR_LECTURA':'TEMP_ZOO'}, inplace=True)"
   ]
  },
  {
   "cell_type": "code",
   "execution_count": 34,
   "metadata": {},
   "outputs": [],
   "source": [
    "hum_zoo.rename(columns={'VALOR_LECTURA':'HUM_ZOO'}, inplace=True)"
   ]
  },
  {
   "cell_type": "code",
   "execution_count": 35,
   "metadata": {},
   "outputs": [],
   "source": [
    "pre_zoo.rename(columns={'VALOR_LECTURA':'PRE_ZOO'}, inplace=True)"
   ]
  },
  {
   "cell_type": "code",
   "execution_count": 36,
   "metadata": {},
   "outputs": [],
   "source": [
    "trans_4095.rename(columns={'Valor_IMD':'4095'}, inplace=True)"
   ]
  },
  {
   "cell_type": "code",
   "execution_count": 37,
   "metadata": {},
   "outputs": [],
   "source": [
    "trans_20013.rename(columns={'Valor_IMD':'20013'}, inplace=True)"
   ]
  },
  {
   "cell_type": "code",
   "execution_count": 38,
   "metadata": {},
   "outputs": [],
   "source": [
    "trans_4071.rename(columns={'Valor_IMD':'4071'}, inplace=True)"
   ]
  },
  {
   "cell_type": "code",
   "execution_count": 39,
   "metadata": {},
   "outputs": [],
   "source": [
    "final = pd.merge(data, temp_zoo, on = 'DATA')"
   ]
  },
  {
   "cell_type": "code",
   "execution_count": 40,
   "metadata": {},
   "outputs": [],
   "source": [
    "final = pd.merge(final, hum_zoo, on = 'DATA')"
   ]
  },
  {
   "cell_type": "code",
   "execution_count": 41,
   "metadata": {},
   "outputs": [],
   "source": [
    "final = pd.merge(final, pre_zoo, on = 'DATA')"
   ]
  },
  {
   "cell_type": "code",
   "execution_count": 42,
   "metadata": {},
   "outputs": [],
   "source": [
    "final = pd.merge(final, trans_4095, on= 'DATA')"
   ]
  },
  {
   "cell_type": "code",
   "execution_count": 43,
   "metadata": {},
   "outputs": [],
   "source": [
    "final = pd.merge(final, trans_4071, on = 'DATA')"
   ]
  },
  {
   "cell_type": "code",
   "execution_count": 44,
   "metadata": {},
   "outputs": [],
   "source": [
    "final = pd.merge(final, trans_20013, on = 'DATA')"
   ]
  },
  {
   "cell_type": "code",
   "execution_count": 45,
   "metadata": {},
   "outputs": [],
   "source": [
    "final = pd.merge(final, vent_raval, on = 'DATA')"
   ]
  },
  {
   "cell_type": "code",
   "execution_count": 46,
   "metadata": {},
   "outputs": [],
   "source": [
    "final = pd.merge(final, temp_raval, on = 'DATA')"
   ]
  },
  {
   "cell_type": "code",
   "execution_count": 47,
   "metadata": {},
   "outputs": [],
   "source": [
    "final = pd.merge(final, hum_raval, on = 'DATA')"
   ]
  },
  {
   "cell_type": "code",
   "execution_count": 48,
   "metadata": {},
   "outputs": [],
   "source": [
    "final = pd.merge(final, pre_raval, on = 'DATA')"
   ]
  },
  {
   "cell_type": "code",
   "execution_count": 49,
   "metadata": {},
   "outputs": [],
   "source": [
    "final = pd.merge(final, prep_raval, on = 'DATA')"
   ]
  },
  {
   "cell_type": "code",
   "execution_count": 50,
   "metadata": {},
   "outputs": [
    {
     "data": {
      "text/html": [
       "<div>\n",
       "<style scoped>\n",
       "    .dataframe tbody tr th:only-of-type {\n",
       "        vertical-align: middle;\n",
       "    }\n",
       "\n",
       "    .dataframe tbody tr th {\n",
       "        vertical-align: top;\n",
       "    }\n",
       "\n",
       "    .dataframe thead th {\n",
       "        text-align: right;\n",
       "    }\n",
       "</style>\n",
       "<table border=\"1\" class=\"dataframe\">\n",
       "  <thead>\n",
       "    <tr style=\"text-align: right;\">\n",
       "      <th></th>\n",
       "      <th>H</th>\n",
       "      <th>TEMP_ZOO</th>\n",
       "      <th>HUM_ZOO</th>\n",
       "      <th>PRE_ZOO</th>\n",
       "      <th>4095</th>\n",
       "      <th>4071</th>\n",
       "      <th>20013</th>\n",
       "      <th>VENT_RAVAL</th>\n",
       "      <th>TEMP_RAVAL</th>\n",
       "      <th>HUM_RAVAL</th>\n",
       "      <th>PRE_RAVAL</th>\n",
       "      <th>PREP_RAVAL</th>\n",
       "    </tr>\n",
       "    <tr>\n",
       "      <th>DATA</th>\n",
       "      <th></th>\n",
       "      <th></th>\n",
       "      <th></th>\n",
       "      <th></th>\n",
       "      <th></th>\n",
       "      <th></th>\n",
       "      <th></th>\n",
       "      <th></th>\n",
       "      <th></th>\n",
       "      <th></th>\n",
       "      <th></th>\n",
       "      <th></th>\n",
       "    </tr>\n",
       "  </thead>\n",
       "  <tbody>\n",
       "    <tr>\n",
       "      <th>2017-01-01</th>\n",
       "      <td>106.0</td>\n",
       "      <td>12.7</td>\n",
       "      <td>4.521789</td>\n",
       "      <td>12.7</td>\n",
       "      <td>9.195633</td>\n",
       "      <td>10.397452</td>\n",
       "      <td>7.238497</td>\n",
       "      <td>2.6</td>\n",
       "      <td>13.1</td>\n",
       "      <td>13.1</td>\n",
       "      <td>6.931862</td>\n",
       "      <td>0.0</td>\n",
       "    </tr>\n",
       "    <tr>\n",
       "      <th>2017-01-02</th>\n",
       "      <td>472.5</td>\n",
       "      <td>16.0</td>\n",
       "      <td>4.574711</td>\n",
       "      <td>16.0</td>\n",
       "      <td>9.331230</td>\n",
       "      <td>10.421507</td>\n",
       "      <td>7.294377</td>\n",
       "      <td>3.0</td>\n",
       "      <td>15.7</td>\n",
       "      <td>15.7</td>\n",
       "      <td>6.921658</td>\n",
       "      <td>0.0</td>\n",
       "    </tr>\n",
       "    <tr>\n",
       "      <th>2017-01-03</th>\n",
       "      <td>165.0</td>\n",
       "      <td>16.5</td>\n",
       "      <td>4.369448</td>\n",
       "      <td>16.5</td>\n",
       "      <td>9.312807</td>\n",
       "      <td>10.441091</td>\n",
       "      <td>7.126891</td>\n",
       "      <td>4.0</td>\n",
       "      <td>15.6</td>\n",
       "      <td>15.6</td>\n",
       "      <td>6.923530</td>\n",
       "      <td>0.0</td>\n",
       "    </tr>\n",
       "    <tr>\n",
       "      <th>2017-01-04</th>\n",
       "      <td>135.5</td>\n",
       "      <td>14.4</td>\n",
       "      <td>4.488636</td>\n",
       "      <td>14.4</td>\n",
       "      <td>9.152711</td>\n",
       "      <td>10.168157</td>\n",
       "      <td>6.666957</td>\n",
       "      <td>3.2</td>\n",
       "      <td>14.9</td>\n",
       "      <td>14.9</td>\n",
       "      <td>6.920770</td>\n",
       "      <td>3.3</td>\n",
       "    </tr>\n",
       "    <tr>\n",
       "      <th>2017-01-05</th>\n",
       "      <td>103.0</td>\n",
       "      <td>18.2</td>\n",
       "      <td>4.369448</td>\n",
       "      <td>18.2</td>\n",
       "      <td>8.897409</td>\n",
       "      <td>9.956222</td>\n",
       "      <td>6.712956</td>\n",
       "      <td>4.0</td>\n",
       "      <td>17.5</td>\n",
       "      <td>17.5</td>\n",
       "      <td>6.924121</td>\n",
       "      <td>0.0</td>\n",
       "    </tr>\n",
       "  </tbody>\n",
       "</table>\n",
       "</div>"
      ],
      "text/plain": [
       "                H  TEMP_ZOO   HUM_ZOO  PRE_ZOO      4095       4071     20013  \\\n",
       "DATA                                                                            \n",
       "2017-01-01  106.0      12.7  4.521789     12.7  9.195633  10.397452  7.238497   \n",
       "2017-01-02  472.5      16.0  4.574711     16.0  9.331230  10.421507  7.294377   \n",
       "2017-01-03  165.0      16.5  4.369448     16.5  9.312807  10.441091  7.126891   \n",
       "2017-01-04  135.5      14.4  4.488636     14.4  9.152711  10.168157  6.666957   \n",
       "2017-01-05  103.0      18.2  4.369448     18.2  8.897409   9.956222  6.712956   \n",
       "\n",
       "            VENT_RAVAL  TEMP_RAVAL  HUM_RAVAL  PRE_RAVAL  PREP_RAVAL  \n",
       "DATA                                                                  \n",
       "2017-01-01         2.6        13.1       13.1   6.931862         0.0  \n",
       "2017-01-02         3.0        15.7       15.7   6.921658         0.0  \n",
       "2017-01-03         4.0        15.6       15.6   6.923530         0.0  \n",
       "2017-01-04         3.2        14.9       14.9   6.920770         3.3  \n",
       "2017-01-05         4.0        17.5       17.5   6.924121         0.0  "
      ]
     },
     "execution_count": 50,
     "metadata": {},
     "output_type": "execute_result"
    }
   ],
   "source": [
    "final.head()"
   ]
  },
  {
   "cell_type": "code",
   "execution_count": 51,
   "metadata": {},
   "outputs": [],
   "source": [
    "TEST_SIZE = 310"
   ]
  },
  {
   "cell_type": "code",
   "execution_count": 52,
   "metadata": {},
   "outputs": [],
   "source": [
    "train, test = final[:-TEST_SIZE], final[-TEST_SIZE:]"
   ]
  },
  {
   "cell_type": "code",
   "execution_count": 53,
   "metadata": {},
   "outputs": [
    {
     "data": {
      "text/plain": [
       "(784, 12)"
      ]
     },
     "execution_count": 53,
     "metadata": {},
     "output_type": "execute_result"
    }
   ],
   "source": [
    "train.shape"
   ]
  },
  {
   "cell_type": "code",
   "execution_count": 54,
   "metadata": {},
   "outputs": [],
   "source": [
    "train_1 = train.values\n",
    "test_1 = test.values"
   ]
  },
  {
   "cell_type": "code",
   "execution_count": 55,
   "metadata": {},
   "outputs": [
    {
     "data": {
      "text/plain": [
       "(784, 12)"
      ]
     },
     "execution_count": 55,
     "metadata": {},
     "output_type": "execute_result"
    }
   ],
   "source": [
    "train_1.shape"
   ]
  },
  {
   "cell_type": "code",
   "execution_count": 56,
   "metadata": {},
   "outputs": [],
   "source": [
    "x = np.arange(13128)\n",
    "x = np.reshape(x, (1094,12))"
   ]
  },
  {
   "cell_type": "code",
   "execution_count": 57,
   "metadata": {},
   "outputs": [],
   "source": [
    "x_train = x[:-TEST_SIZE]"
   ]
  },
  {
   "cell_type": "code",
   "execution_count": 58,
   "metadata": {},
   "outputs": [],
   "source": [
    "x_test = x[-TEST_SIZE:]"
   ]
  },
  {
   "cell_type": "code",
   "execution_count": 59,
   "metadata": {},
   "outputs": [
    {
     "data": {
      "text/html": [
       "<div>\n",
       "<style scoped>\n",
       "    .dataframe tbody tr th:only-of-type {\n",
       "        vertical-align: middle;\n",
       "    }\n",
       "\n",
       "    .dataframe tbody tr th {\n",
       "        vertical-align: top;\n",
       "    }\n",
       "\n",
       "    .dataframe thead th {\n",
       "        text-align: right;\n",
       "    }\n",
       "</style>\n",
       "<table border=\"1\" class=\"dataframe\">\n",
       "  <thead>\n",
       "    <tr style=\"text-align: right;\">\n",
       "      <th></th>\n",
       "      <th>H</th>\n",
       "      <th>TEMP_ZOO</th>\n",
       "      <th>HUM_ZOO</th>\n",
       "      <th>PRE_ZOO</th>\n",
       "      <th>4095</th>\n",
       "      <th>4071</th>\n",
       "      <th>20013</th>\n",
       "      <th>VENT_RAVAL</th>\n",
       "      <th>TEMP_RAVAL</th>\n",
       "      <th>HUM_RAVAL</th>\n",
       "      <th>PRE_RAVAL</th>\n",
       "      <th>PREP_RAVAL</th>\n",
       "    </tr>\n",
       "  </thead>\n",
       "  <tbody>\n",
       "    <tr>\n",
       "      <th>H</th>\n",
       "      <td>1.000000</td>\n",
       "      <td>-0.184722</td>\n",
       "      <td>0.131085</td>\n",
       "      <td>-0.184722</td>\n",
       "      <td>0.087719</td>\n",
       "      <td>0.062093</td>\n",
       "      <td>0.052782</td>\n",
       "      <td>-0.290129</td>\n",
       "      <td>-0.166503</td>\n",
       "      <td>-0.166503</td>\n",
       "      <td>0.233354</td>\n",
       "      <td>-0.069006</td>\n",
       "    </tr>\n",
       "    <tr>\n",
       "      <th>TEMP_ZOO</th>\n",
       "      <td>-0.184722</td>\n",
       "      <td>1.000000</td>\n",
       "      <td>0.117643</td>\n",
       "      <td>1.000000</td>\n",
       "      <td>0.012861</td>\n",
       "      <td>-0.083005</td>\n",
       "      <td>0.020609</td>\n",
       "      <td>-0.016270</td>\n",
       "      <td>0.994617</td>\n",
       "      <td>0.994617</td>\n",
       "      <td>-0.111621</td>\n",
       "      <td>0.010556</td>\n",
       "    </tr>\n",
       "    <tr>\n",
       "      <th>HUM_ZOO</th>\n",
       "      <td>0.131085</td>\n",
       "      <td>0.117643</td>\n",
       "      <td>1.000000</td>\n",
       "      <td>0.117643</td>\n",
       "      <td>-0.027999</td>\n",
       "      <td>-0.093746</td>\n",
       "      <td>-0.082688</td>\n",
       "      <td>-0.242971</td>\n",
       "      <td>0.116659</td>\n",
       "      <td>0.116659</td>\n",
       "      <td>-0.083629</td>\n",
       "      <td>0.210906</td>\n",
       "    </tr>\n",
       "    <tr>\n",
       "      <th>PRE_ZOO</th>\n",
       "      <td>-0.184722</td>\n",
       "      <td>1.000000</td>\n",
       "      <td>0.117643</td>\n",
       "      <td>1.000000</td>\n",
       "      <td>0.012861</td>\n",
       "      <td>-0.083005</td>\n",
       "      <td>0.020609</td>\n",
       "      <td>-0.016270</td>\n",
       "      <td>0.994617</td>\n",
       "      <td>0.994617</td>\n",
       "      <td>-0.111621</td>\n",
       "      <td>0.010556</td>\n",
       "    </tr>\n",
       "    <tr>\n",
       "      <th>4095</th>\n",
       "      <td>0.087719</td>\n",
       "      <td>0.012861</td>\n",
       "      <td>-0.027999</td>\n",
       "      <td>0.012861</td>\n",
       "      <td>1.000000</td>\n",
       "      <td>0.423158</td>\n",
       "      <td>0.260414</td>\n",
       "      <td>0.008020</td>\n",
       "      <td>0.013095</td>\n",
       "      <td>0.013095</td>\n",
       "      <td>0.003887</td>\n",
       "      <td>0.009722</td>\n",
       "    </tr>\n",
       "    <tr>\n",
       "      <th>4071</th>\n",
       "      <td>0.062093</td>\n",
       "      <td>-0.083005</td>\n",
       "      <td>-0.093746</td>\n",
       "      <td>-0.083005</td>\n",
       "      <td>0.423158</td>\n",
       "      <td>1.000000</td>\n",
       "      <td>0.576705</td>\n",
       "      <td>0.048169</td>\n",
       "      <td>-0.076729</td>\n",
       "      <td>-0.076729</td>\n",
       "      <td>0.057574</td>\n",
       "      <td>-0.031095</td>\n",
       "    </tr>\n",
       "    <tr>\n",
       "      <th>20013</th>\n",
       "      <td>0.052782</td>\n",
       "      <td>0.020609</td>\n",
       "      <td>-0.082688</td>\n",
       "      <td>0.020609</td>\n",
       "      <td>0.260414</td>\n",
       "      <td>0.576705</td>\n",
       "      <td>1.000000</td>\n",
       "      <td>-0.054993</td>\n",
       "      <td>0.028537</td>\n",
       "      <td>0.028537</td>\n",
       "      <td>0.144501</td>\n",
       "      <td>-0.023631</td>\n",
       "    </tr>\n",
       "    <tr>\n",
       "      <th>VENT_RAVAL</th>\n",
       "      <td>-0.290129</td>\n",
       "      <td>-0.016270</td>\n",
       "      <td>-0.242971</td>\n",
       "      <td>-0.016270</td>\n",
       "      <td>0.008020</td>\n",
       "      <td>0.048169</td>\n",
       "      <td>-0.054993</td>\n",
       "      <td>1.000000</td>\n",
       "      <td>-0.020885</td>\n",
       "      <td>-0.020885</td>\n",
       "      <td>-0.347002</td>\n",
       "      <td>0.104362</td>\n",
       "    </tr>\n",
       "    <tr>\n",
       "      <th>TEMP_RAVAL</th>\n",
       "      <td>-0.166503</td>\n",
       "      <td>0.994617</td>\n",
       "      <td>0.116659</td>\n",
       "      <td>0.994617</td>\n",
       "      <td>0.013095</td>\n",
       "      <td>-0.076729</td>\n",
       "      <td>0.028537</td>\n",
       "      <td>-0.020885</td>\n",
       "      <td>1.000000</td>\n",
       "      <td>1.000000</td>\n",
       "      <td>-0.110889</td>\n",
       "      <td>0.008813</td>\n",
       "    </tr>\n",
       "    <tr>\n",
       "      <th>HUM_RAVAL</th>\n",
       "      <td>-0.166503</td>\n",
       "      <td>0.994617</td>\n",
       "      <td>0.116659</td>\n",
       "      <td>0.994617</td>\n",
       "      <td>0.013095</td>\n",
       "      <td>-0.076729</td>\n",
       "      <td>0.028537</td>\n",
       "      <td>-0.020885</td>\n",
       "      <td>1.000000</td>\n",
       "      <td>1.000000</td>\n",
       "      <td>-0.110889</td>\n",
       "      <td>0.008813</td>\n",
       "    </tr>\n",
       "    <tr>\n",
       "      <th>PRE_RAVAL</th>\n",
       "      <td>0.233354</td>\n",
       "      <td>-0.111621</td>\n",
       "      <td>-0.083629</td>\n",
       "      <td>-0.111621</td>\n",
       "      <td>0.003887</td>\n",
       "      <td>0.057574</td>\n",
       "      <td>0.144501</td>\n",
       "      <td>-0.347002</td>\n",
       "      <td>-0.110889</td>\n",
       "      <td>-0.110889</td>\n",
       "      <td>1.000000</td>\n",
       "      <td>-0.110438</td>\n",
       "    </tr>\n",
       "    <tr>\n",
       "      <th>PREP_RAVAL</th>\n",
       "      <td>-0.069006</td>\n",
       "      <td>0.010556</td>\n",
       "      <td>0.210906</td>\n",
       "      <td>0.010556</td>\n",
       "      <td>0.009722</td>\n",
       "      <td>-0.031095</td>\n",
       "      <td>-0.023631</td>\n",
       "      <td>0.104362</td>\n",
       "      <td>0.008813</td>\n",
       "      <td>0.008813</td>\n",
       "      <td>-0.110438</td>\n",
       "      <td>1.000000</td>\n",
       "    </tr>\n",
       "  </tbody>\n",
       "</table>\n",
       "</div>"
      ],
      "text/plain": [
       "                   H  TEMP_ZOO   HUM_ZOO   PRE_ZOO      4095      4071  \\\n",
       "H           1.000000 -0.184722  0.131085 -0.184722  0.087719  0.062093   \n",
       "TEMP_ZOO   -0.184722  1.000000  0.117643  1.000000  0.012861 -0.083005   \n",
       "HUM_ZOO     0.131085  0.117643  1.000000  0.117643 -0.027999 -0.093746   \n",
       "PRE_ZOO    -0.184722  1.000000  0.117643  1.000000  0.012861 -0.083005   \n",
       "4095        0.087719  0.012861 -0.027999  0.012861  1.000000  0.423158   \n",
       "4071        0.062093 -0.083005 -0.093746 -0.083005  0.423158  1.000000   \n",
       "20013       0.052782  0.020609 -0.082688  0.020609  0.260414  0.576705   \n",
       "VENT_RAVAL -0.290129 -0.016270 -0.242971 -0.016270  0.008020  0.048169   \n",
       "TEMP_RAVAL -0.166503  0.994617  0.116659  0.994617  0.013095 -0.076729   \n",
       "HUM_RAVAL  -0.166503  0.994617  0.116659  0.994617  0.013095 -0.076729   \n",
       "PRE_RAVAL   0.233354 -0.111621 -0.083629 -0.111621  0.003887  0.057574   \n",
       "PREP_RAVAL -0.069006  0.010556  0.210906  0.010556  0.009722 -0.031095   \n",
       "\n",
       "               20013  VENT_RAVAL  TEMP_RAVAL  HUM_RAVAL  PRE_RAVAL  PREP_RAVAL  \n",
       "H           0.052782   -0.290129   -0.166503  -0.166503   0.233354   -0.069006  \n",
       "TEMP_ZOO    0.020609   -0.016270    0.994617   0.994617  -0.111621    0.010556  \n",
       "HUM_ZOO    -0.082688   -0.242971    0.116659   0.116659  -0.083629    0.210906  \n",
       "PRE_ZOO     0.020609   -0.016270    0.994617   0.994617  -0.111621    0.010556  \n",
       "4095        0.260414    0.008020    0.013095   0.013095   0.003887    0.009722  \n",
       "4071        0.576705    0.048169   -0.076729  -0.076729   0.057574   -0.031095  \n",
       "20013       1.000000   -0.054993    0.028537   0.028537   0.144501   -0.023631  \n",
       "VENT_RAVAL -0.054993    1.000000   -0.020885  -0.020885  -0.347002    0.104362  \n",
       "TEMP_RAVAL  0.028537   -0.020885    1.000000   1.000000  -0.110889    0.008813  \n",
       "HUM_RAVAL   0.028537   -0.020885    1.000000   1.000000  -0.110889    0.008813  \n",
       "PRE_RAVAL   0.144501   -0.347002   -0.110889  -0.110889   1.000000   -0.110438  \n",
       "PREP_RAVAL -0.023631    0.104362    0.008813   0.008813  -0.110438    1.000000  "
      ]
     },
     "execution_count": 59,
     "metadata": {},
     "output_type": "execute_result"
    }
   ],
   "source": [
    "final_corr = final.corr()\n",
    "final_corr"
   ]
  },
  {
   "cell_type": "code",
   "execution_count": 60,
   "metadata": {
    "scrolled": true
   },
   "outputs": [
    {
     "data": {
      "text/plain": [
       "<matplotlib.axes._subplots.AxesSubplot at 0x7ff103361810>"
      ]
     },
     "execution_count": 60,
     "metadata": {},
     "output_type": "execute_result"
    },
    {
     "data": {
      "image/png": "[encoded data removed]",
      "text/plain": [
       "<Figure size 1008x432 with 2 Axes>"
      ]
     },
     "metadata": {
      "needs_background": "light"
     },
     "output_type": "display_data"
    }
   ],
   "source": [
    "mask = np.zeros_like(final_corr, dtype= np.bool)\n",
    "mask[np.triu_indices_from(mask)] = True\n",
    "\n",
    "f, ax = plt.subplots(figsize=(14,6))\n",
    "\n",
    "cmap = sns.diverging_palette(220, 10, as_cmap= True)\n",
    "\n",
    "sns.heatmap(final_corr, mask= mask, cmap= cmap, vmax= .3, center= 0, square= False, linewidths= .5, cbar_kws= {'shrink': .5})"
   ]
  },
  {
   "cell_type": "code",
   "execution_count": 61,
   "metadata": {},
   "outputs": [],
   "source": [
    "prueba = pd.merge(data, vent_raval, on = 'DATA')"
   ]
  },
  {
   "cell_type": "code",
   "execution_count": 62,
   "metadata": {},
   "outputs": [],
   "source": [
    "prueba = pd.merge(prueba, temp_raval, on = 'DATA')"
   ]
  },
  {
   "cell_type": "code",
   "execution_count": 63,
   "metadata": {},
   "outputs": [],
   "source": [
    "prueba = pd.merge(prueba, hum_raval, on = 'DATA')"
   ]
  },
  {
   "cell_type": "code",
   "execution_count": 64,
   "metadata": {},
   "outputs": [],
   "source": [
    "prueba = pd.merge(prueba, pre_raval, on = 'DATA')"
   ]
  },
  {
   "cell_type": "code",
   "execution_count": 65,
   "metadata": {},
   "outputs": [],
   "source": [
    "prueba = pd.merge(prueba, prep_raval, on = 'DATA')"
   ]
  },
  {
   "cell_type": "code",
   "execution_count": 66,
   "metadata": {},
   "outputs": [],
   "source": [
    "prueba = pd.merge(prueba, temp_zoo, on = 'DATA')"
   ]
  },
  {
   "cell_type": "code",
   "execution_count": 67,
   "metadata": {},
   "outputs": [],
   "source": [
    "prueba = pd.merge(prueba, hum_zoo, on = 'DATA')"
   ]
  },
  {
   "cell_type": "code",
   "execution_count": 68,
   "metadata": {},
   "outputs": [],
   "source": [
    "prueba = pd.merge(prueba, pre_zoo, on = 'DATA')"
   ]
  },
  {
   "cell_type": "code",
   "execution_count": 69,
   "metadata": {},
   "outputs": [],
   "source": [
    "prueba = pd.merge(prueba, trans_4095, on= 'DATA')"
   ]
  },
  {
   "cell_type": "code",
   "execution_count": 70,
   "metadata": {},
   "outputs": [],
   "source": [
    "prueba = pd.merge(prueba, trans_4071, on = 'DATA')"
   ]
  },
  {
   "cell_type": "code",
   "execution_count": 71,
   "metadata": {},
   "outputs": [],
   "source": [
    "prueba = pd.merge(prueba, trans_20013, on = 'DATA')"
   ]
  },
  {
   "cell_type": "markdown",
   "metadata": {},
   "source": [
    "# ARIMA/SARIMA"
   ]
  },
  {
   "cell_type": "code",
   "execution_count": 72,
   "metadata": {},
   "outputs": [
    {
     "name": "stderr",
     "output_type": "stream",
     "text": [
      "/home/marc/[/Usuarios/marcj/Descargas]/envs/masterds/lib/python3.7/site-packages/ipykernel_launcher.py:6: FutureWarning: Creating a DatetimeIndex by passing range endpoints is deprecated.  Use `pandas.date_range` instead.\n",
      "  \n"
     ]
    }
   ],
   "source": [
    "ultimo_fecha = max(data.index)\n",
    "ultimo_dia_mes = calendar.monthrange(ultimo_fecha.year, ultimo_fecha.month)[1]\n",
    "inicio = min(data.index).replace(day=1)\n",
    "fin = ultimo_fecha.replace(day=ultimo_dia_mes)\n",
    "\n",
    "index =pd.DatetimeIndex(start=inicio, end=fin, freq= '24h')\n",
    "data = data.reindex(index)"
   ]
  },
  {
   "cell_type": "code",
   "execution_count": 73,
   "metadata": {},
   "outputs": [
    {
     "data": {
      "text/plain": [
       "H    1\n",
       "dtype: int64"
      ]
     },
     "execution_count": 73,
     "metadata": {},
     "output_type": "execute_result"
    }
   ],
   "source": [
    "data.isnull().sum()"
   ]
  },
  {
   "cell_type": "code",
   "execution_count": 74,
   "metadata": {},
   "outputs": [],
   "source": [
    "mean = data['H'].astype(float).mean(skipna=True)"
   ]
  },
  {
   "cell_type": "code",
   "execution_count": 75,
   "metadata": {},
   "outputs": [],
   "source": [
    "data['H'].replace(to_replace=np.NaN, value= mean, inplace=True)"
   ]
  },
  {
   "cell_type": "code",
   "execution_count": 76,
   "metadata": {},
   "outputs": [
    {
     "data": {
      "text/plain": [
       "H    0\n",
       "dtype: int64"
      ]
     },
     "execution_count": 76,
     "metadata": {},
     "output_type": "execute_result"
    }
   ],
   "source": [
    "data.isnull().sum()"
   ]
  },
  {
   "cell_type": "code",
   "execution_count": 77,
   "metadata": {},
   "outputs": [
    {
     "name": "stderr",
     "output_type": "stream",
     "text": [
      "/home/marc/[/Usuarios/marcj/Descargas]/envs/masterds/lib/python3.7/site-packages/pandas/plotting/_matplotlib/converter.py:103: FutureWarning: Using an implicitly registered datetime converter for a matplotlib plotting method. The converter was registered by pandas on import. Future versions of pandas will require you to explicitly register matplotlib converters.\n",
      "\n",
      "To register the converters:\n",
      "\t>>> from pandas.plotting import register_matplotlib_converters\n",
      "\t>>> register_matplotlib_converters()\n",
      "  warnings.warn(msg, FutureWarning)\n"
     ]
    },
    {
     "data": {
      "text/plain": [
       "[<matplotlib.lines.Line2D at 0x7ff1049dc450>]"
      ]
     },
     "execution_count": 77,
     "metadata": {},
     "output_type": "execute_result"
    },
    {
     "data": {
      "image/png": "[encoded data removed]",
      "text/plain": [
       "<Figure size 1440x360 with 1 Axes>"
      ]
     },
     "metadata": {
      "needs_background": "light"
     },
     "output_type": "display_data"
    }
   ],
   "source": [
    "plt.figure(figsize=(20,5))\n",
    "plt.plot(data)"
   ]
  },
  {
   "cell_type": "code",
   "execution_count": 78,
   "metadata": {},
   "outputs": [
    {
     "data": {
      "image/png": "[encoded data removed]",
      "text/plain": [
       "<Figure size 432x288 with 4 Axes>"
      ]
     },
     "metadata": {
      "needs_background": "light"
     },
     "output_type": "display_data"
    }
   ],
   "source": [
    "from statsmodels.tsa.seasonal import seasonal_decompose\n",
    "decomposition = seasonal_decompose(data)\n",
    "fig= decomposition.plot()"
   ]
  },
  {
   "cell_type": "code",
   "execution_count": 79,
   "metadata": {},
   "outputs": [
    {
     "name": "stderr",
     "output_type": "stream",
     "text": [
      "/home/marc/[/Usuarios/marcj/Descargas]/envs/masterds/lib/python3.7/site-packages/statsmodels/tsa/stattools.py:572: FutureWarning: fft=True will become the default in a future version of statsmodels. To suppress this warning, explicitly set fft=False.\n",
      "  FutureWarning\n"
     ]
    },
    {
     "data": {
      "image/png": "[encoded data removed]",
      "text/plain": [
       "<Figure size 720x288 with 2 Axes>"
      ]
     },
     "metadata": {
      "needs_background": "light"
     },
     "output_type": "display_data"
    }
   ],
   "source": [
    "plt.figure(figsize=(10,4))\n",
    "\n",
    "from statsmodels.tsa.stattools import acf, pacf\n",
    "\n",
    "lag_acf = acf(data, nlags=20)\n",
    "lag_pacf = pacf(data, nlags= 20, method='ols')\n",
    "\n",
    "plt.subplot(121)\n",
    "plt.plot(lag_acf)\n",
    "plt.axhline(y=0, linestyle= '--', color='gray')\n",
    "plt.axhline(y=-1.96/np.sqrt(len(data)), linestyle='--', color='gray')\n",
    "plt.axhline(y=1.96/np.sqrt(len(data)), linestyle='--', color='gray')\n",
    "plt.title('Autocorrelation Function')\n",
    "\n",
    "plt.subplot(122)\n",
    "plt.plot(lag_pacf)\n",
    "plt.axhline(y=0, linestyle= '--', color='gray')\n",
    "plt.axhline(y=-1.96/np.sqrt(len(data)), linestyle='--', color='gray')\n",
    "plt.axhline(y=1.96/np.sqrt(len(data)), linestyle='--', color='gray')\n",
    "plt.title('Partial Autocorrelation Function')\n",
    "plt.tight_layout()"
   ]
  },
  {
   "cell_type": "code",
   "execution_count": 80,
   "metadata": {
    "scrolled": false
   },
   "outputs": [
    {
     "data": {
      "text/html": [
       "<table class=\"simpletable\">\n",
       "<caption>ARIMA Model Results</caption>\n",
       "<tr>\n",
       "  <th>Dep. Variable:</th>        <td>D.H</td>       <th>  No. Observations:  </th>   <td>1094</td>   \n",
       "</tr>\n",
       "<tr>\n",
       "  <th>Model:</th>          <td>ARIMA(2, 1, 3)</td>  <th>  Log Likelihood     </th> <td>-6889.240</td>\n",
       "</tr>\n",
       "<tr>\n",
       "  <th>Method:</th>             <td>css-mle</td>     <th>  S.D. of innovations</th>  <td>131.279</td> \n",
       "</tr>\n",
       "<tr>\n",
       "  <th>Date:</th>          <td>Thu, 20 Aug 2020</td> <th>  AIC                </th> <td>13792.480</td>\n",
       "</tr>\n",
       "<tr>\n",
       "  <th>Time:</th>              <td>12:05:23</td>     <th>  BIC                </th> <td>13827.463</td>\n",
       "</tr>\n",
       "<tr>\n",
       "  <th>Sample:</th>           <td>01-02-2017</td>    <th>  HQIC               </th> <td>13805.718</td>\n",
       "</tr>\n",
       "<tr>\n",
       "  <th></th>                 <td>- 12-31-2019</td>   <th>                     </th>     <td> </td>    \n",
       "</tr>\n",
       "</table>\n",
       "<table class=\"simpletable\">\n",
       "<tr>\n",
       "      <td></td>         <th>coef</th>     <th>std err</th>      <th>z</th>      <th>P>|z|</th>  <th>[0.025</th>    <th>0.975]</th>  \n",
       "</tr>\n",
       "<tr>\n",
       "  <th>const</th>     <td>   -0.0220</td> <td>    0.170</td> <td>   -0.129</td> <td> 0.897</td> <td>   -0.355</td> <td>    0.311</td>\n",
       "</tr>\n",
       "<tr>\n",
       "  <th>ar.L1.D.H</th> <td>   -0.4805</td> <td>    0.139</td> <td>   -3.462</td> <td> 0.001</td> <td>   -0.753</td> <td>   -0.208</td>\n",
       "</tr>\n",
       "<tr>\n",
       "  <th>ar.L2.D.H</th> <td>    0.3213</td> <td>    0.080</td> <td>    3.997</td> <td> 0.000</td> <td>    0.164</td> <td>    0.479</td>\n",
       "</tr>\n",
       "<tr>\n",
       "  <th>ma.L1.D.H</th> <td>   -0.1341</td> <td>    0.142</td> <td>   -0.945</td> <td> 0.345</td> <td>   -0.412</td> <td>    0.144</td>\n",
       "</tr>\n",
       "<tr>\n",
       "  <th>ma.L2.D.H</th> <td>   -0.8633</td> <td>    0.069</td> <td>  -12.566</td> <td> 0.000</td> <td>   -0.998</td> <td>   -0.729</td>\n",
       "</tr>\n",
       "<tr>\n",
       "  <th>ma.L3.D.H</th> <td>    0.0452</td> <td>    0.093</td> <td>    0.486</td> <td> 0.627</td> <td>   -0.137</td> <td>    0.228</td>\n",
       "</tr>\n",
       "</table>\n",
       "<table class=\"simpletable\">\n",
       "<caption>Roots</caption>\n",
       "<tr>\n",
       "    <td></td>   <th>            Real</th>  <th>         Imaginary</th> <th>         Modulus</th>  <th>        Frequency</th>\n",
       "</tr>\n",
       "<tr>\n",
       "  <th>AR.1</th> <td>          -1.1683</td> <td>          +0.0000j</td> <td>           1.1683</td> <td>           0.5000</td>\n",
       "</tr>\n",
       "<tr>\n",
       "  <th>AR.2</th> <td>           2.6637</td> <td>          +0.0000j</td> <td>           2.6637</td> <td>           0.0000</td>\n",
       "</tr>\n",
       "<tr>\n",
       "  <th>MA.1</th> <td>           1.0274</td> <td>          +0.0000j</td> <td>           1.0274</td> <td>           0.0000</td>\n",
       "</tr>\n",
       "<tr>\n",
       "  <th>MA.2</th> <td>          -1.1218</td> <td>          +0.0000j</td> <td>           1.1218</td> <td>           0.5000</td>\n",
       "</tr>\n",
       "<tr>\n",
       "  <th>MA.3</th> <td>          19.1836</td> <td>          +0.0000j</td> <td>          19.1836</td> <td>           0.0000</td>\n",
       "</tr>\n",
       "</table>"
      ],
      "text/plain": [
       "<class 'statsmodels.iolib.summary.Summary'>\n",
       "\"\"\"\n",
       "                             ARIMA Model Results                              \n",
       "==============================================================================\n",
       "Dep. Variable:                    D.H   No. Observations:                 1094\n",
       "Model:                 ARIMA(2, 1, 3)   Log Likelihood               -6889.240\n",
       "Method:                       css-mle   S.D. of innovations            131.279\n",
       "Date:                Thu, 20 Aug 2020   AIC                          13792.480\n",
       "Time:                        12:05:23   BIC                          13827.463\n",
       "Sample:                    01-02-2017   HQIC                         13805.718\n",
       "                         - 12-31-2019                                         \n",
       "==============================================================================\n",
       "                 coef    std err          z      P>|z|      [0.025      0.975]\n",
       "------------------------------------------------------------------------------\n",
       "const         -0.0220      0.170     -0.129      0.897      -0.355       0.311\n",
       "ar.L1.D.H     -0.4805      0.139     -3.462      0.001      -0.753      -0.208\n",
       "ar.L2.D.H      0.3213      0.080      3.997      0.000       0.164       0.479\n",
       "ma.L1.D.H     -0.1341      0.142     -0.945      0.345      -0.412       0.144\n",
       "ma.L2.D.H     -0.8633      0.069    -12.566      0.000      -0.998      -0.729\n",
       "ma.L3.D.H      0.0452      0.093      0.486      0.627      -0.137       0.228\n",
       "                                    Roots                                    \n",
       "=============================================================================\n",
       "                  Real          Imaginary           Modulus         Frequency\n",
       "-----------------------------------------------------------------------------\n",
       "AR.1           -1.1683           +0.0000j            1.1683            0.5000\n",
       "AR.2            2.6637           +0.0000j            2.6637            0.0000\n",
       "MA.1            1.0274           +0.0000j            1.0274            0.0000\n",
       "MA.2           -1.1218           +0.0000j            1.1218            0.5000\n",
       "MA.3           19.1836           +0.0000j           19.1836            0.0000\n",
       "-----------------------------------------------------------------------------\n",
       "\"\"\""
      ]
     },
     "execution_count": 80,
     "metadata": {},
     "output_type": "execute_result"
    }
   ],
   "source": [
    "from statsmodels.tsa.arima_model import ARIMA\n",
    "\n",
    "model_conf = ARIMA(data, order= (2,1, 3))\n",
    "model_fit = model_conf.fit()\n",
    "model_fit.summary()"
   ]
  },
  {
   "cell_type": "code",
   "execution_count": 81,
   "metadata": {},
   "outputs": [
    {
     "data": {
      "text/html": [
       "<table class=\"simpletable\">\n",
       "<caption>ARIMA Model Results</caption>\n",
       "<tr>\n",
       "  <th>Dep. Variable:</th>        <td>D.H</td>       <th>  No. Observations:  </th>   <td>1094</td>   \n",
       "</tr>\n",
       "<tr>\n",
       "  <th>Model:</th>          <td>ARIMA(2, 1, 3)</td>  <th>  Log Likelihood     </th> <td>-6889.240</td>\n",
       "</tr>\n",
       "<tr>\n",
       "  <th>Method:</th>             <td>css-mle</td>     <th>  S.D. of innovations</th>  <td>131.279</td> \n",
       "</tr>\n",
       "<tr>\n",
       "  <th>Date:</th>          <td>Thu, 20 Aug 2020</td> <th>  AIC                </th> <td>13792.480</td>\n",
       "</tr>\n",
       "<tr>\n",
       "  <th>Time:</th>              <td>12:05:24</td>     <th>  BIC                </th> <td>13827.463</td>\n",
       "</tr>\n",
       "<tr>\n",
       "  <th>Sample:</th>           <td>01-02-2017</td>    <th>  HQIC               </th> <td>13805.718</td>\n",
       "</tr>\n",
       "<tr>\n",
       "  <th></th>                 <td>- 12-31-2019</td>   <th>                     </th>     <td> </td>    \n",
       "</tr>\n",
       "</table>\n",
       "<table class=\"simpletable\">\n",
       "<tr>\n",
       "      <td></td>         <th>coef</th>     <th>std err</th>      <th>z</th>      <th>P>|z|</th>  <th>[0.025</th>    <th>0.975]</th>  \n",
       "</tr>\n",
       "<tr>\n",
       "  <th>const</th>     <td>   -0.0220</td> <td>    0.170</td> <td>   -0.129</td> <td> 0.897</td> <td>   -0.355</td> <td>    0.311</td>\n",
       "</tr>\n",
       "<tr>\n",
       "  <th>ar.L1.D.H</th> <td>   -0.4805</td> <td>    0.139</td> <td>   -3.462</td> <td> 0.001</td> <td>   -0.753</td> <td>   -0.208</td>\n",
       "</tr>\n",
       "<tr>\n",
       "  <th>ar.L2.D.H</th> <td>    0.3213</td> <td>    0.080</td> <td>    3.997</td> <td> 0.000</td> <td>    0.164</td> <td>    0.479</td>\n",
       "</tr>\n",
       "<tr>\n",
       "  <th>ma.L1.D.H</th> <td>   -0.1341</td> <td>    0.142</td> <td>   -0.945</td> <td> 0.345</td> <td>   -0.412</td> <td>    0.144</td>\n",
       "</tr>\n",
       "<tr>\n",
       "  <th>ma.L2.D.H</th> <td>   -0.8633</td> <td>    0.069</td> <td>  -12.566</td> <td> 0.000</td> <td>   -0.998</td> <td>   -0.729</td>\n",
       "</tr>\n",
       "<tr>\n",
       "  <th>ma.L3.D.H</th> <td>    0.0452</td> <td>    0.093</td> <td>    0.486</td> <td> 0.627</td> <td>   -0.137</td> <td>    0.228</td>\n",
       "</tr>\n",
       "</table>\n",
       "<table class=\"simpletable\">\n",
       "<caption>Roots</caption>\n",
       "<tr>\n",
       "    <td></td>   <th>            Real</th>  <th>         Imaginary</th> <th>         Modulus</th>  <th>        Frequency</th>\n",
       "</tr>\n",
       "<tr>\n",
       "  <th>AR.1</th> <td>          -1.1683</td> <td>          +0.0000j</td> <td>           1.1683</td> <td>           0.5000</td>\n",
       "</tr>\n",
       "<tr>\n",
       "  <th>AR.2</th> <td>           2.6637</td> <td>          +0.0000j</td> <td>           2.6637</td> <td>           0.0000</td>\n",
       "</tr>\n",
       "<tr>\n",
       "  <th>MA.1</th> <td>           1.0274</td> <td>          +0.0000j</td> <td>           1.0274</td> <td>           0.0000</td>\n",
       "</tr>\n",
       "<tr>\n",
       "  <th>MA.2</th> <td>          -1.1218</td> <td>          +0.0000j</td> <td>           1.1218</td> <td>           0.5000</td>\n",
       "</tr>\n",
       "<tr>\n",
       "  <th>MA.3</th> <td>          19.1836</td> <td>          +0.0000j</td> <td>          19.1836</td> <td>           0.0000</td>\n",
       "</tr>\n",
       "</table>"
      ],
      "text/plain": [
       "<class 'statsmodels.iolib.summary.Summary'>\n",
       "\"\"\"\n",
       "                             ARIMA Model Results                              \n",
       "==============================================================================\n",
       "Dep. Variable:                    D.H   No. Observations:                 1094\n",
       "Model:                 ARIMA(2, 1, 3)   Log Likelihood               -6889.240\n",
       "Method:                       css-mle   S.D. of innovations            131.279\n",
       "Date:                Thu, 20 Aug 2020   AIC                          13792.480\n",
       "Time:                        12:05:24   BIC                          13827.463\n",
       "Sample:                    01-02-2017   HQIC                         13805.718\n",
       "                         - 12-31-2019                                         \n",
       "==============================================================================\n",
       "                 coef    std err          z      P>|z|      [0.025      0.975]\n",
       "------------------------------------------------------------------------------\n",
       "const         -0.0220      0.170     -0.129      0.897      -0.355       0.311\n",
       "ar.L1.D.H     -0.4805      0.139     -3.462      0.001      -0.753      -0.208\n",
       "ar.L2.D.H      0.3213      0.080      3.997      0.000       0.164       0.479\n",
       "ma.L1.D.H     -0.1341      0.142     -0.945      0.345      -0.412       0.144\n",
       "ma.L2.D.H     -0.8633      0.069    -12.566      0.000      -0.998      -0.729\n",
       "ma.L3.D.H      0.0452      0.093      0.486      0.627      -0.137       0.228\n",
       "                                    Roots                                    \n",
       "=============================================================================\n",
       "                  Real          Imaginary           Modulus         Frequency\n",
       "-----------------------------------------------------------------------------\n",
       "AR.1           -1.1683           +0.0000j            1.1683            0.5000\n",
       "AR.2            2.6637           +0.0000j            2.6637            0.0000\n",
       "MA.1            1.0274           +0.0000j            1.0274            0.0000\n",
       "MA.2           -1.1218           +0.0000j            1.1218            0.5000\n",
       "MA.3           19.1836           +0.0000j           19.1836            0.0000\n",
       "-----------------------------------------------------------------------------\n",
       "\"\"\""
      ]
     },
     "execution_count": 81,
     "metadata": {},
     "output_type": "execute_result"
    }
   ],
   "source": [
    "model_conf = ARIMA(data[:'2019-12-31'], order=(2,1,3))\n",
    "model_fit= model_conf.fit()\n",
    "model_fit.summary()"
   ]
  },
  {
   "cell_type": "code",
   "execution_count": 82,
   "metadata": {},
   "outputs": [
    {
     "data": {
      "text/html": [
       "<table class=\"simpletable\">\n",
       "<caption>ARIMA Model Results</caption>\n",
       "<tr>\n",
       "  <th>Dep. Variable:</th>        <td>D.H</td>       <th>  No. Observations:  </th>   <td>1094</td>   \n",
       "</tr>\n",
       "<tr>\n",
       "  <th>Model:</th>          <td>ARIMA(2, 1, 2)</td>  <th>  Log Likelihood     </th> <td>-6889.357</td>\n",
       "</tr>\n",
       "<tr>\n",
       "  <th>Method:</th>             <td>css-mle</td>     <th>  S.D. of innovations</th>  <td>131.294</td> \n",
       "</tr>\n",
       "<tr>\n",
       "  <th>Date:</th>          <td>Thu, 20 Aug 2020</td> <th>  AIC                </th> <td>13790.714</td>\n",
       "</tr>\n",
       "<tr>\n",
       "  <th>Time:</th>              <td>12:05:25</td>     <th>  BIC                </th> <td>13820.700</td>\n",
       "</tr>\n",
       "<tr>\n",
       "  <th>Sample:</th>           <td>01-02-2017</td>    <th>  HQIC               </th> <td>13802.061</td>\n",
       "</tr>\n",
       "<tr>\n",
       "  <th></th>                 <td>- 12-31-2019</td>   <th>                     </th>     <td> </td>    \n",
       "</tr>\n",
       "</table>\n",
       "<table class=\"simpletable\">\n",
       "<tr>\n",
       "      <td></td>         <th>coef</th>     <th>std err</th>      <th>z</th>      <th>P>|z|</th>  <th>[0.025</th>    <th>0.975]</th>  \n",
       "</tr>\n",
       "<tr>\n",
       "  <th>const</th>     <td>   -0.0204</td> <td>    0.174</td> <td>   -0.117</td> <td> 0.907</td> <td>   -0.362</td> <td>    0.322</td>\n",
       "</tr>\n",
       "<tr>\n",
       "  <th>ar.L1.D.H</th> <td>   -0.5376</td> <td>    0.069</td> <td>   -7.842</td> <td> 0.000</td> <td>   -0.672</td> <td>   -0.403</td>\n",
       "</tr>\n",
       "<tr>\n",
       "  <th>ar.L2.D.H</th> <td>    0.2876</td> <td>    0.042</td> <td>    6.874</td> <td> 0.000</td> <td>    0.206</td> <td>    0.370</td>\n",
       "</tr>\n",
       "<tr>\n",
       "  <th>ma.L1.D.H</th> <td>   -0.0733</td> <td>    0.060</td> <td>   -1.229</td> <td> 0.219</td> <td>   -0.190</td> <td>    0.044</td>\n",
       "</tr>\n",
       "<tr>\n",
       "  <th>ma.L2.D.H</th> <td>   -0.8736</td> <td>    0.059</td> <td>  -14.921</td> <td> 0.000</td> <td>   -0.988</td> <td>   -0.759</td>\n",
       "</tr>\n",
       "</table>\n",
       "<table class=\"simpletable\">\n",
       "<caption>Roots</caption>\n",
       "<tr>\n",
       "    <td></td>   <th>            Real</th>  <th>         Imaginary</th> <th>         Modulus</th>  <th>        Frequency</th>\n",
       "</tr>\n",
       "<tr>\n",
       "  <th>AR.1</th> <td>          -1.1512</td> <td>          +0.0000j</td> <td>           1.1512</td> <td>           0.5000</td>\n",
       "</tr>\n",
       "<tr>\n",
       "  <th>AR.2</th> <td>           3.0203</td> <td>          +0.0000j</td> <td>           3.0203</td> <td>           0.0000</td>\n",
       "</tr>\n",
       "<tr>\n",
       "  <th>MA.1</th> <td>           1.0288</td> <td>          +0.0000j</td> <td>           1.0288</td> <td>           0.0000</td>\n",
       "</tr>\n",
       "<tr>\n",
       "  <th>MA.2</th> <td>          -1.1127</td> <td>          +0.0000j</td> <td>           1.1127</td> <td>           0.5000</td>\n",
       "</tr>\n",
       "</table>"
      ],
      "text/plain": [
       "<class 'statsmodels.iolib.summary.Summary'>\n",
       "\"\"\"\n",
       "                             ARIMA Model Results                              \n",
       "==============================================================================\n",
       "Dep. Variable:                    D.H   No. Observations:                 1094\n",
       "Model:                 ARIMA(2, 1, 2)   Log Likelihood               -6889.357\n",
       "Method:                       css-mle   S.D. of innovations            131.294\n",
       "Date:                Thu, 20 Aug 2020   AIC                          13790.714\n",
       "Time:                        12:05:25   BIC                          13820.700\n",
       "Sample:                    01-02-2017   HQIC                         13802.061\n",
       "                         - 12-31-2019                                         \n",
       "==============================================================================\n",
       "                 coef    std err          z      P>|z|      [0.025      0.975]\n",
       "------------------------------------------------------------------------------\n",
       "const         -0.0204      0.174     -0.117      0.907      -0.362       0.322\n",
       "ar.L1.D.H     -0.5376      0.069     -7.842      0.000      -0.672      -0.403\n",
       "ar.L2.D.H      0.2876      0.042      6.874      0.000       0.206       0.370\n",
       "ma.L1.D.H     -0.0733      0.060     -1.229      0.219      -0.190       0.044\n",
       "ma.L2.D.H     -0.8736      0.059    -14.921      0.000      -0.988      -0.759\n",
       "                                    Roots                                    \n",
       "=============================================================================\n",
       "                  Real          Imaginary           Modulus         Frequency\n",
       "-----------------------------------------------------------------------------\n",
       "AR.1           -1.1512           +0.0000j            1.1512            0.5000\n",
       "AR.2            3.0203           +0.0000j            3.0203            0.0000\n",
       "MA.1            1.0288           +0.0000j            1.0288            0.0000\n",
       "MA.2           -1.1127           +0.0000j            1.1127            0.5000\n",
       "-----------------------------------------------------------------------------\n",
       "\"\"\""
      ]
     },
     "execution_count": 82,
     "metadata": {},
     "output_type": "execute_result"
    }
   ],
   "source": [
    "model_conf = ARIMA(data[:'2019-12-31'], order =(2,1,2), freq='D')\n",
    "model_fit = model_conf.fit()\n",
    "model_fit.summary()"
   ]
  },
  {
   "cell_type": "code",
   "execution_count": 83,
   "metadata": {},
   "outputs": [],
   "source": [
    "residuals = pd.DataFrame(model_fit.resid)"
   ]
  },
  {
   "cell_type": "code",
   "execution_count": 84,
   "metadata": {},
   "outputs": [
    {
     "data": {
      "text/plain": [
       "[<matplotlib.lines.Line2D at 0x7ff10025f990>]"
      ]
     },
     "execution_count": 84,
     "metadata": {},
     "output_type": "execute_result"
    },
    {
     "data": {
      "image/png": "[encoded data removed]",
      "text/plain": [
       "<Figure size 1440x576 with 1 Axes>"
      ]
     },
     "metadata": {
      "needs_background": "light"
     },
     "output_type": "display_data"
    }
   ],
   "source": [
    "plt.figure(figsize=(20,8))\n",
    "plt.plot(residuals)"
   ]
  },
  {
   "cell_type": "code",
   "execution_count": 85,
   "metadata": {},
   "outputs": [
    {
     "data": {
      "text/plain": [
       "<matplotlib.axes._subplots.AxesSubplot at 0x7ff100f08c10>"
      ]
     },
     "execution_count": 85,
     "metadata": {},
     "output_type": "execute_result"
    },
    {
     "data": {
      "image/png": "[encoded data removed]",
      "text/plain": [
       "<Figure size 432x288 with 1 Axes>"
      ]
     },
     "metadata": {
      "needs_background": "light"
     },
     "output_type": "display_data"
    }
   ],
   "source": [
    "residuals.plot(kind='kde')"
   ]
  },
  {
   "cell_type": "code",
   "execution_count": 86,
   "metadata": {},
   "outputs": [
    {
     "name": "stderr",
     "output_type": "stream",
     "text": [
      "/home/marc/[/Usuarios/marcj/Descargas]/envs/masterds/lib/python3.7/site-packages/ipykernel_launcher.py:4: FutureWarning: Addition/subtraction of integers and integer-arrays to Timestamp is deprecated, will be removed in a future version.  Instead of adding/subtracting `n`, use `n * self.freq`\n",
      "  after removing the cwd from sys.path.\n"
     ]
    }
   ],
   "source": [
    "ini_forecast = pd.Timestamp('2019-01-01', freq='D')\n",
    "ndays= 310\n",
    "\n",
    "end_forecast = ini_forecast + ndays -1"
   ]
  },
  {
   "cell_type": "code",
   "execution_count": 87,
   "metadata": {},
   "outputs": [
    {
     "name": "stderr",
     "output_type": "stream",
     "text": [
      "/home/marc/[/Usuarios/marcj/Descargas]/envs/masterds/lib/python3.7/site-packages/ipykernel_launcher.py:1: FutureWarning: Addition/subtraction of integers and integer-arrays to Timestamp is deprecated, will be removed in a future version.  Instead of adding/subtracting `n`, use `n * self.freq`\n",
      "  \"\"\"Entry point for launching an IPython kernel.\n"
     ]
    }
   ],
   "source": [
    "model_conf = ARIMA(data[:ini_forecast-1], order=(2,1,2), freq='D')\n",
    "model_fit = model_conf.fit()\n",
    "forecast = model_fit.forecast(ndays)[0]\n",
    "forecast = pd.DataFrame(forecast, columns=['forecast'],\n",
    "                       index=data[ini_forecast:end_forecast].index)"
   ]
  },
  {
   "cell_type": "code",
   "execution_count": null,
   "metadata": {},
   "outputs": [
    {
     "name": "stderr",
     "output_type": "stream",
     "text": [
      "/home/marc/[/Usuarios/marcj/Descargas]/envs/masterds/lib/python3.7/site-packages/ipykernel_launcher.py:3: FutureWarning: Addition/subtraction of integers and integer-arrays to Timestamp is deprecated, will be removed in a future version.  Instead of adding/subtracting `n`, use `n * self.freq`\n",
      "  This is separate from the ipykernel package so we can avoid doing imports until\n",
      "/home/marc/[/Usuarios/marcj/Descargas]/envs/masterds/lib/python3.7/site-packages/ipykernel_launcher.py:4: FutureWarning: Addition/subtraction of integers and integer-arrays to Timestamp is deprecated, will be removed in a future version.  Instead of adding/subtracting `n`, use `n * self.freq`\n",
      "  after removing the cwd from sys.path.\n"
     ]
    }
   ],
   "source": [
    "forecast_daily = []\n",
    "for d in range (ndays):\n",
    "    ini_test = ini_forecast + d\n",
    "    modelconf_day =ARIMA(data[:ini_test - 1], order = (2,1,1), freq='D')\n",
    "    modelfit_day = modelconf_day.fit()\n",
    "    forecast_daily.append(modelfit_day.forecast(1)[0])\n",
    "    \n",
    "forecast_daily = pd.DataFrame(forecast_daily, columns=['forecast'],\n",
    "                             index=data[ini_forecast:end_forecast].index)"
   ]
  },
  {
   "cell_type": "code",
   "execution_count": null,
   "metadata": {},
   "outputs": [],
   "source": [
    "plt.figure(figsize=(25, 8))\n",
    "plt.plot(data[ini_forecast-15:end_forecast], linewidth=5, color='black')\n",
    "plt.plot(forecast, linewidth=5, linestyle='--', markersize=12, marker='o')"
   ]
  },
  {
   "cell_type": "code",
   "execution_count": null,
   "metadata": {},
   "outputs": [],
   "source": [
    "plt.figure(figsize=(25, 10))\n",
    "plt.plot(data[ini_forecast-12:end_forecast], linewidth=5, color='black')\n",
    "plt.plot(forecast, linewidth=5, linestyle='--', markersize=12, marker='o', label='Seguido')\n",
    "plt.plot(forecast_daily, linewidth=5, linestyle='--', markersize= 12, marker='o', label='Diario')\n",
    "plt.legend(prop={'size':30})"
   ]
  },
  {
   "cell_type": "markdown",
   "metadata": {},
   "source": [
    "# REGRESIÓN LINEAL"
   ]
  },
  {
   "cell_type": "code",
   "execution_count": null,
   "metadata": {},
   "outputs": [],
   "source": [
    "data.shape"
   ]
  },
  {
   "cell_type": "code",
   "execution_count": null,
   "metadata": {},
   "outputs": [],
   "source": [
    "train_data, test_data = data.iloc[:-TEST_SIZE], data.iloc[-TEST_SIZE:]"
   ]
  },
  {
   "cell_type": "code",
   "execution_count": null,
   "metadata": {},
   "outputs": [],
   "source": [
    "x_train_data = np.array(range(train_data.shape[0]))\n",
    "x_test_data = np.array(range(train_data.shape[0], data.shape[0]))"
   ]
  },
  {
   "cell_type": "code",
   "execution_count": null,
   "metadata": {},
   "outputs": [],
   "source": [
    "x_test_data.shape"
   ]
  },
  {
   "cell_type": "code",
   "execution_count": null,
   "metadata": {},
   "outputs": [],
   "source": [
    "x_train_data.shape"
   ]
  },
  {
   "cell_type": "code",
   "execution_count": null,
   "metadata": {},
   "outputs": [],
   "source": [
    "train_data.shape"
   ]
  },
  {
   "cell_type": "code",
   "execution_count": null,
   "metadata": {},
   "outputs": [],
   "source": [
    "test_data.shape"
   ]
  },
  {
   "cell_type": "code",
   "execution_count": null,
   "metadata": {},
   "outputs": [],
   "source": [
    "from sklearn.linear_model import LinearRegression\n"
   ]
  },
  {
   "cell_type": "code",
   "execution_count": null,
   "metadata": {},
   "outputs": [],
   "source": [
    "y_pred_mean = [train_data.values[-12:].mean()] * 310"
   ]
  },
  {
   "cell_type": "code",
   "execution_count": null,
   "metadata": {},
   "outputs": [],
   "source": [
    "train_data = train_data.values"
   ]
  },
  {
   "cell_type": "code",
   "execution_count": null,
   "metadata": {},
   "outputs": [],
   "source": [
    "lr_model = LinearRegression()\n",
    "lr_model.fit(x_train_data.reshape(-1,1), train_data)"
   ]
  },
  {
   "cell_type": "code",
   "execution_count": null,
   "metadata": {},
   "outputs": [],
   "source": [
    "y_pred_lr = lr_model.predict(x_test_data.reshape(-1,1))"
   ]
  },
  {
   "cell_type": "code",
   "execution_count": null,
   "metadata": {},
   "outputs": [],
   "source": [
    "fig, ax = plt.subplots(1, 1, figsize=(10,3))\n",
    "ax.plot(x_train_data, train_data, label='train')\n",
    "ax.plot(x_test_data, y_pred_lr, label ='linear regression')\n",
    "ax.plot(x_test_data, y_pred_mean, label='mean')\n",
    "ax.plot(x_test_data, test_data, label ='real')\n",
    "plt.legend()\n",
    "plt.tight_layout()"
   ]
  },
  {
   "cell_type": "code",
   "execution_count": null,
   "metadata": {},
   "outputs": [],
   "source": [
    "def mae(y_true, y_pred):\n",
    "    return np.abs(y_true - y_pred).sum() / y_true.size"
   ]
  },
  {
   "cell_type": "code",
   "execution_count": null,
   "metadata": {},
   "outputs": [],
   "source": [
    "print('MAE in a mean model:', mae (test_data.values, y_pred_mean))"
   ]
  },
  {
   "cell_type": "code",
   "execution_count": null,
   "metadata": {},
   "outputs": [],
   "source": [
    "print('MAE in linear regression model:', mae(test_data.values, y_pred_lr))"
   ]
  },
  {
   "cell_type": "code",
   "execution_count": null,
   "metadata": {},
   "outputs": [],
   "source": [
    "def mse(y_true, y_pred):\n",
    "    return((y_true - y_pred)** 2).sum() / y_true.size"
   ]
  },
  {
   "cell_type": "code",
   "execution_count": null,
   "metadata": {},
   "outputs": [],
   "source": [
    "print('MSE in mean model:', mse(test_data.values, y_pred_mean))\n",
    "print('MSE in linear regression model:', mse(test_data.values, y_pred_lr))"
   ]
  },
  {
   "cell_type": "code",
   "execution_count": null,
   "metadata": {},
   "outputs": [],
   "source": [
    "def rmse(y_true, y_pred):\n",
    "    return np.sqrt(((y_true - y_pred)** 2).sum() / y_true.size)"
   ]
  },
  {
   "cell_type": "code",
   "execution_count": null,
   "metadata": {},
   "outputs": [],
   "source": [
    "print('RMSE in mean model:', rmse(test_data.values, y_pred_mean))\n",
    "print('RMSE in linear regression model:', rmse(test_data.values, y_pred_lr))"
   ]
  },
  {
   "cell_type": "code",
   "execution_count": null,
   "metadata": {},
   "outputs": [],
   "source": [
    "def mape (y_true, y_pred):\n",
    "    return 2 * np.abs((y_true - y_pred) / y_true).sum() / y_true.size"
   ]
  },
  {
   "cell_type": "code",
   "execution_count": null,
   "metadata": {},
   "outputs": [],
   "source": [
    "print('MAPE in mean model:', mape(test_data.values, y_pred_mean))\n",
    "print('MAPE in linear regression model:', mape(test_data.values, y_pred_lr))"
   ]
  },
  {
   "cell_type": "code",
   "execution_count": null,
   "metadata": {},
   "outputs": [],
   "source": [
    "lrw_model = LinearRegression()\n",
    "lrw_model.fit(x_train_data.reshape(-1,1), train_data,\n",
    "             sample_weight= [i**5 for i in x_train_data])"
   ]
  },
  {
   "cell_type": "code",
   "execution_count": null,
   "metadata": {},
   "outputs": [],
   "source": [
    "y_pred_lr_w = lrw_model.predict(x_test_data.reshape(-1, 1))"
   ]
  },
  {
   "cell_type": "code",
   "execution_count": null,
   "metadata": {},
   "outputs": [],
   "source": [
    "fig, ax = plt.subplots(1, 1, figsize=(10, 3))\n",
    "ax.plot(x_train_data, train_data, label='train')\n",
    "ax.plot(x_test_data, y_pred_lr, label='linear regression')\n",
    "ax.plot(x_test_data, y_pred_lr_w, label='linear regression weighted')\n",
    "ax.plot(x_test_data, y_pred_mean, label='mean')\n",
    "ax.plot(x_test_data, test_data, label='real')\n",
    "plt.legend()\n",
    "plt.tight_layout()"
   ]
  },
  {
   "cell_type": "code",
   "execution_count": null,
   "metadata": {},
   "outputs": [],
   "source": [
    "print('MAE in mean model: ', mae(test_data.values, y_pred_mean))\n",
    "print('MAE in linear regression model: ', mae(test_data.values, y_pred_lr))\n",
    "print('MAE in weighted linear regression model: ', mae(test_data.values, y_pred_lr_w))\n",
    "\n",
    "print('RMSE in mean model: ', rmse(test_data.values, y_pred_mean))\n",
    "print('RMSE in linear regression model: ', rmse(test_data.values, y_pred_lr))\n",
    "print('RMSE in weighted linear regression model: ', rmse(test_data.values, y_pred_lr_w))"
   ]
  },
  {
   "cell_type": "code",
   "execution_count": null,
   "metadata": {},
   "outputs": [],
   "source": [
    "model = LinearRegression()\n",
    "model.fit(x_train.reshape(-1, 1), train_1.reshape(-1,1))"
   ]
  },
  {
   "cell_type": "code",
   "execution_count": null,
   "metadata": {},
   "outputs": [],
   "source": [
    "train_log_trend = (train_1.reshape(-1,1) - model.predict(x_train.reshape(-1, 1))).squeeze()\n",
    "\n",
    "fig, ax = plt.subplots(1, 1, figsize=(12, 3))\n",
    "ax.plot(x_train.reshape(-1,1), train_log_trend.reshape(-1,1))"
   ]
  },
  {
   "cell_type": "code",
   "execution_count": null,
   "metadata": {},
   "outputs": [],
   "source": [
    "type(train_log_trend)"
   ]
  },
  {
   "cell_type": "code",
   "execution_count": null,
   "metadata": {},
   "outputs": [],
   "source": [
    "train_log_trend = pd.DataFrame(train_log_trend)"
   ]
  },
  {
   "cell_type": "code",
   "execution_count": null,
   "metadata": {},
   "outputs": [],
   "source": [
    "train_log_trend.replace(to_replace= -np.inf, value= 0.479792, inplace= True)"
   ]
  },
  {
   "cell_type": "code",
   "execution_count": null,
   "metadata": {},
   "outputs": [],
   "source": [
    "train_log_trend.head()"
   ]
  },
  {
   "cell_type": "markdown",
   "metadata": {},
   "source": [
    "# REGRESIÓN POLINOMICA"
   ]
  },
  {
   "cell_type": "code",
   "execution_count": null,
   "metadata": {},
   "outputs": [],
   "source": [
    "prueba.shape"
   ]
  },
  {
   "cell_type": "code",
   "execution_count": null,
   "metadata": {},
   "outputs": [],
   "source": [
    "TEST_SIZE = 310"
   ]
  },
  {
   "cell_type": "code",
   "execution_count": null,
   "metadata": {},
   "outputs": [],
   "source": [
    "x_prueba = np.arange(13128)\n",
    "x_prueba = np.reshape(x_prueba, (1094,12))"
   ]
  },
  {
   "cell_type": "code",
   "execution_count": null,
   "metadata": {},
   "outputs": [],
   "source": [
    "x_train_prueba =  x_prueba[:-TEST_SIZE]"
   ]
  },
  {
   "cell_type": "code",
   "execution_count": null,
   "metadata": {},
   "outputs": [],
   "source": [
    "x_test_prueba = x_prueba[-TEST_SIZE:]"
   ]
  },
  {
   "cell_type": "code",
   "execution_count": null,
   "metadata": {},
   "outputs": [],
   "source": [
    "prueba_train, prueba_test = prueba[:-TEST_SIZE], prueba[-TEST_SIZE:]"
   ]
  },
  {
   "cell_type": "code",
   "execution_count": null,
   "metadata": {},
   "outputs": [],
   "source": [
    "prueba_train_1 = prueba_train.values"
   ]
  },
  {
   "cell_type": "code",
   "execution_count": null,
   "metadata": {},
   "outputs": [],
   "source": [
    "prueba_test_1 = prueba_test.values"
   ]
  },
  {
   "cell_type": "code",
   "execution_count": null,
   "metadata": {},
   "outputs": [],
   "source": [
    "prueba = prueba.reset_index()"
   ]
  },
  {
   "cell_type": "code",
   "execution_count": null,
   "metadata": {},
   "outputs": [],
   "source": [
    "prueba.head()"
   ]
  },
  {
   "cell_type": "code",
   "execution_count": null,
   "metadata": {},
   "outputs": [],
   "source": [
    "prueba.dtypes"
   ]
  },
  {
   "cell_type": "code",
   "execution_count": null,
   "metadata": {},
   "outputs": [],
   "source": [
    "prueba.shape"
   ]
  },
  {
   "cell_type": "code",
   "execution_count": null,
   "metadata": {},
   "outputs": [],
   "source": [
    "prueba['DATA'] = prueba['DATA'].astype(int)"
   ]
  },
  {
   "cell_type": "code",
   "execution_count": null,
   "metadata": {},
   "outputs": [],
   "source": [
    "prueba['DATA'] = np.arange(1094)"
   ]
  },
  {
   "cell_type": "code",
   "execution_count": null,
   "metadata": {},
   "outputs": [],
   "source": [
    "prueba.head()"
   ]
  },
  {
   "cell_type": "code",
   "execution_count": null,
   "metadata": {},
   "outputs": [],
   "source": [
    "prueba.set_index('DATA', inplace = True)"
   ]
  },
  {
   "cell_type": "code",
   "execution_count": null,
   "metadata": {},
   "outputs": [],
   "source": [
    "prueba.dtypes"
   ]
  },
  {
   "cell_type": "code",
   "execution_count": null,
   "metadata": {},
   "outputs": [],
   "source": [
    "prueba.head()"
   ]
  },
  {
   "cell_type": "code",
   "execution_count": null,
   "metadata": {},
   "outputs": [],
   "source": [
    "from sklearn.preprocessing import PolynomialFeatures"
   ]
  },
  {
   "cell_type": "code",
   "execution_count": null,
   "metadata": {},
   "outputs": [],
   "source": [
    "poli_reg = PolynomialFeatures(degree = 3)"
   ]
  },
  {
   "cell_type": "code",
   "execution_count": null,
   "metadata": {},
   "outputs": [],
   "source": [
    "x_train_poli = poli_reg.fit_transform(x_train_prueba)"
   ]
  },
  {
   "cell_type": "code",
   "execution_count": null,
   "metadata": {},
   "outputs": [],
   "source": [
    "x_test_poli = poli_reg.fit_transform(x_test_prueba)"
   ]
  },
  {
   "cell_type": "code",
   "execution_count": null,
   "metadata": {},
   "outputs": [],
   "source": [
    "pr = LinearRegression()"
   ]
  },
  {
   "cell_type": "code",
   "execution_count": null,
   "metadata": {},
   "outputs": [],
   "source": [
    "pr.fit(x_train_poli, prueba_train)"
   ]
  },
  {
   "cell_type": "code",
   "execution_count": null,
   "metadata": {},
   "outputs": [],
   "source": [
    "y_pred_pr = pr.predict(x_test_poli)"
   ]
  },
  {
   "cell_type": "code",
   "execution_count": null,
   "metadata": {},
   "outputs": [],
   "source": [
    "fig, ax = plt.subplots(1, 1, figsize=(15, 10))\n",
    "ax.plot(x_train_prueba, prueba_train_1, label='train')\n",
    "ax.plot(x_test_prueba, prueba_test_1, label='real')\n",
    "ax.plot(x_test_prueba, y_pred_pr, label='poli')\n",
    "plt.legend()\n",
    "plt.tight_layout()"
   ]
  },
  {
   "cell_type": "code",
   "execution_count": null,
   "metadata": {},
   "outputs": [],
   "source": [
    "fig, ax = plt.subplots(1, 1, figsize=(15, 10))\n",
    "ax.plot(x_train_prueba.reshape(-1,1), prueba_train_1.reshape(-1,1), label='train')\n",
    "ax.plot(x_test_prueba.reshape(-1,1), prueba_test_1.reshape(-1,1), label='real')\n",
    "ax.plot(x_test_prueba.reshape(-1,1), y_pred_pr.reshape(-1,1), label='poli')\n",
    "plt.legend()\n",
    "plt.tight_layout()"
   ]
  },
  {
   "cell_type": "markdown",
   "metadata": {},
   "source": [
    "# ARBRES"
   ]
  },
  {
   "cell_type": "code",
   "execution_count": null,
   "metadata": {},
   "outputs": [],
   "source": [
    "from sklearn.tree import DecisionTreeRegressor"
   ]
  },
  {
   "cell_type": "code",
   "execution_count": null,
   "metadata": {},
   "outputs": [],
   "source": [
    "tree_model = DecisionTreeRegressor()"
   ]
  },
  {
   "cell_type": "code",
   "execution_count": null,
   "metadata": {},
   "outputs": [],
   "source": [
    "tree_model.fit(x_train.reshape(-1,1), train_1.reshape(-1,1))"
   ]
  },
  {
   "cell_type": "code",
   "execution_count": null,
   "metadata": {},
   "outputs": [],
   "source": [
    "y_pred_tree = tree_model.predict(x_test.reshape(-1,1))"
   ]
  },
  {
   "cell_type": "code",
   "execution_count": null,
   "metadata": {},
   "outputs": [],
   "source": [
    "fig, ax = plt.subplots(1, 1, figsize=(15, 5))\n",
    "ax.plot(x_train.reshape(-1,1), train_1.reshape(-1,1), label='Real')\n",
    "ax.plot(x_test.reshape(-1,1), y_pred_tree, label='Prediction', linewidth =5)\n",
    "ax.plot(x_test.reshape(-1,1), test_1.reshape(-1,1), label = 'Test')\n",
    "ax.legend()"
   ]
  },
  {
   "cell_type": "code",
   "execution_count": null,
   "metadata": {},
   "outputs": [],
   "source": [
    "fig, ax = plt.subplots(1, 1, figsize=(15, 5))\n",
    "ax.plot(x_train.reshape(-1,1), train_1.reshape(-1,1), label='Train')\n",
    "ax.plot(x_test.reshape(-1,1), test_1.reshape(-1,1), label='Real')\n",
    "ax.plot(x_test.reshape(-1,1), y_pred_tree, label='Prediction')\n",
    "ax.legend()"
   ]
  },
  {
   "cell_type": "code",
   "execution_count": null,
   "metadata": {},
   "outputs": [],
   "source": [
    "tree_model = DecisionTreeRegressor(max_depth=7)"
   ]
  },
  {
   "cell_type": "code",
   "execution_count": null,
   "metadata": {},
   "outputs": [],
   "source": [
    "tree_model.fit(x_train.reshape(-1,1), train_1.reshape(-1,1))"
   ]
  },
  {
   "cell_type": "code",
   "execution_count": null,
   "metadata": {},
   "outputs": [],
   "source": [
    "y_pred_tree = tree_model.predict(x_train.reshape(-1,1))"
   ]
  },
  {
   "cell_type": "code",
   "execution_count": null,
   "metadata": {},
   "outputs": [],
   "source": [
    "fig, ax = plt.subplots(1, 1, figsize=(15, 5))\n",
    "ax.plot(x_train.reshape(-1,1), train_1.reshape(-1,1), label='Real')\n",
    "ax.plot(x_train.reshape(-1,1), y_pred_tree, label='Prediction')\n",
    "ax.legend()"
   ]
  },
  {
   "cell_type": "markdown",
   "metadata": {},
   "source": [
    "# RANDOM FOREST"
   ]
  },
  {
   "cell_type": "code",
   "execution_count": null,
   "metadata": {},
   "outputs": [],
   "source": [
    "from sklearn import ensemble"
   ]
  },
  {
   "cell_type": "code",
   "execution_count": null,
   "metadata": {},
   "outputs": [],
   "source": [
    "rf_model = ensemble.RandomForestRegressor(n_estimators=100, max_depth=20)\n",
    "rf_model.fit(x_train.reshape(-1,1), train_1.reshape(-1,1))\n",
    "y_pred_rf = rf_model.predict(x_test.reshape(-1,1))"
   ]
  },
  {
   "cell_type": "code",
   "execution_count": null,
   "metadata": {},
   "outputs": [],
   "source": [
    "fig, ax = plt.subplots(1, 1, figsize=(15, 5))\n",
    "ax.plot(x_train.reshape(-1,1), train_1.reshape(-1,1))\n",
    "ax.plot(x_test.reshape(-1,1), test_1.reshape(-1,1), label='Real')\n",
    "ax.plot(x_test.reshape(-1,1), y_pred_rf, label='Prediction')"
   ]
  },
  {
   "cell_type": "code",
   "execution_count": null,
   "metadata": {},
   "outputs": [],
   "source": [
    "x_train.reshape(-1,1).shape"
   ]
  },
  {
   "cell_type": "code",
   "execution_count": null,
   "metadata": {},
   "outputs": [],
   "source": [
    "x_test.reshape(-1,1).shape"
   ]
  },
  {
   "cell_type": "code",
   "execution_count": null,
   "metadata": {},
   "outputs": [],
   "source": [
    "x_train_month = np.hstack((x_train.reshape(-1,1), np.array(list(range(147)) * 64).reshape(-1,1)))\n",
    "x_test_month = np.hstack((x_test.reshape(-1,1), np.array(list(range(93)) * 40).reshape(-1,1)))"
   ]
  },
  {
   "cell_type": "code",
   "execution_count": null,
   "metadata": {},
   "outputs": [],
   "source": [
    "rf_model = ensemble.RandomForestRegressor(n_estimators=100, max_depth=20)\n",
    "rf_model.fit(x_train_month, train_1.reshape(-1,1))\n",
    "y_pred_rf = rf_model.predict(x_test_month)\n",
    "\n",
    "fig, ax = plt.subplots(1, 1, figsize=(15, 5))\n",
    "ax.plot(x_train.reshape(-1,1), train_1.reshape(-1,1), label='Train')\n",
    "ax.plot(x_test.reshape(-1,1), test_1.reshape(-1,1), label='Real')\n",
    "ax.plot(x_test.reshape(-1,1), y_pred_rf, label='Prediction')\n",
    "ax.legend()"
   ]
  },
  {
   "cell_type": "code",
   "execution_count": null,
   "metadata": {},
   "outputs": [],
   "source": [
    "x_train_month_year = np.hstack((x_train_month, np.repeat(list(range(147)), 64).reshape(-1,1)))\n",
    "x_test_month_year = np.hstack((x_test_month, np.repeat(list(range(1,94)), 40).reshape(-1,1)))"
   ]
  },
  {
   "cell_type": "code",
   "execution_count": null,
   "metadata": {},
   "outputs": [],
   "source": [
    "rf_model = ensemble.RandomForestRegressor(n_estimators=100, max_depth=20)\n",
    "rf_model.fit(x_train_month_year, train_1.reshape(-1,1))\n",
    "y_pred_rf = rf_model.predict(x_test_month_year)\n",
    "\n",
    "fig, ax = plt.subplots(1, 1, figsize=(15, 5))\n",
    "ax.plot(x_train.reshape(-1,1), train_1.reshape(-1,1))\n",
    "ax.plot(x_test.reshape(-1,1), test_1.reshape(-1,1), label='Real')\n",
    "ax.plot(x_test.reshape(-1,1), y_pred_rf, label='Prediction')\n",
    "ax.legend()"
   ]
  },
  {
   "cell_type": "markdown",
   "metadata": {},
   "source": [
    "# XGBOOST"
   ]
  },
  {
   "cell_type": "code",
   "execution_count": null,
   "metadata": {},
   "outputs": [],
   "source": [
    "from xgboost import XGBRegressor, plot_tree, plot_importance"
   ]
  },
  {
   "cell_type": "code",
   "execution_count": null,
   "metadata": {},
   "outputs": [],
   "source": [
    "xgb_model = XGBRegressor(n_estimators=100, max_depth=4)\n",
    "xgb_model.fit(x_train_month_year, train_1.reshape(-1,1))\n",
    "y_pred_xgb = xgb_model.predict(x_test_month_year)"
   ]
  },
  {
   "cell_type": "code",
   "execution_count": null,
   "metadata": {},
   "outputs": [],
   "source": [
    "fig, ax = plt.subplots(1, 1, figsize=(15, 5))\n",
    "ax.plot(x_train.reshape(-1,1), train_1.reshape(-1,1))\n",
    "ax.plot(x_test.reshape(-1,1), test_1.reshape(-1,1), label='Real')\n",
    "ax.plot(x_test.reshape(-1,1), y_pred_xgb, label='Prediction')"
   ]
  },
  {
   "cell_type": "code",
   "execution_count": null,
   "metadata": {},
   "outputs": [],
   "source": [
    "xgb_model = XGBRegressor(n_estimators=100, max_depth=3, learning_rate=1)\n",
    "xgb_model.fit(x_train_month_year, train_1.reshape(-1,1))\n",
    "y_pred_xgb = xgb_model.predict(x_test_month_year)\n",
    "\n",
    "\n",
    "\n",
    "fig, ax = plt.subplots(1, 1, figsize=(15, 5))\n",
    "ax.plot(x_train.reshape(-1,1), train_1.reshape(-1,1))\n",
    "ax.plot(x_test.reshape(-1,1), test_1.reshape(-1,1), label='Real')\n",
    "ax.plot(x_test.reshape(-1,1), y_pred_xgb, label='Prediction')"
   ]
  },
  {
   "cell_type": "code",
   "execution_count": null,
   "metadata": {},
   "outputs": [],
   "source": [
    "x_train_month_year_2ylag = np.hstack(((train_1.reshape(-1,1)[24:] / train_1.reshape(-1,1)[:-24])[:-24],\n",
    "                                      (train_1.reshape(-1,1)[24:] - train_1.reshape(-1,1)[:-24])[:-24],\n",
    "                                      x_train_month_year[48:,:]))"
   ]
  },
  {
   "cell_type": "code",
   "execution_count": null,
   "metadata": {},
   "outputs": [],
   "source": [
    "x_test_month_year_2ylag = np.hstack(((train_1[100:].reshape(-1,1) / train_1[:-100].reshape(-1,1))[:3720],\n",
    "                                     (train_1[100:].reshape(-1,1) - train_1[:-100].reshape(-1,1))[:3720],\n",
    "                                     x_test_month_year))"
   ]
  },
  {
   "cell_type": "code",
   "execution_count": null,
   "metadata": {
    "scrolled": true
   },
   "outputs": [],
   "source": [
    "xgb_model = XGBRegressor(n_estimators=300, max_depth=3, learning_rate= 1.4)\n",
    "xgb_model.fit(x_train_month_year_2ylag, train_1.reshape(-1,1)[48:])\n",
    "y_pred_xgb_2ylag = xgb_model.predict(x_test_month_year_2ylag)\n",
    "\n",
    "fig, ax = plt.subplots(1, 1, figsize=(15, 5))\n",
    "ax.plot(x_train.reshape(-1,1), train_1.reshape(-1,1), label='Train')\n",
    "ax.plot(x_test.reshape(-1,1), test_1.reshape(-1,1), label='Real')\n",
    "#ax.plot(x_test.reshape(-1,1), y_pred_xgb, label='Prediction')\n",
    "ax.plot(x_test.reshape(-1,1), y_pred_xgb_2ylag, label='Prediction 2y lag')\n",
    "ax.legend()"
   ]
  },
  {
   "cell_type": "code",
   "execution_count": null,
   "metadata": {},
   "outputs": [],
   "source": [
    "print(xgb_model.score(x_train_month_year_2ylag, train_1.reshape(-1,1)[48:]))"
   ]
  },
  {
   "cell_type": "code",
   "execution_count": null,
   "metadata": {},
   "outputs": [],
   "source": [
    "fig, ax = plt.subplots(1, 1, figsize=(15, 5))\n",
    "ax.plot(x_train.reshape(-1,1), train_1.reshape(-1,1), label='Train')\n",
    "ax.plot(x_test.reshape(-1,1), test_1.reshape(-1,1), label='Real')\n",
    "ax.plot(x_test.reshape(-1,1), y_pred_xgb, label='Prediction')\n",
    "ax.plot(x_test.reshape(-1,1), y_pred_xgb_2ylag, label='Prediction 2y lag')\n",
    "ax.legend()"
   ]
  },
  {
   "cell_type": "code",
   "execution_count": null,
   "metadata": {},
   "outputs": [],
   "source": [
    "plt.figure()\n",
    "plot_importance(xgb_model, importance_type='gain')"
   ]
  },
  {
   "cell_type": "code",
   "execution_count": null,
   "metadata": {},
   "outputs": [],
   "source": [
    "train_log_trend = train_log_trend.values"
   ]
  },
  {
   "cell_type": "code",
   "execution_count": null,
   "metadata": {},
   "outputs": [],
   "source": [
    "fig, ax = plt.subplots(1, 1)\n",
    "ax.plot(x_train.reshape(-1,1), train_log_trend.reshape(-1,1))"
   ]
  },
  {
   "cell_type": "code",
   "execution_count": null,
   "metadata": {},
   "outputs": [],
   "source": [
    "xgb_model = XGBRegressor(n_estimators=500, max_depth=3, learning_rate=1.2)\n",
    "xgb_model.fit(x_train_month_year_2ylag, train_log_trend.reshape(-1,1)[48:])\n",
    "y_pred_xgb_2ylag_wotrend = xgb_model.predict(x_test_month_year_2ylag)"
   ]
  },
  {
   "cell_type": "code",
   "execution_count": null,
   "metadata": {},
   "outputs": [],
   "source": [
    "xgb_model.score(x_train_month_year_2ylag, train_log_trend.reshape(-1,1)[48:])"
   ]
  },
  {
   "cell_type": "code",
   "execution_count": null,
   "metadata": {},
   "outputs": [],
   "source": [
    "fig, ax = plt.subplots(1, 1)\n",
    "ax.plot(x_train.reshape(-1,1), train_1.reshape(-1,1), label ='Train')\n",
    "ax.plot(x_test.reshape(-1,1), y_pred_xgb_2ylag_wotrend, label ='Test')\n",
    "ax.legend()"
   ]
  },
  {
   "cell_type": "code",
   "execution_count": null,
   "metadata": {},
   "outputs": [],
   "source": [
    "y_pred_xgb_2ylag_desc = (y_pred_xgb_2ylag_wotrend + model.predict(x_test.reshape(-1, 1)).squeeze())"
   ]
  },
  {
   "cell_type": "code",
   "execution_count": null,
   "metadata": {},
   "outputs": [],
   "source": [
    "fig, ax = plt.subplots(1, 1, figsize=(15, 5))\n",
    "ax.plot(x_train.reshape(-1,1), train_1.reshape(-1,1))\n",
    "ax.plot(x_test.reshape(-1,1), test_1.reshape(-1,1), label='Real')\n",
    "ax.legend()"
   ]
  },
  {
   "cell_type": "code",
   "execution_count": null,
   "metadata": {},
   "outputs": [],
   "source": [
    "fig, ax = plt.subplots(1, 1, figsize=(15, 5))\n",
    "ax.plot(x_train.reshape(-1,1), train_1.reshape(-1,1), label='Train')\n",
    "ax.plot(x_test.reshape(-1,1), y_pred_xgb_2ylag, label='Prediction 2y lag')\n",
    "ax.legend()"
   ]
  },
  {
   "cell_type": "code",
   "execution_count": null,
   "metadata": {
    "scrolled": false
   },
   "outputs": [],
   "source": [
    "fig, ax = plt.subplots(1, 1, figsize=(15, 5))\n",
    "ax.plot(x_train.reshape(-1,1), train_1.reshape(-1,1))\n",
    "ax.plot(x_test.reshape(-1,1), test_1.reshape(-1,1), label='Real')\n",
    "\n",
    "#ax.plot(x_test, forecast_daily, linewidth='3', linestyle='--', markersize= 0.2, marker='o')\n",
    "#ax.plot(x_test.reshape(-1,1), y_pred_xgb, label='Prediction seasonality')\n",
    "#ax.plot(x_test.reshape(-1,1), y_pred_xgb_2ylag, label='Prediction 2y lag')\n",
    "#ax.plot(x_test.reshape(-1,1), y_pred_xgb_2ylag_wotrend, label='wotrend')\n",
    "ax.plot(x_test.reshape(-1,1), y_pred_xgb_2ylag_desc, label='Prediction 2y lag with desc')\n",
    "ax.legend()"
   ]
  },
  {
   "cell_type": "code",
   "execution_count": null,
   "metadata": {},
   "outputs": [],
   "source": [
    "xgb_model.score(x_test_month_year_2ylag, y_pred_xgb_2ylag_desc)"
   ]
  }
 ],
 "metadata": {
  "kernelspec": {
   "display_name": "Python 3",
   "language": "python",
   "name": "python3"
  },
  "language_info": {
   "codemirror_mode": {
    "name": "ipython",
    "version": 3
   },
   "file_extension": ".py",
   "mimetype": "text/x-python",
   "name": "python",
   "nbconvert_exporter": "python",
   "pygments_lexer": "ipython3",
   "version": "3.7.5"
  }
 },
 "nbformat": 4,
 "nbformat_minor": 2
}
