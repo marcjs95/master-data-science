{
 "cells": [
  {
   "cell_type": "code",
   "execution_count": 181,
   "metadata": {},
   "outputs": [],
   "source": [
    "import pandas as pd\n",
    "import numpy as np\n",
    "import time\n",
    "import datetime \n",
    "import scipy.stats\n",
    "import calendar\n",
    "from matplotlib import pyplot as plt\n",
    "import seaborn as sns\n",
    "pd.options.display.max_rows = 53000\n",
    "%matplotlib inline"
   ]
  },
  {
   "cell_type": "code",
   "execution_count": 182,
   "metadata": {},
   "outputs": [],
   "source": [
    "data = pd.read_csv('/mnt/c/users/marcj/Desktop/MASTER/TFM/DADES POLLUTION/master-data-science/data/Sants/seriecontSan-19-NO2', parse_dates= ['DATA'], index_col='DATA',header=0)"
   ]
  },
  {
   "cell_type": "code",
   "execution_count": 183,
   "metadata": {},
   "outputs": [],
   "source": [
    "vent_uni = pd.read_csv('/mnt/c/users/marcj/Desktop/MASTER/TFM/DADES POLLUTION/master-data-science/data/meteo/meteo-vent-zonauniversitaria', parse_dates= ['DATA'], index_col='DATA',header=0)"
   ]
  },
  {
   "cell_type": "code",
   "execution_count": 184,
   "metadata": {},
   "outputs": [],
   "source": [
    "temp_uni = pd.read_csv('/mnt/c/users/marcj/Desktop/MASTER/TFM/DADES POLLUTION/master-data-science/data/meteo/meteo-temp-zonauniversitaria', parse_dates= ['DATA'], index_col='DATA',header=0)"
   ]
  },
  {
   "cell_type": "code",
   "execution_count": 185,
   "metadata": {},
   "outputs": [],
   "source": [
    "hum_uni = pd.read_csv('/mnt/c/users/marcj/Desktop/MASTER/TFM/DADES POLLUTION/master-data-science/data/meteo/meteo-hum-zonauniversitaria', parse_dates= ['DATA'], index_col='DATA',header=0)"
   ]
  },
  {
   "cell_type": "code",
   "execution_count": 186,
   "metadata": {},
   "outputs": [],
   "source": [
    "hum_uni = np.log(hum_uni)"
   ]
  },
  {
   "cell_type": "code",
   "execution_count": 187,
   "metadata": {},
   "outputs": [],
   "source": [
    "prep_uni = pd.read_csv('/mnt/c/users/marcj/Desktop/MASTER/TFM/DADES POLLUTION/master-data-science/data/meteo/meteo-prep-zonauniversitaria', parse_dates= ['DATA'], index_col='DATA',header=0)"
   ]
  },
  {
   "cell_type": "code",
   "execution_count": 188,
   "metadata": {},
   "outputs": [],
   "source": [
    "pre_uni = pd.read_csv('/mnt/c/users/marcj/Desktop/MASTER/TFM/DADES POLLUTION/master-data-science/data/meteo/meteo-pressio-zonauniversitaria', parse_dates= ['DATA'], index_col='DATA',header=0)"
   ]
  },
  {
   "cell_type": "code",
   "execution_count": 189,
   "metadata": {},
   "outputs": [],
   "source": [
    "pre_uni = np.log(pre_uni)"
   ]
  },
  {
   "cell_type": "code",
   "execution_count": 190,
   "metadata": {},
   "outputs": [],
   "source": [
    "vent_raval = pd.read_csv('/mnt/c/users/marcj/Desktop/MASTER/TFM/DADES POLLUTION/master-data-science/data/meteo/meteo-vent-raval', parse_dates= ['DATA'], index_col='DATA',header=0)"
   ]
  },
  {
   "cell_type": "code",
   "execution_count": 191,
   "metadata": {},
   "outputs": [],
   "source": [
    "temp_raval = pd.read_csv('/mnt/c/users/marcj/Desktop/MASTER/TFM/DADES POLLUTION/master-data-science/data/meteo/meteo-temp-raval', parse_dates= ['DATA'], index_col='DATA',header=0)"
   ]
  },
  {
   "cell_type": "code",
   "execution_count": 192,
   "metadata": {},
   "outputs": [],
   "source": [
    "hum_raval = pd.read_csv('/mnt/c/users/marcj/Desktop/MASTER/TFM/DADES POLLUTION/master-data-science/data/meteo/meteo-hum-raval', parse_dates= ['DATA'], index_col='DATA',header=0)"
   ]
  },
  {
   "cell_type": "code",
   "execution_count": 193,
   "metadata": {},
   "outputs": [],
   "source": [
    "prep_raval = pd.read_csv('/mnt/c/users/marcj/Desktop/MASTER/TFM/DADES POLLUTION/master-data-science/data/meteo/meteo-prep-raval', parse_dates= ['DATA'], index_col='DATA',header=0)"
   ]
  },
  {
   "cell_type": "code",
   "execution_count": 194,
   "metadata": {},
   "outputs": [],
   "source": [
    "pre_raval = pd.read_csv('/mnt/c/users/marcj/Desktop/MASTER/TFM/DADES POLLUTION/master-data-science/data/meteo/meteo-pressio-raval', parse_dates= ['DATA'], index_col='DATA',header=0)"
   ]
  },
  {
   "cell_type": "code",
   "execution_count": 195,
   "metadata": {},
   "outputs": [],
   "source": [
    "pre_raval = np.log(pre_raval)"
   ]
  },
  {
   "cell_type": "code",
   "execution_count": 196,
   "metadata": {},
   "outputs": [],
   "source": [
    "trans_2020 = pd.read_csv('/mnt/c/users/marcj/Desktop/MASTER/TFM/DADES POLLUTION/master-data-science/data/transit/transit-2020', parse_dates= ['DATA'], index_col='DATA',header=0)"
   ]
  },
  {
   "cell_type": "code",
   "execution_count": 197,
   "metadata": {},
   "outputs": [],
   "source": [
    "trans_2020 = np.log(trans_2020)"
   ]
  },
  {
   "cell_type": "code",
   "execution_count": 198,
   "metadata": {},
   "outputs": [],
   "source": [
    "trans_2021 = pd.read_csv('/mnt/c/users/marcj/Desktop/MASTER/TFM/DADES POLLUTION/master-data-science/data/transit/transit-2021', parse_dates= ['DATA'], index_col='DATA',header=0)"
   ]
  },
  {
   "cell_type": "code",
   "execution_count": 199,
   "metadata": {},
   "outputs": [],
   "source": [
    "trans_2021 = np.log(trans_2021)"
   ]
  },
  {
   "cell_type": "code",
   "execution_count": 200,
   "metadata": {},
   "outputs": [],
   "source": [
    "vent_uni.rename(columns={'VALOR_LECTURA':'VENT'}, inplace=True)"
   ]
  },
  {
   "cell_type": "code",
   "execution_count": 201,
   "metadata": {},
   "outputs": [],
   "source": [
    "temp_uni.rename(columns={'VALOR_LECTURA':'TEMP'}, inplace=True)"
   ]
  },
  {
   "cell_type": "code",
   "execution_count": 202,
   "metadata": {},
   "outputs": [],
   "source": [
    "hum_uni.rename(columns={'VALOR_LECTURA':'HUM'}, inplace=True)"
   ]
  },
  {
   "cell_type": "code",
   "execution_count": 203,
   "metadata": {},
   "outputs": [],
   "source": [
    "prep_uni.rename(columns={'VALOR_LECTURA':'PREP'}, inplace=True)"
   ]
  },
  {
   "cell_type": "code",
   "execution_count": 204,
   "metadata": {},
   "outputs": [],
   "source": [
    "pre_uni.rename(columns={'VALOR_LECTURA':'PRE'}, inplace=True)"
   ]
  },
  {
   "cell_type": "code",
   "execution_count": 205,
   "metadata": {},
   "outputs": [],
   "source": [
    "vent_raval.rename(columns={'VALOR_LECTURA':'VENT_RAVAL'}, inplace=True)"
   ]
  },
  {
   "cell_type": "code",
   "execution_count": 206,
   "metadata": {},
   "outputs": [],
   "source": [
    "temp_raval.rename(columns={'VALOR_LECTURA':'TEMP_RAVAL'}, inplace=True)"
   ]
  },
  {
   "cell_type": "code",
   "execution_count": 207,
   "metadata": {},
   "outputs": [],
   "source": [
    "hum_raval.rename(columns={'VALOR_LECTURA':'HUM-RAVAL'}, inplace=True)"
   ]
  },
  {
   "cell_type": "code",
   "execution_count": 208,
   "metadata": {},
   "outputs": [],
   "source": [
    "prep_raval.rename(columns={'VALOR_LECTURA':'PREP_RAVAL'}, inplace=True)"
   ]
  },
  {
   "cell_type": "code",
   "execution_count": 209,
   "metadata": {},
   "outputs": [],
   "source": [
    "pre_raval.rename(columns={'VALOR_LECTURA':'PRE_RAVAL'}, inplace=True)"
   ]
  },
  {
   "cell_type": "code",
   "execution_count": 210,
   "metadata": {},
   "outputs": [],
   "source": [
    "trans_2020.rename(columns={'Valor_IMD':'2020'}, inplace=True)"
   ]
  },
  {
   "cell_type": "code",
   "execution_count": 211,
   "metadata": {},
   "outputs": [],
   "source": [
    "trans_2021.rename(columns={'Valor_IMD':'2021'}, inplace=True)"
   ]
  },
  {
   "cell_type": "code",
   "execution_count": 212,
   "metadata": {},
   "outputs": [],
   "source": [
    "final = pd.merge(data, vent_uni, on= 'DATA')"
   ]
  },
  {
   "cell_type": "code",
   "execution_count": 213,
   "metadata": {},
   "outputs": [],
   "source": [
    "final = pd.merge(final, temp_uni, on = 'DATA')"
   ]
  },
  {
   "cell_type": "code",
   "execution_count": 214,
   "metadata": {},
   "outputs": [],
   "source": [
    "final = pd.merge(final, hum_uni, on = 'DATA')"
   ]
  },
  {
   "cell_type": "code",
   "execution_count": 215,
   "metadata": {},
   "outputs": [],
   "source": [
    "final = pd.merge(final, prep_uni, on = 'DATA')"
   ]
  },
  {
   "cell_type": "code",
   "execution_count": 216,
   "metadata": {},
   "outputs": [],
   "source": [
    "final = pd.merge(final, pre_uni, on = 'DATA')"
   ]
  },
  {
   "cell_type": "code",
   "execution_count": 217,
   "metadata": {},
   "outputs": [],
   "source": [
    "final = pd.merge(final, trans_2020, on= 'DATA')"
   ]
  },
  {
   "cell_type": "code",
   "execution_count": 218,
   "metadata": {},
   "outputs": [],
   "source": [
    "final = pd.merge(final, trans_2021, on = 'DATA')"
   ]
  },
  {
   "cell_type": "code",
   "execution_count": 219,
   "metadata": {},
   "outputs": [],
   "source": [
    "final = pd.merge(final, vent_raval, on = 'DATA')"
   ]
  },
  {
   "cell_type": "code",
   "execution_count": 220,
   "metadata": {},
   "outputs": [],
   "source": [
    "final = pd.merge(final, temp_raval, on = 'DATA')"
   ]
  },
  {
   "cell_type": "code",
   "execution_count": 221,
   "metadata": {},
   "outputs": [],
   "source": [
    "final = pd.merge(final, hum_raval, on = 'DATA')"
   ]
  },
  {
   "cell_type": "code",
   "execution_count": 222,
   "metadata": {},
   "outputs": [],
   "source": [
    "final = pd.merge(final, pre_raval, on = 'DATA')"
   ]
  },
  {
   "cell_type": "code",
   "execution_count": 223,
   "metadata": {},
   "outputs": [],
   "source": [
    "final = pd.merge(final, prep_raval, on = 'DATA')"
   ]
  },
  {
   "cell_type": "code",
   "execution_count": 224,
   "metadata": {},
   "outputs": [
    {
     "data": {
      "text/html": [
       "<div>\n",
       "<style scoped>\n",
       "    .dataframe tbody tr th:only-of-type {\n",
       "        vertical-align: middle;\n",
       "    }\n",
       "\n",
       "    .dataframe tbody tr th {\n",
       "        vertical-align: top;\n",
       "    }\n",
       "\n",
       "    .dataframe thead th {\n",
       "        text-align: right;\n",
       "    }\n",
       "</style>\n",
       "<table border=\"1\" class=\"dataframe\">\n",
       "  <thead>\n",
       "    <tr style=\"text-align: right;\">\n",
       "      <th></th>\n",
       "      <th>H</th>\n",
       "      <th>VENT</th>\n",
       "      <th>TEMP</th>\n",
       "      <th>HUM</th>\n",
       "      <th>PREP</th>\n",
       "      <th>PRE</th>\n",
       "      <th>2020</th>\n",
       "      <th>2021</th>\n",
       "      <th>VENT_RAVAL</th>\n",
       "      <th>TEMP_RAVAL</th>\n",
       "      <th>HUM-RAVAL</th>\n",
       "      <th>PRE_RAVAL</th>\n",
       "      <th>PREP_RAVAL</th>\n",
       "    </tr>\n",
       "    <tr>\n",
       "      <th>DATA</th>\n",
       "      <th></th>\n",
       "      <th></th>\n",
       "      <th></th>\n",
       "      <th></th>\n",
       "      <th></th>\n",
       "      <th></th>\n",
       "      <th></th>\n",
       "      <th></th>\n",
       "      <th></th>\n",
       "      <th></th>\n",
       "      <th></th>\n",
       "      <th></th>\n",
       "      <th></th>\n",
       "    </tr>\n",
       "  </thead>\n",
       "  <tbody>\n",
       "    <tr>\n",
       "      <th>2017-01-01</th>\n",
       "      <td>78.5</td>\n",
       "      <td>3.4</td>\n",
       "      <td>12.9</td>\n",
       "      <td>4.418841</td>\n",
       "      <td>0.0</td>\n",
       "      <td>6.926381</td>\n",
       "      <td>9.802119</td>\n",
       "      <td>8.263590</td>\n",
       "      <td>2.6</td>\n",
       "      <td>13.1</td>\n",
       "      <td>13.1</td>\n",
       "      <td>6.931862</td>\n",
       "      <td>0.0</td>\n",
       "    </tr>\n",
       "    <tr>\n",
       "      <th>2017-01-02</th>\n",
       "      <td>75.0</td>\n",
       "      <td>3.1</td>\n",
       "      <td>14.8</td>\n",
       "      <td>4.521789</td>\n",
       "      <td>0.0</td>\n",
       "      <td>6.916219</td>\n",
       "      <td>9.828764</td>\n",
       "      <td>8.318498</td>\n",
       "      <td>3.0</td>\n",
       "      <td>15.7</td>\n",
       "      <td>15.7</td>\n",
       "      <td>6.921658</td>\n",
       "      <td>0.0</td>\n",
       "    </tr>\n",
       "    <tr>\n",
       "      <th>2017-01-03</th>\n",
       "      <td>67.0</td>\n",
       "      <td>6.3</td>\n",
       "      <td>15.5</td>\n",
       "      <td>4.343805</td>\n",
       "      <td>0.0</td>\n",
       "      <td>6.918102</td>\n",
       "      <td>9.918967</td>\n",
       "      <td>8.402231</td>\n",
       "      <td>4.0</td>\n",
       "      <td>15.6</td>\n",
       "      <td>15.6</td>\n",
       "      <td>6.923530</td>\n",
       "      <td>0.0</td>\n",
       "    </tr>\n",
       "    <tr>\n",
       "      <th>2017-01-04</th>\n",
       "      <td>40.0</td>\n",
       "      <td>3.8</td>\n",
       "      <td>15.3</td>\n",
       "      <td>4.543295</td>\n",
       "      <td>2.8</td>\n",
       "      <td>6.915327</td>\n",
       "      <td>9.535390</td>\n",
       "      <td>7.989221</td>\n",
       "      <td>3.2</td>\n",
       "      <td>14.9</td>\n",
       "      <td>14.9</td>\n",
       "      <td>6.920770</td>\n",
       "      <td>3.3</td>\n",
       "    </tr>\n",
       "    <tr>\n",
       "      <th>2017-01-05</th>\n",
       "      <td>42.5</td>\n",
       "      <td>3.7</td>\n",
       "      <td>16.9</td>\n",
       "      <td>4.394449</td>\n",
       "      <td>0.0</td>\n",
       "      <td>6.918695</td>\n",
       "      <td>9.230339</td>\n",
       "      <td>7.807917</td>\n",
       "      <td>4.0</td>\n",
       "      <td>17.5</td>\n",
       "      <td>17.5</td>\n",
       "      <td>6.924121</td>\n",
       "      <td>0.0</td>\n",
       "    </tr>\n",
       "  </tbody>\n",
       "</table>\n",
       "</div>"
      ],
      "text/plain": [
       "               H  VENT  TEMP       HUM  PREP       PRE      2020      2021  \\\n",
       "DATA                                                                         \n",
       "2017-01-01  78.5   3.4  12.9  4.418841   0.0  6.926381  9.802119  8.263590   \n",
       "2017-01-02  75.0   3.1  14.8  4.521789   0.0  6.916219  9.828764  8.318498   \n",
       "2017-01-03  67.0   6.3  15.5  4.343805   0.0  6.918102  9.918967  8.402231   \n",
       "2017-01-04  40.0   3.8  15.3  4.543295   2.8  6.915327  9.535390  7.989221   \n",
       "2017-01-05  42.5   3.7  16.9  4.394449   0.0  6.918695  9.230339  7.807917   \n",
       "\n",
       "            VENT_RAVAL  TEMP_RAVAL  HUM-RAVAL  PRE_RAVAL  PREP_RAVAL  \n",
       "DATA                                                                  \n",
       "2017-01-01         2.6        13.1       13.1   6.931862         0.0  \n",
       "2017-01-02         3.0        15.7       15.7   6.921658         0.0  \n",
       "2017-01-03         4.0        15.6       15.6   6.923530         0.0  \n",
       "2017-01-04         3.2        14.9       14.9   6.920770         3.3  \n",
       "2017-01-05         4.0        17.5       17.5   6.924121         0.0  "
      ]
     },
     "execution_count": 224,
     "metadata": {},
     "output_type": "execute_result"
    }
   ],
   "source": [
    "final.head()"
   ]
  },
  {
   "cell_type": "code",
   "execution_count": 225,
   "metadata": {},
   "outputs": [],
   "source": [
    "TEST_SIZE = 310"
   ]
  },
  {
   "cell_type": "code",
   "execution_count": 226,
   "metadata": {},
   "outputs": [],
   "source": [
    "train, test = final[:-TEST_SIZE], final[-TEST_SIZE:]"
   ]
  },
  {
   "cell_type": "code",
   "execution_count": 227,
   "metadata": {},
   "outputs": [
    {
     "data": {
      "text/plain": [
       "(785, 13)"
      ]
     },
     "execution_count": 227,
     "metadata": {},
     "output_type": "execute_result"
    }
   ],
   "source": [
    "train.shape"
   ]
  },
  {
   "cell_type": "code",
   "execution_count": 228,
   "metadata": {},
   "outputs": [],
   "source": [
    "train_1 = train.values\n",
    "test_1 = test.values"
   ]
  },
  {
   "cell_type": "code",
   "execution_count": 229,
   "metadata": {},
   "outputs": [
    {
     "data": {
      "text/plain": [
       "(785, 13)"
      ]
     },
     "execution_count": 229,
     "metadata": {},
     "output_type": "execute_result"
    }
   ],
   "source": [
    "train_1.shape"
   ]
  },
  {
   "cell_type": "code",
   "execution_count": 230,
   "metadata": {},
   "outputs": [],
   "source": [
    "x = np.arange(14235)\n",
    "x = np.reshape(x, (1095,13))"
   ]
  },
  {
   "cell_type": "code",
   "execution_count": 231,
   "metadata": {},
   "outputs": [],
   "source": [
    "x_train = x[:-TEST_SIZE]"
   ]
  },
  {
   "cell_type": "code",
   "execution_count": 232,
   "metadata": {},
   "outputs": [],
   "source": [
    "x_test = x[-TEST_SIZE:]"
   ]
  },
  {
   "cell_type": "code",
   "execution_count": 233,
   "metadata": {},
   "outputs": [],
   "source": [
    "prueba = pd.merge(data, vent_uni, on= 'DATA')"
   ]
  },
  {
   "cell_type": "code",
   "execution_count": 234,
   "metadata": {},
   "outputs": [],
   "source": [
    "prueba = pd.merge(prueba, temp_uni, on = 'DATA')"
   ]
  },
  {
   "cell_type": "code",
   "execution_count": 235,
   "metadata": {},
   "outputs": [],
   "source": [
    "prueba = pd.merge(prueba, hum_uni, on = 'DATA')"
   ]
  },
  {
   "cell_type": "code",
   "execution_count": 236,
   "metadata": {},
   "outputs": [],
   "source": [
    "prueba = pd.merge(prueba, prep_uni, on = 'DATA')"
   ]
  },
  {
   "cell_type": "code",
   "execution_count": 237,
   "metadata": {},
   "outputs": [],
   "source": [
    "prueba = pd.merge(prueba, pre_uni, on = 'DATA')"
   ]
  },
  {
   "cell_type": "code",
   "execution_count": 238,
   "metadata": {},
   "outputs": [],
   "source": [
    "prueba = pd.merge(prueba, trans_2020, on= 'DATA')"
   ]
  },
  {
   "cell_type": "code",
   "execution_count": 239,
   "metadata": {},
   "outputs": [],
   "source": [
    "prueba = pd.merge(prueba, trans_2021, on = 'DATA')"
   ]
  },
  {
   "cell_type": "code",
   "execution_count": 240,
   "metadata": {},
   "outputs": [],
   "source": [
    "prueba = pd.merge(prueba, vent_raval, on = 'DATA')"
   ]
  },
  {
   "cell_type": "code",
   "execution_count": 241,
   "metadata": {},
   "outputs": [],
   "source": [
    "prueba = pd.merge(prueba, temp_raval, on = 'DATA')"
   ]
  },
  {
   "cell_type": "code",
   "execution_count": 242,
   "metadata": {},
   "outputs": [],
   "source": [
    "prueba = pd.merge(prueba, hum_raval, on = 'DATA')"
   ]
  },
  {
   "cell_type": "code",
   "execution_count": 243,
   "metadata": {},
   "outputs": [],
   "source": [
    "prueba = pd.merge(prueba, pre_raval, on = 'DATA')"
   ]
  },
  {
   "cell_type": "code",
   "execution_count": 244,
   "metadata": {},
   "outputs": [],
   "source": [
    "prueba = pd.merge(prueba, prep_raval, on = 'DATA')"
   ]
  },
  {
   "cell_type": "markdown",
   "metadata": {},
   "source": [
    "# ARIMA / SARIMA"
   ]
  },
  {
   "cell_type": "code",
   "execution_count": 245,
   "metadata": {},
   "outputs": [
    {
     "name": "stderr",
     "output_type": "stream",
     "text": [
      "/home/marc/[/Usuarios/marcj/Descargas]/envs/masterds/lib/python3.7/site-packages/ipykernel_launcher.py:6: FutureWarning: Creating a DatetimeIndex by passing range endpoints is deprecated.  Use `pandas.date_range` instead.\n",
      "  \n"
     ]
    }
   ],
   "source": [
    "ultimo_fecha = max(data.index)\n",
    "ultimo_dia_mes = calendar.monthrange(ultimo_fecha.year, ultimo_fecha.month)[1]\n",
    "inicio = min(data.index).replace(day=1)\n",
    "fin = ultimo_fecha.replace(day=ultimo_dia_mes)\n",
    "\n",
    "index =pd.DatetimeIndex(start=inicio, end=fin, freq= '24h')\n",
    "data = data.reindex(index)"
   ]
  },
  {
   "cell_type": "code",
   "execution_count": 246,
   "metadata": {},
   "outputs": [
    {
     "data": {
      "text/plain": [
       "H    0\n",
       "dtype: int64"
      ]
     },
     "execution_count": 246,
     "metadata": {},
     "output_type": "execute_result"
    }
   ],
   "source": [
    "data.isnull().sum()"
   ]
  },
  {
   "cell_type": "code",
   "execution_count": 247,
   "metadata": {},
   "outputs": [],
   "source": [
    "mean = data['H'].astype(float).mean(skipna=True)"
   ]
  },
  {
   "cell_type": "code",
   "execution_count": 248,
   "metadata": {},
   "outputs": [],
   "source": [
    "data['H'].replace(to_replace=np.NaN, value= mean, inplace=True)"
   ]
  },
  {
   "cell_type": "code",
   "execution_count": 249,
   "metadata": {},
   "outputs": [
    {
     "data": {
      "text/plain": [
       "H    0\n",
       "dtype: int64"
      ]
     },
     "execution_count": 249,
     "metadata": {},
     "output_type": "execute_result"
    }
   ],
   "source": [
    "data.isnull().sum()"
   ]
  },
  {
   "cell_type": "code",
   "execution_count": 250,
   "metadata": {},
   "outputs": [
    {
     "data": {
      "text/html": [
       "<div>\n",
       "<style scoped>\n",
       "    .dataframe tbody tr th:only-of-type {\n",
       "        vertical-align: middle;\n",
       "    }\n",
       "\n",
       "    .dataframe tbody tr th {\n",
       "        vertical-align: top;\n",
       "    }\n",
       "\n",
       "    .dataframe thead th {\n",
       "        text-align: right;\n",
       "    }\n",
       "</style>\n",
       "<table border=\"1\" class=\"dataframe\">\n",
       "  <thead>\n",
       "    <tr style=\"text-align: right;\">\n",
       "      <th></th>\n",
       "      <th>H</th>\n",
       "    </tr>\n",
       "  </thead>\n",
       "  <tbody>\n",
       "    <tr>\n",
       "      <th>count</th>\n",
       "      <td>1095.000000</td>\n",
       "    </tr>\n",
       "    <tr>\n",
       "      <th>mean</th>\n",
       "      <td>66.014718</td>\n",
       "    </tr>\n",
       "    <tr>\n",
       "      <th>std</th>\n",
       "      <td>22.849413</td>\n",
       "    </tr>\n",
       "    <tr>\n",
       "      <th>min</th>\n",
       "      <td>14.000000</td>\n",
       "    </tr>\n",
       "    <tr>\n",
       "      <th>25%</th>\n",
       "      <td>49.500000</td>\n",
       "    </tr>\n",
       "    <tr>\n",
       "      <th>50%</th>\n",
       "      <td>66.014718</td>\n",
       "    </tr>\n",
       "    <tr>\n",
       "      <th>75%</th>\n",
       "      <td>80.500000</td>\n",
       "    </tr>\n",
       "    <tr>\n",
       "      <th>max</th>\n",
       "      <td>148.000000</td>\n",
       "    </tr>\n",
       "  </tbody>\n",
       "</table>\n",
       "</div>"
      ],
      "text/plain": [
       "                 H\n",
       "count  1095.000000\n",
       "mean     66.014718\n",
       "std      22.849413\n",
       "min      14.000000\n",
       "25%      49.500000\n",
       "50%      66.014718\n",
       "75%      80.500000\n",
       "max     148.000000"
      ]
     },
     "execution_count": 250,
     "metadata": {},
     "output_type": "execute_result"
    }
   ],
   "source": [
    "data.describe()"
   ]
  },
  {
   "cell_type": "code",
   "execution_count": 251,
   "metadata": {},
   "outputs": [
    {
     "data": {
      "text/plain": [
       "[<matplotlib.lines.Line2D at 0x7f65285751d0>]"
      ]
     },
     "execution_count": 251,
     "metadata": {},
     "output_type": "execute_result"
    },
    {
     "data": {
      "image/png": "[encoded data removed]",
      "text/plain": [
       "<Figure size 1440x360 with 1 Axes>"
      ]
     },
     "metadata": {
      "needs_background": "light"
     },
     "output_type": "display_data"
    }
   ],
   "source": [
    "plt.figure(figsize=(20,5))\n",
    "plt.plot(data)"
   ]
  },
  {
   "cell_type": "code",
   "execution_count": 252,
   "metadata": {},
   "outputs": [
    {
     "data": {
      "image/png": "[encoded data removed]",
      "text/plain": [
       "<Figure size 432x288 with 4 Axes>"
      ]
     },
     "metadata": {
      "needs_background": "light"
     },
     "output_type": "display_data"
    }
   ],
   "source": [
    "from statsmodels.tsa.seasonal import seasonal_decompose\n",
    "decomposition = seasonal_decompose(data)\n",
    "fig= decomposition.plot()"
   ]
  },
  {
   "cell_type": "code",
   "execution_count": 253,
   "metadata": {},
   "outputs": [
    {
     "name": "stderr",
     "output_type": "stream",
     "text": [
      "/home/marc/[/Usuarios/marcj/Descargas]/envs/masterds/lib/python3.7/site-packages/statsmodels/tsa/stattools.py:572: FutureWarning: fft=True will become the default in a future version of statsmodels. To suppress this warning, explicitly set fft=False.\n",
      "  FutureWarning\n"
     ]
    },
    {
     "data": {
      "image/png": "[encoded data removed]",
      "text/plain": [
       "<Figure size 720x288 with 2 Axes>"
      ]
     },
     "metadata": {
      "needs_background": "light"
     },
     "output_type": "display_data"
    }
   ],
   "source": [
    "plt.figure(figsize=(10,4))\n",
    "\n",
    "from statsmodels.tsa.stattools import acf, pacf\n",
    "\n",
    "lag_acf = acf(data, nlags=20)\n",
    "lag_pacf = pacf(data, nlags= 20, method='ols')\n",
    "\n",
    "plt.subplot(121)\n",
    "plt.plot(lag_acf)\n",
    "plt.axhline(y=0, linestyle= '--', color='gray')\n",
    "plt.axhline(y=-1.96/np.sqrt(len(data)), linestyle='--', color='gray')\n",
    "plt.axhline(y=1.96/np.sqrt(len(data)), linestyle='--', color='gray')\n",
    "plt.title('Autocorrelation Function')\n",
    "\n",
    "plt.subplot(122)\n",
    "plt.plot(lag_pacf)\n",
    "plt.axhline(y=0, linestyle= '--', color='gray')\n",
    "plt.axhline(y=-1.96/np.sqrt(len(data)), linestyle='--', color='gray')\n",
    "plt.axhline(y=1.96/np.sqrt(len(data)), linestyle='--', color='gray')\n",
    "plt.title('Partial Autocorrelation Function')\n",
    "plt.tight_layout()"
   ]
  },
  {
   "cell_type": "code",
   "execution_count": 254,
   "metadata": {},
   "outputs": [
    {
     "data": {
      "text/html": [
       "<table class=\"simpletable\">\n",
       "<caption>ARIMA Model Results</caption>\n",
       "<tr>\n",
       "  <th>Dep. Variable:</th>        <td>D.H</td>       <th>  No. Observations:  </th>   <td>1094</td>   \n",
       "</tr>\n",
       "<tr>\n",
       "  <th>Model:</th>          <td>ARIMA(2, 1, 3)</td>  <th>  Log Likelihood     </th> <td>-4843.802</td>\n",
       "</tr>\n",
       "<tr>\n",
       "  <th>Method:</th>             <td>css-mle</td>     <th>  S.D. of innovations</th>  <td>20.219</td>  \n",
       "</tr>\n",
       "<tr>\n",
       "  <th>Date:</th>          <td>Fri, 24 Jul 2020</td> <th>  AIC                </th> <td>9701.605</td> \n",
       "</tr>\n",
       "<tr>\n",
       "  <th>Time:</th>              <td>21:53:46</td>     <th>  BIC                </th> <td>9736.588</td> \n",
       "</tr>\n",
       "<tr>\n",
       "  <th>Sample:</th>           <td>01-02-2017</td>    <th>  HQIC               </th> <td>9714.842</td> \n",
       "</tr>\n",
       "<tr>\n",
       "  <th></th>                 <td>- 12-31-2019</td>   <th>                     </th>     <td> </td>    \n",
       "</tr>\n",
       "</table>\n",
       "<table class=\"simpletable\">\n",
       "<tr>\n",
       "      <td></td>         <th>coef</th>     <th>std err</th>      <th>z</th>      <th>P>|z|</th>  <th>[0.025</th>    <th>0.975]</th>  \n",
       "</tr>\n",
       "<tr>\n",
       "  <th>const</th>     <td>   -0.0077</td> <td>    0.029</td> <td>   -0.271</td> <td> 0.787</td> <td>   -0.064</td> <td>    0.048</td>\n",
       "</tr>\n",
       "<tr>\n",
       "  <th>ar.L1.D.H</th> <td>   -0.6259</td> <td>    0.079</td> <td>   -7.965</td> <td> 0.000</td> <td>   -0.780</td> <td>   -0.472</td>\n",
       "</tr>\n",
       "<tr>\n",
       "  <th>ar.L2.D.H</th> <td>    0.3497</td> <td>    0.076</td> <td>    4.606</td> <td> 0.000</td> <td>    0.201</td> <td>    0.499</td>\n",
       "</tr>\n",
       "<tr>\n",
       "  <th>ma.L1.D.H</th> <td>    0.0739</td> <td>    0.082</td> <td>    0.896</td> <td> 0.370</td> <td>   -0.088</td> <td>    0.236</td>\n",
       "</tr>\n",
       "<tr>\n",
       "  <th>ma.L2.D.H</th> <td>   -0.9712</td> <td>    0.013</td> <td>  -77.695</td> <td> 0.000</td> <td>   -0.996</td> <td>   -0.947</td>\n",
       "</tr>\n",
       "<tr>\n",
       "  <th>ma.L3.D.H</th> <td>   -0.0452</td> <td>    0.076</td> <td>   -0.592</td> <td> 0.554</td> <td>   -0.195</td> <td>    0.104</td>\n",
       "</tr>\n",
       "</table>\n",
       "<table class=\"simpletable\">\n",
       "<caption>Roots</caption>\n",
       "<tr>\n",
       "    <td></td>   <th>            Real</th>  <th>         Imaginary</th> <th>         Modulus</th>  <th>        Frequency</th>\n",
       "</tr>\n",
       "<tr>\n",
       "  <th>AR.1</th> <td>          -1.0183</td> <td>          +0.0000j</td> <td>           1.0183</td> <td>           0.5000</td>\n",
       "</tr>\n",
       "<tr>\n",
       "  <th>AR.2</th> <td>           2.8078</td> <td>          +0.0000j</td> <td>           2.8078</td> <td>           0.0000</td>\n",
       "</tr>\n",
       "<tr>\n",
       "  <th>MA.1</th> <td>           1.0283</td> <td>          +0.0000j</td> <td>           1.0283</td> <td>           0.0000</td>\n",
       "</tr>\n",
       "<tr>\n",
       "  <th>MA.2</th> <td>          -1.0000</td> <td>          +0.0000j</td> <td>           1.0000</td> <td>           0.5000</td>\n",
       "</tr>\n",
       "<tr>\n",
       "  <th>MA.3</th> <td>         -21.5363</td> <td>          +0.0000j</td> <td>          21.5363</td> <td>           0.5000</td>\n",
       "</tr>\n",
       "</table>"
      ],
      "text/plain": [
       "<class 'statsmodels.iolib.summary.Summary'>\n",
       "\"\"\"\n",
       "                             ARIMA Model Results                              \n",
       "==============================================================================\n",
       "Dep. Variable:                    D.H   No. Observations:                 1094\n",
       "Model:                 ARIMA(2, 1, 3)   Log Likelihood               -4843.802\n",
       "Method:                       css-mle   S.D. of innovations             20.219\n",
       "Date:                Fri, 24 Jul 2020   AIC                           9701.605\n",
       "Time:                        21:53:46   BIC                           9736.588\n",
       "Sample:                    01-02-2017   HQIC                          9714.842\n",
       "                         - 12-31-2019                                         \n",
       "==============================================================================\n",
       "                 coef    std err          z      P>|z|      [0.025      0.975]\n",
       "------------------------------------------------------------------------------\n",
       "const         -0.0077      0.029     -0.271      0.787      -0.064       0.048\n",
       "ar.L1.D.H     -0.6259      0.079     -7.965      0.000      -0.780      -0.472\n",
       "ar.L2.D.H      0.3497      0.076      4.606      0.000       0.201       0.499\n",
       "ma.L1.D.H      0.0739      0.082      0.896      0.370      -0.088       0.236\n",
       "ma.L2.D.H     -0.9712      0.013    -77.695      0.000      -0.996      -0.947\n",
       "ma.L3.D.H     -0.0452      0.076     -0.592      0.554      -0.195       0.104\n",
       "                                    Roots                                    \n",
       "=============================================================================\n",
       "                  Real          Imaginary           Modulus         Frequency\n",
       "-----------------------------------------------------------------------------\n",
       "AR.1           -1.0183           +0.0000j            1.0183            0.5000\n",
       "AR.2            2.8078           +0.0000j            2.8078            0.0000\n",
       "MA.1            1.0283           +0.0000j            1.0283            0.0000\n",
       "MA.2           -1.0000           +0.0000j            1.0000            0.5000\n",
       "MA.3          -21.5363           +0.0000j           21.5363            0.5000\n",
       "-----------------------------------------------------------------------------\n",
       "\"\"\""
      ]
     },
     "execution_count": 254,
     "metadata": {},
     "output_type": "execute_result"
    }
   ],
   "source": [
    "from statsmodels.tsa.arima_model import ARIMA\n",
    "\n",
    "model_conf = ARIMA(data, order= (2,1, 3))\n",
    "model_fit = model_conf.fit()\n",
    "model_fit.summary()"
   ]
  },
  {
   "cell_type": "code",
   "execution_count": 255,
   "metadata": {},
   "outputs": [
    {
     "data": {
      "text/html": [
       "<table class=\"simpletable\">\n",
       "<caption>ARIMA Model Results</caption>\n",
       "<tr>\n",
       "  <th>Dep. Variable:</th>        <td>D.H</td>       <th>  No. Observations:  </th>   <td>1094</td>   \n",
       "</tr>\n",
       "<tr>\n",
       "  <th>Model:</th>          <td>ARIMA(2, 1, 3)</td>  <th>  Log Likelihood     </th> <td>-4843.802</td>\n",
       "</tr>\n",
       "<tr>\n",
       "  <th>Method:</th>             <td>css-mle</td>     <th>  S.D. of innovations</th>  <td>20.219</td>  \n",
       "</tr>\n",
       "<tr>\n",
       "  <th>Date:</th>          <td>Fri, 24 Jul 2020</td> <th>  AIC                </th> <td>9701.605</td> \n",
       "</tr>\n",
       "<tr>\n",
       "  <th>Time:</th>              <td>21:53:50</td>     <th>  BIC                </th> <td>9736.588</td> \n",
       "</tr>\n",
       "<tr>\n",
       "  <th>Sample:</th>           <td>01-02-2017</td>    <th>  HQIC               </th> <td>9714.842</td> \n",
       "</tr>\n",
       "<tr>\n",
       "  <th></th>                 <td>- 12-31-2019</td>   <th>                     </th>     <td> </td>    \n",
       "</tr>\n",
       "</table>\n",
       "<table class=\"simpletable\">\n",
       "<tr>\n",
       "      <td></td>         <th>coef</th>     <th>std err</th>      <th>z</th>      <th>P>|z|</th>  <th>[0.025</th>    <th>0.975]</th>  \n",
       "</tr>\n",
       "<tr>\n",
       "  <th>const</th>     <td>   -0.0077</td> <td>    0.029</td> <td>   -0.271</td> <td> 0.787</td> <td>   -0.064</td> <td>    0.048</td>\n",
       "</tr>\n",
       "<tr>\n",
       "  <th>ar.L1.D.H</th> <td>   -0.6259</td> <td>    0.079</td> <td>   -7.965</td> <td> 0.000</td> <td>   -0.780</td> <td>   -0.472</td>\n",
       "</tr>\n",
       "<tr>\n",
       "  <th>ar.L2.D.H</th> <td>    0.3497</td> <td>    0.076</td> <td>    4.606</td> <td> 0.000</td> <td>    0.201</td> <td>    0.499</td>\n",
       "</tr>\n",
       "<tr>\n",
       "  <th>ma.L1.D.H</th> <td>    0.0739</td> <td>    0.082</td> <td>    0.896</td> <td> 0.370</td> <td>   -0.088</td> <td>    0.236</td>\n",
       "</tr>\n",
       "<tr>\n",
       "  <th>ma.L2.D.H</th> <td>   -0.9712</td> <td>    0.013</td> <td>  -77.695</td> <td> 0.000</td> <td>   -0.996</td> <td>   -0.947</td>\n",
       "</tr>\n",
       "<tr>\n",
       "  <th>ma.L3.D.H</th> <td>   -0.0452</td> <td>    0.076</td> <td>   -0.592</td> <td> 0.554</td> <td>   -0.195</td> <td>    0.104</td>\n",
       "</tr>\n",
       "</table>\n",
       "<table class=\"simpletable\">\n",
       "<caption>Roots</caption>\n",
       "<tr>\n",
       "    <td></td>   <th>            Real</th>  <th>         Imaginary</th> <th>         Modulus</th>  <th>        Frequency</th>\n",
       "</tr>\n",
       "<tr>\n",
       "  <th>AR.1</th> <td>          -1.0183</td> <td>          +0.0000j</td> <td>           1.0183</td> <td>           0.5000</td>\n",
       "</tr>\n",
       "<tr>\n",
       "  <th>AR.2</th> <td>           2.8078</td> <td>          +0.0000j</td> <td>           2.8078</td> <td>           0.0000</td>\n",
       "</tr>\n",
       "<tr>\n",
       "  <th>MA.1</th> <td>           1.0283</td> <td>          +0.0000j</td> <td>           1.0283</td> <td>           0.0000</td>\n",
       "</tr>\n",
       "<tr>\n",
       "  <th>MA.2</th> <td>          -1.0000</td> <td>          +0.0000j</td> <td>           1.0000</td> <td>           0.5000</td>\n",
       "</tr>\n",
       "<tr>\n",
       "  <th>MA.3</th> <td>         -21.5363</td> <td>          +0.0000j</td> <td>          21.5363</td> <td>           0.5000</td>\n",
       "</tr>\n",
       "</table>"
      ],
      "text/plain": [
       "<class 'statsmodels.iolib.summary.Summary'>\n",
       "\"\"\"\n",
       "                             ARIMA Model Results                              \n",
       "==============================================================================\n",
       "Dep. Variable:                    D.H   No. Observations:                 1094\n",
       "Model:                 ARIMA(2, 1, 3)   Log Likelihood               -4843.802\n",
       "Method:                       css-mle   S.D. of innovations             20.219\n",
       "Date:                Fri, 24 Jul 2020   AIC                           9701.605\n",
       "Time:                        21:53:50   BIC                           9736.588\n",
       "Sample:                    01-02-2017   HQIC                          9714.842\n",
       "                         - 12-31-2019                                         \n",
       "==============================================================================\n",
       "                 coef    std err          z      P>|z|      [0.025      0.975]\n",
       "------------------------------------------------------------------------------\n",
       "const         -0.0077      0.029     -0.271      0.787      -0.064       0.048\n",
       "ar.L1.D.H     -0.6259      0.079     -7.965      0.000      -0.780      -0.472\n",
       "ar.L2.D.H      0.3497      0.076      4.606      0.000       0.201       0.499\n",
       "ma.L1.D.H      0.0739      0.082      0.896      0.370      -0.088       0.236\n",
       "ma.L2.D.H     -0.9712      0.013    -77.695      0.000      -0.996      -0.947\n",
       "ma.L3.D.H     -0.0452      0.076     -0.592      0.554      -0.195       0.104\n",
       "                                    Roots                                    \n",
       "=============================================================================\n",
       "                  Real          Imaginary           Modulus         Frequency\n",
       "-----------------------------------------------------------------------------\n",
       "AR.1           -1.0183           +0.0000j            1.0183            0.5000\n",
       "AR.2            2.8078           +0.0000j            2.8078            0.0000\n",
       "MA.1            1.0283           +0.0000j            1.0283            0.0000\n",
       "MA.2           -1.0000           +0.0000j            1.0000            0.5000\n",
       "MA.3          -21.5363           +0.0000j           21.5363            0.5000\n",
       "-----------------------------------------------------------------------------\n",
       "\"\"\""
      ]
     },
     "execution_count": 255,
     "metadata": {},
     "output_type": "execute_result"
    }
   ],
   "source": [
    "model_conf = ARIMA(data[:'2019-12-31'], order=(2,1,3))\n",
    "model_fit= model_conf.fit()\n",
    "model_fit.summary()"
   ]
  },
  {
   "cell_type": "code",
   "execution_count": 256,
   "metadata": {},
   "outputs": [
    {
     "data": {
      "text/html": [
       "<table class=\"simpletable\">\n",
       "<caption>ARIMA Model Results</caption>\n",
       "<tr>\n",
       "  <th>Dep. Variable:</th>        <td>D.H</td>       <th>  No. Observations:  </th>   <td>1094</td>   \n",
       "</tr>\n",
       "<tr>\n",
       "  <th>Model:</th>          <td>ARIMA(2, 1, 2)</td>  <th>  Log Likelihood     </th> <td>-4843.977</td>\n",
       "</tr>\n",
       "<tr>\n",
       "  <th>Method:</th>             <td>css-mle</td>     <th>  S.D. of innovations</th>  <td>20.221</td>  \n",
       "</tr>\n",
       "<tr>\n",
       "  <th>Date:</th>          <td>Fri, 24 Jul 2020</td> <th>  AIC                </th> <td>9699.954</td> \n",
       "</tr>\n",
       "<tr>\n",
       "  <th>Time:</th>              <td>21:53:53</td>     <th>  BIC                </th> <td>9729.940</td> \n",
       "</tr>\n",
       "<tr>\n",
       "  <th>Sample:</th>           <td>01-02-2017</td>    <th>  HQIC               </th> <td>9711.301</td> \n",
       "</tr>\n",
       "<tr>\n",
       "  <th></th>                 <td>- 12-31-2019</td>   <th>                     </th>     <td> </td>    \n",
       "</tr>\n",
       "</table>\n",
       "<table class=\"simpletable\">\n",
       "<tr>\n",
       "      <td></td>         <th>coef</th>     <th>std err</th>      <th>z</th>      <th>P>|z|</th>  <th>[0.025</th>    <th>0.975]</th>  \n",
       "</tr>\n",
       "<tr>\n",
       "  <th>const</th>     <td>   -0.0081</td> <td>    0.027</td> <td>   -0.296</td> <td> 0.767</td> <td>   -0.062</td> <td>    0.045</td>\n",
       "</tr>\n",
       "<tr>\n",
       "  <th>ar.L1.D.H</th> <td>   -0.5840</td> <td>    0.031</td> <td>  -18.821</td> <td> 0.000</td> <td>   -0.645</td> <td>   -0.523</td>\n",
       "</tr>\n",
       "<tr>\n",
       "  <th>ar.L2.D.H</th> <td>    0.3899</td> <td>    0.031</td> <td>   12.559</td> <td> 0.000</td> <td>    0.329</td> <td>    0.451</td>\n",
       "</tr>\n",
       "<tr>\n",
       "  <th>ma.L1.D.H</th> <td>    0.0257</td> <td>    0.011</td> <td>    2.343</td> <td> 0.019</td> <td>    0.004</td> <td>    0.047</td>\n",
       "</tr>\n",
       "<tr>\n",
       "  <th>ma.L2.D.H</th> <td>   -0.9743</td> <td>    0.011</td> <td>  -89.260</td> <td> 0.000</td> <td>   -0.996</td> <td>   -0.953</td>\n",
       "</tr>\n",
       "</table>\n",
       "<table class=\"simpletable\">\n",
       "<caption>Roots</caption>\n",
       "<tr>\n",
       "    <td></td>   <th>            Real</th>  <th>         Imaginary</th> <th>         Modulus</th>  <th>        Frequency</th>\n",
       "</tr>\n",
       "<tr>\n",
       "  <th>AR.1</th> <td>          -1.0191</td> <td>          +0.0000j</td> <td>           1.0191</td> <td>           0.5000</td>\n",
       "</tr>\n",
       "<tr>\n",
       "  <th>AR.2</th> <td>           2.5171</td> <td>          +0.0000j</td> <td>           2.5171</td> <td>           0.0000</td>\n",
       "</tr>\n",
       "<tr>\n",
       "  <th>MA.1</th> <td>          -1.0000</td> <td>          +0.0000j</td> <td>           1.0000</td> <td>           0.5000</td>\n",
       "</tr>\n",
       "<tr>\n",
       "  <th>MA.2</th> <td>           1.0263</td> <td>          +0.0000j</td> <td>           1.0263</td> <td>           0.0000</td>\n",
       "</tr>\n",
       "</table>"
      ],
      "text/plain": [
       "<class 'statsmodels.iolib.summary.Summary'>\n",
       "\"\"\"\n",
       "                             ARIMA Model Results                              \n",
       "==============================================================================\n",
       "Dep. Variable:                    D.H   No. Observations:                 1094\n",
       "Model:                 ARIMA(2, 1, 2)   Log Likelihood               -4843.977\n",
       "Method:                       css-mle   S.D. of innovations             20.221\n",
       "Date:                Fri, 24 Jul 2020   AIC                           9699.954\n",
       "Time:                        21:53:53   BIC                           9729.940\n",
       "Sample:                    01-02-2017   HQIC                          9711.301\n",
       "                         - 12-31-2019                                         \n",
       "==============================================================================\n",
       "                 coef    std err          z      P>|z|      [0.025      0.975]\n",
       "------------------------------------------------------------------------------\n",
       "const         -0.0081      0.027     -0.296      0.767      -0.062       0.045\n",
       "ar.L1.D.H     -0.5840      0.031    -18.821      0.000      -0.645      -0.523\n",
       "ar.L2.D.H      0.3899      0.031     12.559      0.000       0.329       0.451\n",
       "ma.L1.D.H      0.0257      0.011      2.343      0.019       0.004       0.047\n",
       "ma.L2.D.H     -0.9743      0.011    -89.260      0.000      -0.996      -0.953\n",
       "                                    Roots                                    \n",
       "=============================================================================\n",
       "                  Real          Imaginary           Modulus         Frequency\n",
       "-----------------------------------------------------------------------------\n",
       "AR.1           -1.0191           +0.0000j            1.0191            0.5000\n",
       "AR.2            2.5171           +0.0000j            2.5171            0.0000\n",
       "MA.1           -1.0000           +0.0000j            1.0000            0.5000\n",
       "MA.2            1.0263           +0.0000j            1.0263            0.0000\n",
       "-----------------------------------------------------------------------------\n",
       "\"\"\""
      ]
     },
     "execution_count": 256,
     "metadata": {},
     "output_type": "execute_result"
    }
   ],
   "source": [
    "model_conf = ARIMA(data[:'2019-12-31'], order =(2,1,2), freq='D')\n",
    "model_fit = model_conf.fit()\n",
    "model_fit.summary()"
   ]
  },
  {
   "cell_type": "code",
   "execution_count": 257,
   "metadata": {},
   "outputs": [],
   "source": [
    "residuals = pd.DataFrame(model_fit.resid)"
   ]
  },
  {
   "cell_type": "code",
   "execution_count": 258,
   "metadata": {},
   "outputs": [
    {
     "data": {
      "text/plain": [
       "[<matplotlib.lines.Line2D at 0x7f64e484fa90>]"
      ]
     },
     "execution_count": 258,
     "metadata": {},
     "output_type": "execute_result"
    },
    {
     "data": {
      "image/png": "[encoded data removed]",
      "text/plain": [
       "<Figure size 1440x576 with 1 Axes>"
      ]
     },
     "metadata": {
      "needs_background": "light"
     },
     "output_type": "display_data"
    }
   ],
   "source": [
    "plt.figure(figsize=(20,8))\n",
    "plt.plot(residuals)"
   ]
  },
  {
   "cell_type": "code",
   "execution_count": 259,
   "metadata": {},
   "outputs": [
    {
     "data": {
      "text/plain": [
       "<matplotlib.axes._subplots.AxesSubplot at 0x7f64e48a5e90>"
      ]
     },
     "execution_count": 259,
     "metadata": {},
     "output_type": "execute_result"
    },
    {
     "data": {
      "image/png": "[encoded data removed]",
      "text/plain": [
       "<Figure size 432x288 with 1 Axes>"
      ]
     },
     "metadata": {
      "needs_background": "light"
     },
     "output_type": "display_data"
    }
   ],
   "source": [
    "residuals.plot(kind='kde')"
   ]
  },
  {
   "cell_type": "code",
   "execution_count": 260,
   "metadata": {},
   "outputs": [
    {
     "name": "stderr",
     "output_type": "stream",
     "text": [
      "/home/marc/[/Usuarios/marcj/Descargas]/envs/masterds/lib/python3.7/site-packages/ipykernel_launcher.py:4: FutureWarning: Addition/subtraction of integers and integer-arrays to Timestamp is deprecated, will be removed in a future version.  Instead of adding/subtracting `n`, use `n * self.freq`\n",
      "  after removing the cwd from sys.path.\n"
     ]
    }
   ],
   "source": [
    "ini_forecast = pd.Timestamp('2019-01-01', freq='D')\n",
    "ndays= 310\n",
    "\n",
    "end_forecast = ini_forecast + ndays -1"
   ]
  },
  {
   "cell_type": "code",
   "execution_count": 261,
   "metadata": {},
   "outputs": [
    {
     "name": "stderr",
     "output_type": "stream",
     "text": [
      "/home/marc/[/Usuarios/marcj/Descargas]/envs/masterds/lib/python3.7/site-packages/ipykernel_launcher.py:1: FutureWarning: Addition/subtraction of integers and integer-arrays to Timestamp is deprecated, will be removed in a future version.  Instead of adding/subtracting `n`, use `n * self.freq`\n",
      "  \"\"\"Entry point for launching an IPython kernel.\n"
     ]
    }
   ],
   "source": [
    "model_conf = ARIMA(data[:ini_forecast-1], order=(2,1,2), freq='D')\n",
    "model_fit = model_conf.fit()\n",
    "forecast = model_fit.forecast(ndays)[0]\n",
    "forecast = pd.DataFrame(forecast, columns=['forecast'],\n",
    "                       index=data[ini_forecast:end_forecast].index)"
   ]
  },
  {
   "cell_type": "code",
   "execution_count": null,
   "metadata": {},
   "outputs": [
    {
     "name": "stderr",
     "output_type": "stream",
     "text": [
      "/home/marc/[/Usuarios/marcj/Descargas]/envs/masterds/lib/python3.7/site-packages/ipykernel_launcher.py:3: FutureWarning: Addition/subtraction of integers and integer-arrays to Timestamp is deprecated, will be removed in a future version.  Instead of adding/subtracting `n`, use `n * self.freq`\n",
      "  This is separate from the ipykernel package so we can avoid doing imports until\n",
      "/home/marc/[/Usuarios/marcj/Descargas]/envs/masterds/lib/python3.7/site-packages/ipykernel_launcher.py:4: FutureWarning: Addition/subtraction of integers and integer-arrays to Timestamp is deprecated, will be removed in a future version.  Instead of adding/subtracting `n`, use `n * self.freq`\n",
      "  after removing the cwd from sys.path.\n"
     ]
    }
   ],
   "source": [
    "forecast_daily = []\n",
    "for d in range (ndays):\n",
    "    ini_test = ini_forecast + d\n",
    "    modelconf_day = ARIMA(data[:ini_test - 1], order = (2,1,1), freq='D')\n",
    "    modelfit_day = modelconf_day.fit()\n",
    "    forecast_daily.append(modelfit_day.forecast(1)[0])\n",
    "    \n",
    "forecast_daily = pd.DataFrame(forecast_daily, columns=['forecast'],\n",
    "                             index=data[ini_forecast:end_forecast].index)"
   ]
  },
  {
   "cell_type": "code",
   "execution_count": null,
   "metadata": {},
   "outputs": [],
   "source": [
    "plt.figure(figsize=(25, 8))\n",
    "plt.plot(data[ini_forecast-15:end_forecast], linewidth=5, color='black')\n",
    "plt.plot(forecast, linewidth=5, linestyle='--', markersize=12, marker='o')"
   ]
  },
  {
   "cell_type": "code",
   "execution_count": null,
   "metadata": {},
   "outputs": [],
   "source": [
    "plt.figure(figsize=(25, 10))\n",
    "plt.plot(data[ini_forecast-12:end_forecast], linewidth=5, color='black')\n",
    "plt.plot(forecast, linewidth=5, linestyle='--', markersize=12, marker='o', label='Seguido')\n",
    "plt.plot(forecast_daily, linewidth=5, linestyle='--', markersize= 12, marker='o', label='Diario')\n",
    "plt.legend(prop={'size':30})"
   ]
  },
  {
   "cell_type": "markdown",
   "metadata": {},
   "source": [
    "# REGRESIÓN LINEAL"
   ]
  },
  {
   "cell_type": "code",
   "execution_count": null,
   "metadata": {},
   "outputs": [],
   "source": [
    "data.shape"
   ]
  },
  {
   "cell_type": "code",
   "execution_count": null,
   "metadata": {},
   "outputs": [],
   "source": [
    "train_data, test_data = data.iloc[:-TEST_SIZE], data.iloc[-TEST_SIZE:]"
   ]
  },
  {
   "cell_type": "code",
   "execution_count": null,
   "metadata": {},
   "outputs": [],
   "source": [
    "x_train_data = np.array(range(train_data.shape[0]))\n",
    "x_test_data = np.array(range(train_data.shape[0], data.shape[0]))"
   ]
  },
  {
   "cell_type": "code",
   "execution_count": null,
   "metadata": {},
   "outputs": [],
   "source": [
    "x_test_data.shape"
   ]
  },
  {
   "cell_type": "code",
   "execution_count": null,
   "metadata": {},
   "outputs": [],
   "source": [
    "x_train_data.shape"
   ]
  },
  {
   "cell_type": "code",
   "execution_count": null,
   "metadata": {},
   "outputs": [],
   "source": [
    "train_data.shape"
   ]
  },
  {
   "cell_type": "code",
   "execution_count": null,
   "metadata": {},
   "outputs": [],
   "source": [
    "test_data.shape"
   ]
  },
  {
   "cell_type": "code",
   "execution_count": null,
   "metadata": {},
   "outputs": [],
   "source": [
    "from sklearn.linear_model import LinearRegression"
   ]
  },
  {
   "cell_type": "code",
   "execution_count": null,
   "metadata": {},
   "outputs": [],
   "source": [
    "y_pred_mean = [train_data.values[-12:].mean()] * 310"
   ]
  },
  {
   "cell_type": "code",
   "execution_count": null,
   "metadata": {},
   "outputs": [],
   "source": [
    "train_data = train_data.values"
   ]
  },
  {
   "cell_type": "code",
   "execution_count": null,
   "metadata": {},
   "outputs": [],
   "source": [
    "lr_model = LinearRegression()\n",
    "lr_model.fit(x_train_data.reshape(-1,1), train_data)"
   ]
  },
  {
   "cell_type": "code",
   "execution_count": null,
   "metadata": {},
   "outputs": [],
   "source": [
    "y_pred_lr = lr_model.predict(x_test_data.reshape(-1,1))"
   ]
  },
  {
   "cell_type": "code",
   "execution_count": null,
   "metadata": {},
   "outputs": [],
   "source": [
    "fig, ax = plt.subplots(1, 1, figsize=(10,3))\n",
    "ax.plot(x_train_data, train_data, label='train')\n",
    "ax.plot(x_test_data, y_pred_lr, label ='linear regression')\n",
    "ax.plot(x_test_data, y_pred_mean, label='mean')\n",
    "ax.plot(x_test_data, test_data, label ='real')\n",
    "plt.legend()\n",
    "plt.tight_layout()"
   ]
  },
  {
   "cell_type": "code",
   "execution_count": null,
   "metadata": {},
   "outputs": [],
   "source": [
    "def mae(y_true, y_pred):\n",
    "    return np.abs(y_true - y_pred).sum() / y_true.size"
   ]
  },
  {
   "cell_type": "code",
   "execution_count": null,
   "metadata": {},
   "outputs": [],
   "source": [
    "print('MAE in a mean model:', mae (test_data.values, y_pred_mean))"
   ]
  },
  {
   "cell_type": "code",
   "execution_count": null,
   "metadata": {},
   "outputs": [],
   "source": [
    "print('MAE in linear regression model:', mae(test_data.values, y_pred_lr))"
   ]
  },
  {
   "cell_type": "code",
   "execution_count": null,
   "metadata": {},
   "outputs": [],
   "source": [
    "def mse(y_true, y_pred):\n",
    "    return((y_true - y_pred)** 2).sum() / y_true.size"
   ]
  },
  {
   "cell_type": "code",
   "execution_count": null,
   "metadata": {},
   "outputs": [],
   "source": [
    "print('MSE in mean model:', mse(test_data.values, y_pred_mean))\n",
    "print('MSE in linear regression model:', mse(test_data.values, y_pred_lr))"
   ]
  },
  {
   "cell_type": "code",
   "execution_count": null,
   "metadata": {},
   "outputs": [],
   "source": [
    "def rmse(y_true, y_pred):\n",
    "    return np.sqrt(((y_true - y_pred)** 2).sum() / y_true.size)"
   ]
  },
  {
   "cell_type": "code",
   "execution_count": null,
   "metadata": {},
   "outputs": [],
   "source": [
    "print('RMSE in mean model:', rmse(test_data.values, y_pred_mean))\n",
    "print('RMSE in linear regression model:', rmse(test_data.values, y_pred_lr))"
   ]
  },
  {
   "cell_type": "code",
   "execution_count": null,
   "metadata": {},
   "outputs": [],
   "source": [
    "def mape (y_true, y_pred):\n",
    "    return 2 * np.abs((y_true - y_pred) / y_true).sum() / y_true.size"
   ]
  },
  {
   "cell_type": "code",
   "execution_count": null,
   "metadata": {},
   "outputs": [],
   "source": [
    "print('MAPE in mean model:', mape(test_data.values, y_pred_mean))\n",
    "print('MAPE in linear regression model:', mape(test_data.values, y_pred_lr))"
   ]
  },
  {
   "cell_type": "code",
   "execution_count": null,
   "metadata": {},
   "outputs": [],
   "source": [
    "lrw_model = LinearRegression()\n",
    "lrw_model.fit(x_train_data.reshape(-1,1), train_data,\n",
    "             sample_weight= [i**5 for i in x_train_data])"
   ]
  },
  {
   "cell_type": "code",
   "execution_count": null,
   "metadata": {},
   "outputs": [],
   "source": [
    "y_pred_lr_w = lrw_model.predict(x_test_data.reshape(-1, 1))"
   ]
  },
  {
   "cell_type": "code",
   "execution_count": null,
   "metadata": {},
   "outputs": [],
   "source": [
    "fig, ax = plt.subplots(1, 1, figsize=(10, 3))\n",
    "ax.plot(x_train_data, train_data, label='train')\n",
    "ax.plot(x_test_data, y_pred_lr, label='linear regression')\n",
    "ax.plot(x_test_data, y_pred_lr_w, label='linear regression weighted')\n",
    "ax.plot(x_test_data, y_pred_mean, label='mean')\n",
    "ax.plot(x_test_data, test_data, label='real')\n",
    "plt.legend()\n",
    "plt.tight_layout()"
   ]
  },
  {
   "cell_type": "code",
   "execution_count": null,
   "metadata": {
    "scrolled": true
   },
   "outputs": [],
   "source": [
    "print('MAE in mean model: ', mae(test_data.values, y_pred_mean))\n",
    "print('MAE in linear regression model: ', mae(test_data.values, y_pred_lr))\n",
    "print('MAE in weighted linear regression model: ', mae(test_data.values, y_pred_lr_w))\n",
    "\n",
    "print('RMSE in mean model: ', rmse(test_data.values, y_pred_mean))\n",
    "print('RMSE in linear regression model: ', rmse(test_data.values, y_pred_lr))\n",
    "print('RMSE in weighted linear regression model: ', rmse(test_data.values, y_pred_lr_w))"
   ]
  },
  {
   "cell_type": "code",
   "execution_count": null,
   "metadata": {},
   "outputs": [],
   "source": [
    "model = LinearRegression()\n",
    "model.fit(x_train.reshape(-1, 1), train_1.reshape(-1,1))"
   ]
  },
  {
   "cell_type": "code",
   "execution_count": null,
   "metadata": {},
   "outputs": [],
   "source": [
    "train_log_trend = (train_1.reshape(-1,1) - model.predict(x_train.reshape(-1, 1))).squeeze()\n",
    "\n",
    "fig, ax = plt.subplots(1, 1, figsize=(12, 3))\n",
    "ax.plot(x_train.reshape(-1,1), train_log_trend.reshape(-1,1))"
   ]
  },
  {
   "cell_type": "code",
   "execution_count": null,
   "metadata": {},
   "outputs": [],
   "source": [
    "type(train_log_trend)"
   ]
  },
  {
   "cell_type": "code",
   "execution_count": null,
   "metadata": {},
   "outputs": [],
   "source": [
    "train_log_trend = pd.DataFrame(train_log_trend)"
   ]
  },
  {
   "cell_type": "code",
   "execution_count": null,
   "metadata": {},
   "outputs": [],
   "source": [
    "train_log_trend.replace(to_replace= -np.inf, value= 0.479792, inplace= True)"
   ]
  },
  {
   "cell_type": "code",
   "execution_count": null,
   "metadata": {},
   "outputs": [],
   "source": [
    "train_log_trend.head()"
   ]
  },
  {
   "cell_type": "markdown",
   "metadata": {},
   "source": [
    "# REGRESIÓN POLINOMICA"
   ]
  },
  {
   "cell_type": "code",
   "execution_count": null,
   "metadata": {},
   "outputs": [],
   "source": [
    "prueba.shape"
   ]
  },
  {
   "cell_type": "code",
   "execution_count": null,
   "metadata": {},
   "outputs": [],
   "source": [
    "TEST_SIZE = 310"
   ]
  },
  {
   "cell_type": "code",
   "execution_count": null,
   "metadata": {},
   "outputs": [],
   "source": [
    "x_prueba = np.arange(14235)\n",
    "x_prueba = np.reshape(x_prueba, (1095,13))"
   ]
  },
  {
   "cell_type": "code",
   "execution_count": null,
   "metadata": {},
   "outputs": [],
   "source": [
    "x_train_prueba =  x_prueba[:-TEST_SIZE]"
   ]
  },
  {
   "cell_type": "code",
   "execution_count": null,
   "metadata": {},
   "outputs": [],
   "source": [
    "x_test_prueba = x_prueba[-TEST_SIZE:]"
   ]
  },
  {
   "cell_type": "code",
   "execution_count": null,
   "metadata": {},
   "outputs": [],
   "source": [
    "prueba_train, prueba_test = prueba[:-TEST_SIZE], prueba[-TEST_SIZE:]"
   ]
  },
  {
   "cell_type": "code",
   "execution_count": null,
   "metadata": {},
   "outputs": [],
   "source": [
    "prueba_train_1 = prueba_train.values"
   ]
  },
  {
   "cell_type": "code",
   "execution_count": null,
   "metadata": {},
   "outputs": [],
   "source": [
    "prueba_test_1 = prueba_test.values"
   ]
  },
  {
   "cell_type": "code",
   "execution_count": null,
   "metadata": {},
   "outputs": [],
   "source": [
    "prueba = prueba.reset_index()"
   ]
  },
  {
   "cell_type": "code",
   "execution_count": null,
   "metadata": {},
   "outputs": [],
   "source": [
    "prueba.head()"
   ]
  },
  {
   "cell_type": "code",
   "execution_count": null,
   "metadata": {},
   "outputs": [],
   "source": [
    "prueba.dtypes"
   ]
  },
  {
   "cell_type": "code",
   "execution_count": null,
   "metadata": {},
   "outputs": [],
   "source": [
    "prueba.shape"
   ]
  },
  {
   "cell_type": "code",
   "execution_count": null,
   "metadata": {},
   "outputs": [],
   "source": [
    "prueba['DATA'] = prueba['DATA'].astype(int)"
   ]
  },
  {
   "cell_type": "code",
   "execution_count": null,
   "metadata": {},
   "outputs": [],
   "source": [
    "prueba['DATA'] = np.arange(1095)"
   ]
  },
  {
   "cell_type": "code",
   "execution_count": null,
   "metadata": {},
   "outputs": [],
   "source": [
    "prueba.head()"
   ]
  },
  {
   "cell_type": "code",
   "execution_count": null,
   "metadata": {},
   "outputs": [],
   "source": [
    "prueba.set_index('DATA', inplace = True)"
   ]
  },
  {
   "cell_type": "code",
   "execution_count": null,
   "metadata": {},
   "outputs": [],
   "source": [
    "prueba.dtypes"
   ]
  },
  {
   "cell_type": "code",
   "execution_count": null,
   "metadata": {},
   "outputs": [],
   "source": [
    "prueba.head()"
   ]
  },
  {
   "cell_type": "code",
   "execution_count": null,
   "metadata": {},
   "outputs": [],
   "source": [
    "from sklearn.preprocessing import PolynomialFeatures"
   ]
  },
  {
   "cell_type": "code",
   "execution_count": null,
   "metadata": {},
   "outputs": [],
   "source": [
    "poli_reg = PolynomialFeatures(degree = 3)"
   ]
  },
  {
   "cell_type": "code",
   "execution_count": null,
   "metadata": {},
   "outputs": [],
   "source": [
    "x_train_poli = poli_reg.fit_transform(x_train_prueba)"
   ]
  },
  {
   "cell_type": "code",
   "execution_count": null,
   "metadata": {},
   "outputs": [],
   "source": [
    "x_test_poli = poli_reg.fit_transform(x_test_prueba)"
   ]
  },
  {
   "cell_type": "code",
   "execution_count": null,
   "metadata": {},
   "outputs": [],
   "source": [
    "pr = LinearRegression()"
   ]
  },
  {
   "cell_type": "code",
   "execution_count": null,
   "metadata": {},
   "outputs": [],
   "source": [
    "pr.fit(x_train_poli, prueba_train)"
   ]
  },
  {
   "cell_type": "code",
   "execution_count": null,
   "metadata": {},
   "outputs": [],
   "source": [
    "y_pred_pr = pr.predict(x_test_poli)"
   ]
  },
  {
   "cell_type": "code",
   "execution_count": null,
   "metadata": {},
   "outputs": [],
   "source": [
    "fig, ax = plt.subplots(1, 1, figsize=(15, 10))\n",
    "ax.plot(x_train_prueba, prueba_train_1, label='train')\n",
    "ax.plot(x_test_prueba, prueba_test_1, label='real')\n",
    "ax.plot(x_test_prueba, y_pred_pr, label='poli')\n",
    "plt.legend()\n",
    "plt.tight_layout()"
   ]
  },
  {
   "cell_type": "code",
   "execution_count": null,
   "metadata": {},
   "outputs": [],
   "source": [
    "fig, ax = plt.subplots(1, 1, figsize=(15, 10))\n",
    "ax.plot(x_train_prueba.reshape(-1,1), prueba_train_1.reshape(-1,1), label='train')\n",
    "ax.plot(x_test_prueba.reshape(-1,1), prueba_test_1.reshape(-1,1), label='real')\n",
    "ax.plot(x_test_prueba.reshape(-1,1), y_pred_pr.reshape(-1,1), label='poli')\n",
    "plt.legend()\n",
    "plt.tight_layout()"
   ]
  },
  {
   "cell_type": "markdown",
   "metadata": {},
   "source": [
    "# ARBRES"
   ]
  },
  {
   "cell_type": "code",
   "execution_count": null,
   "metadata": {},
   "outputs": [],
   "source": [
    "from sklearn.tree import DecisionTreeRegressor"
   ]
  },
  {
   "cell_type": "code",
   "execution_count": null,
   "metadata": {},
   "outputs": [],
   "source": [
    "tree_model = DecisionTreeRegressor()"
   ]
  },
  {
   "cell_type": "code",
   "execution_count": null,
   "metadata": {},
   "outputs": [],
   "source": [
    "tree_model.fit(x_train.reshape(-1,1), train_1.reshape(-1,1))"
   ]
  },
  {
   "cell_type": "code",
   "execution_count": null,
   "metadata": {},
   "outputs": [],
   "source": [
    "y_pred_tree = tree_model.predict(x_test.reshape(-1,1))"
   ]
  },
  {
   "cell_type": "code",
   "execution_count": null,
   "metadata": {},
   "outputs": [],
   "source": [
    "fig, ax = plt.subplots(1, 1, figsize=(15, 5))\n",
    "ax.plot(x_train.reshape(-1,1), train_1.reshape(-1,1), label='Real')\n",
    "ax.plot(x_test.reshape(-1,1), y_pred_tree, label='Prediction', linewidth =5)\n",
    "ax.plot(x_test.reshape(-1,1), test_1.reshape(-1,1), label = 'Test')\n",
    "ax.legend()"
   ]
  },
  {
   "cell_type": "code",
   "execution_count": null,
   "metadata": {},
   "outputs": [],
   "source": [
    "fig, ax = plt.subplots(1, 1, figsize=(15, 5))\n",
    "ax.plot(x_train.reshape(-1,1), train_1.reshape(-1,1), label='Train')\n",
    "ax.plot(x_test.reshape(-1,1), test_1.reshape(-1,1), label='Real')\n",
    "ax.plot(x_test.reshape(-1,1), y_pred_tree, label='Prediction')\n",
    "ax.legend()"
   ]
  },
  {
   "cell_type": "code",
   "execution_count": null,
   "metadata": {},
   "outputs": [],
   "source": [
    "tree_model = DecisionTreeRegressor(max_depth=7)"
   ]
  },
  {
   "cell_type": "code",
   "execution_count": null,
   "metadata": {},
   "outputs": [],
   "source": [
    "tree_model.fit(x_train.reshape(-1,1), train_1.reshape(-1,1))"
   ]
  },
  {
   "cell_type": "code",
   "execution_count": null,
   "metadata": {},
   "outputs": [],
   "source": [
    "y_pred_tree = tree_model.predict(x_train.reshape(-1,1))"
   ]
  },
  {
   "cell_type": "code",
   "execution_count": null,
   "metadata": {},
   "outputs": [],
   "source": [
    "fig, ax = plt.subplots(1, 1, figsize=(15, 5))\n",
    "ax.plot(x_train.reshape(-1,1), train_1.reshape(-1,1), label='Real')\n",
    "ax.plot(x_train.reshape(-1,1), y_pred_tree, label='Prediction')\n",
    "ax.legend()"
   ]
  },
  {
   "cell_type": "markdown",
   "metadata": {},
   "source": [
    "# RANDOM FOREST"
   ]
  },
  {
   "cell_type": "code",
   "execution_count": null,
   "metadata": {},
   "outputs": [],
   "source": [
    "from sklearn import ensemble"
   ]
  },
  {
   "cell_type": "code",
   "execution_count": null,
   "metadata": {},
   "outputs": [],
   "source": [
    "rf_model = ensemble.RandomForestRegressor(n_estimators=100, max_depth=20)\n",
    "rf_model.fit(x_train.reshape(-1,1), train_1.reshape(-1,1))\n",
    "y_pred_rf = rf_model.predict(x_test.reshape(-1,1))"
   ]
  },
  {
   "cell_type": "code",
   "execution_count": null,
   "metadata": {},
   "outputs": [],
   "source": [
    "fig, ax = plt.subplots(1, 1, figsize=(15, 5))\n",
    "ax.plot(x_train.reshape(-1,1), train_1.reshape(-1,1))\n",
    "ax.plot(x_test.reshape(-1,1), test_1.reshape(-1,1), label='Real')\n",
    "ax.plot(x_test.reshape(-1,1), y_pred_rf, label='Prediction')"
   ]
  },
  {
   "cell_type": "code",
   "execution_count": null,
   "metadata": {},
   "outputs": [],
   "source": [
    "x_train.reshape(-1,1).shape"
   ]
  },
  {
   "cell_type": "code",
   "execution_count": null,
   "metadata": {},
   "outputs": [],
   "source": [
    "x_test.reshape(-1,1).shape"
   ]
  },
  {
   "cell_type": "code",
   "execution_count": null,
   "metadata": {},
   "outputs": [],
   "source": [
    "x_train_month = np.hstack((x_train.reshape(-1,1), np.array(list(range(157)) * 65).reshape(-1,1)))\n",
    "x_test_month = np.hstack((x_test.reshape(-1,1), np.array(list(range(130)) * 31).reshape(-1,1)))"
   ]
  },
  {
   "cell_type": "code",
   "execution_count": null,
   "metadata": {},
   "outputs": [],
   "source": [
    "rf_model = ensemble.RandomForestRegressor(n_estimators=100, max_depth=20)\n",
    "rf_model.fit(x_train_month, train_1.reshape(-1,1))\n",
    "y_pred_rf = rf_model.predict(x_test_month)\n",
    "\n",
    "fig, ax = plt.subplots(1, 1, figsize=(15, 5))\n",
    "ax.plot(x_train.reshape(-1,1), train_1.reshape(-1,1), label='Train')\n",
    "ax.plot(x_test.reshape(-1,1), test_1.reshape(-1,1), label='Real')\n",
    "ax.plot(x_test.reshape(-1,1), y_pred_rf, label='Prediction')\n",
    "ax.legend()"
   ]
  },
  {
   "cell_type": "code",
   "execution_count": null,
   "metadata": {},
   "outputs": [],
   "source": [
    "x_train_month_year = np.hstack((x_train_month, np.repeat(list(range(157)), 65).reshape(-1,1)))\n",
    "x_test_month_year = np.hstack((x_test_month, np.repeat(list(range(1,131)), 31).reshape(-1,1)))"
   ]
  },
  {
   "cell_type": "code",
   "execution_count": null,
   "metadata": {},
   "outputs": [],
   "source": [
    "rf_model = ensemble.RandomForestRegressor(n_estimators=100, max_depth=20)\n",
    "rf_model.fit(x_train_month_year, train_1.reshape(-1,1))\n",
    "y_pred_rf = rf_model.predict(x_test_month_year)\n",
    "\n",
    "fig, ax = plt.subplots(1, 1, figsize=(15, 5))\n",
    "ax.plot(x_train.reshape(-1,1), train_1.reshape(-1,1))\n",
    "ax.plot(x_test.reshape(-1,1), test_1.reshape(-1,1), label='Real')\n",
    "ax.plot(x_test.reshape(-1,1), y_pred_rf, label='Prediction')\n",
    "ax.legend()"
   ]
  },
  {
   "cell_type": "markdown",
   "metadata": {},
   "source": [
    "# XGBOOST"
   ]
  },
  {
   "cell_type": "code",
   "execution_count": null,
   "metadata": {},
   "outputs": [],
   "source": [
    "from xgboost import XGBRegressor, plot_tree, plot_importance"
   ]
  },
  {
   "cell_type": "code",
   "execution_count": null,
   "metadata": {},
   "outputs": [],
   "source": [
    "xgb_model = XGBRegressor(n_estimators=100, max_depth=4)\n",
    "xgb_model.fit(x_train_month_year, train_1.reshape(-1,1))\n",
    "y_pred_xgb = xgb_model.predict(x_test_month_year)"
   ]
  },
  {
   "cell_type": "code",
   "execution_count": null,
   "metadata": {},
   "outputs": [],
   "source": [
    "fig, ax = plt.subplots(1, 1, figsize=(15, 5))\n",
    "ax.plot(x_train.reshape(-1,1), train_1.reshape(-1,1))\n",
    "ax.plot(x_test.reshape(-1,1), test_1.reshape(-1,1), label='Real')\n",
    "ax.plot(x_test.reshape(-1,1), y_pred_xgb, label='Prediction')"
   ]
  },
  {
   "cell_type": "code",
   "execution_count": null,
   "metadata": {},
   "outputs": [],
   "source": [
    "xgb_model = XGBRegressor(n_estimators=100, max_depth=3, learning_rate=1)\n",
    "xgb_model.fit(x_train_month_year, train_1.reshape(-1,1))\n",
    "y_pred_xgb = xgb_model.predict(x_test_month_year)\n",
    "\n",
    "\n",
    "\n",
    "fig, ax = plt.subplots(1, 1, figsize=(15, 5))\n",
    "ax.plot(x_train.reshape(-1,1), train_1.reshape(-1,1))\n",
    "ax.plot(x_test.reshape(-1,1), test_1.reshape(-1,1), label='Real')\n",
    "ax.plot(x_test.reshape(-1,1), y_pred_xgb, label='Prediction')"
   ]
  },
  {
   "cell_type": "code",
   "execution_count": null,
   "metadata": {},
   "outputs": [],
   "source": [
    "x_train_month_year_2ylag = np.hstack(((train_1.reshape(-1,1)[24:] / train_1.reshape(-1,1)[:-24])[:-24],\n",
    "                                      (train_1.reshape(-1,1)[24:] - train_1.reshape(-1,1)[:-24])[:-24],\n",
    "                                      x_train_month_year[48:,:]))"
   ]
  },
  {
   "cell_type": "code",
   "execution_count": null,
   "metadata": {},
   "outputs": [],
   "source": [
    "x_test_month_year_2ylag = np.hstack(((train_1[100:].reshape(-1,1) / train_1[:-100].reshape(-1,1))[:4030],\n",
    "                                     (train_1[100:].reshape(-1,1) - train_1[:-100].reshape(-1,1))[:4030],\n",
    "                                     x_test_month_year))"
   ]
  },
  {
   "cell_type": "code",
   "execution_count": null,
   "metadata": {},
   "outputs": [],
   "source": [
    "xgb_model = XGBRegressor(n_estimators=300, max_depth=3, learning_rate= 1.5)\n",
    "xgb_model.fit(x_train_month_year_2ylag, train_1.reshape(-1,1)[48:])\n",
    "y_pred_xgb_2ylag = xgb_model.predict(x_test_month_year_2ylag)\n",
    "\n",
    "fig, ax = plt.subplots(1, 1, figsize=(15, 5))\n",
    "ax.plot(x_train.reshape(-1,1), train_1.reshape(-1,1), label='Train')\n",
    "ax.plot(x_test.reshape(-1,1), test_1.reshape(-1,1), label='Real')\n",
    "ax.plot(x_test.reshape(-1,1), y_pred_xgb, label='Prediction')\n",
    "ax.plot(x_test.reshape(-1,1), y_pred_xgb_2ylag, label='Prediction 2y lag')\n",
    "ax.legend()"
   ]
  },
  {
   "cell_type": "code",
   "execution_count": null,
   "metadata": {},
   "outputs": [],
   "source": [
    "print(xgb_model.score(x_train_month_year_2ylag, train_1.reshape(-1,1)[48:]))"
   ]
  },
  {
   "cell_type": "code",
   "execution_count": null,
   "metadata": {},
   "outputs": [],
   "source": [
    "plt.figure()\n",
    "plot_importance(xgb_model, importance_type='gain')"
   ]
  },
  {
   "cell_type": "code",
   "execution_count": null,
   "metadata": {},
   "outputs": [],
   "source": [
    "train_log_trend = train_log_trend.values"
   ]
  },
  {
   "cell_type": "code",
   "execution_count": null,
   "metadata": {},
   "outputs": [],
   "source": [
    "fig, ax = plt.subplots(1, 1)\n",
    "ax.plot(x_train.reshape(-1,1), train_log_trend.reshape(-1,1))"
   ]
  },
  {
   "cell_type": "code",
   "execution_count": null,
   "metadata": {},
   "outputs": [],
   "source": [
    "xgb_model = XGBRegressor(n_estimators=500, max_depth=3, learning_rate=1.4)\n",
    "xgb_model.fit(x_train_month_year_2ylag, train_log_trend.reshape(-1,1)[48:])\n",
    "y_pred_xgb_2ylag_wotrend = xgb_model.predict(x_test_month_year_2ylag)"
   ]
  },
  {
   "cell_type": "code",
   "execution_count": null,
   "metadata": {
    "scrolled": true
   },
   "outputs": [],
   "source": [
    "xgb_model.score(x_train_month_year_2ylag, train_log_trend.reshape(-1,1)[48:])"
   ]
  },
  {
   "cell_type": "code",
   "execution_count": null,
   "metadata": {},
   "outputs": [],
   "source": [
    "fig, ax = plt.subplots(1, 1)\n",
    "ax.plot(x_train.reshape(-1,1), train_1.reshape(-1,1), label ='Train')\n",
    "ax.plot(x_test.reshape(-1,1), y_pred_xgb_2ylag_wotrend, label ='Test')\n",
    "ax.legend()"
   ]
  },
  {
   "cell_type": "code",
   "execution_count": null,
   "metadata": {},
   "outputs": [],
   "source": [
    "y_pred_xgb_2ylag_desc = (y_pred_xgb_2ylag_wotrend + model.predict(x_test.reshape(-1, 1)).squeeze())"
   ]
  },
  {
   "cell_type": "code",
   "execution_count": null,
   "metadata": {},
   "outputs": [],
   "source": [
    "fig, ax = plt.subplots(1, 1, figsize=(15, 5))\n",
    "ax.plot(x_train.reshape(-1,1), train_1.reshape(-1,1))\n",
    "#ax.plot(x_test.reshape(-1,1), test_1.reshape(-1,1), label='Real')\n",
    "\n",
    "#ax.plot(x_test, forecast_daily, linewidth='3', linestyle='--', markersize= 0.2, marker='o')\n",
    "#ax.plot(x_test.reshape(-1,1), y_pred_xgb_2ylag_wotrend, label='wotrend')\n",
    "#ax.plot(x_test.reshape(-1,1), y_pred_xgb, label='Prediction seasonality')\n",
    "#ax.plot(x_test.reshape(-1,1), y_pred_xgb_2ylag, label='Prediction 2y lag')\n",
    "ax.plot(x_test.reshape(-1,1), y_pred_xgb_2ylag_desc, label='Prediction 2y lag with desc')\n",
    "ax.legend()"
   ]
  },
  {
   "cell_type": "code",
   "execution_count": null,
   "metadata": {
    "scrolled": true
   },
   "outputs": [],
   "source": [
    "fig, ax = plt.subplots(1, 1, figsize=(15, 5))\n",
    "ax.plot(x_train.reshape(-1,1), train_1.reshape(-1,1))\n",
    "ax.plot(x_test.reshape(-1,1), test_1.reshape(-1,1), label='Real')\n",
    "ax.legend()"
   ]
  },
  {
   "cell_type": "code",
   "execution_count": null,
   "metadata": {},
   "outputs": [],
   "source": [
    "xgb_model.score(x_test_month_year_2ylag, y_pred_xgb_2ylag_desc)"
   ]
  }
 ],
 "metadata": {
  "kernelspec": {
   "display_name": "Python 3",
   "language": "python",
   "name": "python3"
  },
  "language_info": {
   "codemirror_mode": {
    "name": "ipython",
    "version": 3
   },
   "file_extension": ".py",
   "mimetype": "text/x-python",
   "name": "python",
   "nbconvert_exporter": "python",
   "pygments_lexer": "ipython3",
   "version": "3.7.5"
  }
 },
 "nbformat": 4,
 "nbformat_minor": 2
}
