{
 "cells": [
  {
   "cell_type": "code",
   "execution_count": 1,
   "metadata": {},
   "outputs": [],
   "source": [
    "import pandas as pd\n",
    "import numpy as np\n",
    "import time\n",
    "import datetime \n",
    "import scipy.stats\n",
    "from matplotlib import pyplot as plt\n",
    "import seaborn as sns\n",
    "pd.options.display.max_rows = 53000\n",
    "%matplotlib inline"
   ]
  },
  {
   "cell_type": "code",
   "execution_count": 2,
   "metadata": {},
   "outputs": [],
   "source": [
    "data = pd.read_csv('/mnt/c/users/marcj/Desktop/MASTER/TFM/DADES POLLUTION/Datos/Dades_meteorol_giques_de_la_XEMA_2.csv', dtype='object')"
   ]
  },
  {
   "cell_type": "code",
   "execution_count": 3,
   "metadata": {},
   "outputs": [
    {
     "data": {
      "text/plain": [
       "Index(['ID', 'CODI_ESTACIO', 'CODI_VARIABLE', 'DATA_LECTURA', 'DATA_EXTREM',\n",
       "       'VALOR_LECTURA', 'CODI_ESTAT', 'CODI_BASE'],\n",
       "      dtype='object')"
      ]
     },
     "execution_count": 3,
     "metadata": {},
     "output_type": "execute_result"
    }
   ],
   "source": [
    "data.columns"
   ]
  },
  {
   "cell_type": "code",
   "execution_count": 4,
   "metadata": {},
   "outputs": [],
   "source": [
    "data['CODI_BASE'].replace(to_replace= 'SH', value=18, inplace=True)"
   ]
  },
  {
   "cell_type": "code",
   "execution_count": 5,
   "metadata": {},
   "outputs": [],
   "source": [
    "data.drop(['DATA_EXTREM'], axis=1, inplace=True)"
   ]
  },
  {
   "cell_type": "code",
   "execution_count": 6,
   "metadata": {},
   "outputs": [
    {
     "data": {
      "text/plain": [
       "(892421, 7)"
      ]
     },
     "execution_count": 6,
     "metadata": {},
     "output_type": "execute_result"
    }
   ],
   "source": [
    "data.shape"
   ]
  },
  {
   "cell_type": "code",
   "execution_count": 7,
   "metadata": {},
   "outputs": [
    {
     "data": {
      "text/plain": [
       "Index(['ID', 'CODI_ESTACIO', 'CODI_VARIABLE', 'DATA_LECTURA', 'VALOR_LECTURA',\n",
       "       'CODI_ESTAT', 'CODI_BASE'],\n",
       "      dtype='object')"
      ]
     },
     "execution_count": 7,
     "metadata": {},
     "output_type": "execute_result"
    }
   ],
   "source": [
    "data.columns"
   ]
  },
  {
   "cell_type": "code",
   "execution_count": 8,
   "metadata": {},
   "outputs": [],
   "source": [
    "data = data.sort_values(['DATA_LECTURA'])"
   ]
  },
  {
   "cell_type": "code",
   "execution_count": 9,
   "metadata": {},
   "outputs": [],
   "source": [
    "data['DATA_LECTURA']= pd.to_datetime(data['DATA_LECTURA'])"
   ]
  },
  {
   "cell_type": "code",
   "execution_count": 10,
   "metadata": {
    "scrolled": true
   },
   "outputs": [
    {
     "data": {
      "text/plain": [
       "ID               0\n",
       "CODI_ESTACIO     0\n",
       "CODI_VARIABLE    0\n",
       "DATA_LECTURA     0\n",
       "VALOR_LECTURA    0\n",
       "CODI_ESTAT       0\n",
       "CODI_BASE        0\n",
       "dtype: int64"
      ]
     },
     "execution_count": 10,
     "metadata": {},
     "output_type": "execute_result"
    }
   ],
   "source": [
    "data.isnull().sum()"
   ]
  },
  {
   "cell_type": "code",
   "execution_count": 11,
   "metadata": {},
   "outputs": [
    {
     "data": {
      "text/html": [
       "<div>\n",
       "<style scoped>\n",
       "    .dataframe tbody tr th:only-of-type {\n",
       "        vertical-align: middle;\n",
       "    }\n",
       "\n",
       "    .dataframe tbody tr th {\n",
       "        vertical-align: top;\n",
       "    }\n",
       "\n",
       "    .dataframe thead th {\n",
       "        text-align: right;\n",
       "    }\n",
       "</style>\n",
       "<table border=\"1\" class=\"dataframe\">\n",
       "  <thead>\n",
       "    <tr style=\"text-align: right;\">\n",
       "      <th></th>\n",
       "      <th>ID</th>\n",
       "      <th>CODI_ESTACIO</th>\n",
       "      <th>CODI_VARIABLE</th>\n",
       "      <th>DATA_LECTURA</th>\n",
       "      <th>VALOR_LECTURA</th>\n",
       "      <th>CODI_ESTAT</th>\n",
       "      <th>CODI_BASE</th>\n",
       "    </tr>\n",
       "  </thead>\n",
       "  <tbody>\n",
       "    <tr>\n",
       "      <th>37</th>\n",
       "      <td>D5300101170100</td>\n",
       "      <td>D5</td>\n",
       "      <td>30</td>\n",
       "      <td>2017-01-01 01:00:00</td>\n",
       "      <td>6.9</td>\n",
       "      <td>V</td>\n",
       "      <td>18</td>\n",
       "    </tr>\n",
       "    <tr>\n",
       "      <th>35</th>\n",
       "      <td>D5320101170100</td>\n",
       "      <td>D5</td>\n",
       "      <td>32</td>\n",
       "      <td>2017-01-01 01:00:00</td>\n",
       "      <td>7.4</td>\n",
       "      <td>V</td>\n",
       "      <td>18</td>\n",
       "    </tr>\n",
       "    <tr>\n",
       "      <th>36</th>\n",
       "      <td>D5330101170100</td>\n",
       "      <td>D5</td>\n",
       "      <td>33</td>\n",
       "      <td>2017-01-01 01:00:00</td>\n",
       "      <td>72</td>\n",
       "      <td>V</td>\n",
       "      <td>18</td>\n",
       "    </tr>\n",
       "    <tr>\n",
       "      <th>38</th>\n",
       "      <td>D5350101170100</td>\n",
       "      <td>D5</td>\n",
       "      <td>35</td>\n",
       "      <td>2017-01-01 01:00:00</td>\n",
       "      <td>0</td>\n",
       "      <td>V</td>\n",
       "      <td>18</td>\n",
       "    </tr>\n",
       "    <tr>\n",
       "      <th>39</th>\n",
       "      <td>X2320101170100</td>\n",
       "      <td>X2</td>\n",
       "      <td>32</td>\n",
       "      <td>2017-01-01 01:00:00</td>\n",
       "      <td>6.9</td>\n",
       "      <td>V</td>\n",
       "      <td>18</td>\n",
       "    </tr>\n",
       "  </tbody>\n",
       "</table>\n",
       "</div>"
      ],
      "text/plain": [
       "                ID CODI_ESTACIO CODI_VARIABLE        DATA_LECTURA  \\\n",
       "37  D5300101170100           D5            30 2017-01-01 01:00:00   \n",
       "35  D5320101170100           D5            32 2017-01-01 01:00:00   \n",
       "36  D5330101170100           D5            33 2017-01-01 01:00:00   \n",
       "38  D5350101170100           D5            35 2017-01-01 01:00:00   \n",
       "39  X2320101170100           X2            32 2017-01-01 01:00:00   \n",
       "\n",
       "   VALOR_LECTURA CODI_ESTAT  CODI_BASE  \n",
       "37           6.9          V         18  \n",
       "35           7.4          V         18  \n",
       "36            72          V         18  \n",
       "38             0          V         18  \n",
       "39           6.9          V         18  "
      ]
     },
     "execution_count": 11,
     "metadata": {},
     "output_type": "execute_result"
    }
   ],
   "source": [
    "data.head()"
   ]
  },
  {
   "cell_type": "code",
   "execution_count": 12,
   "metadata": {},
   "outputs": [],
   "source": [
    "data['VARIABLE_METEO'] = data.CODI_VARIABLE.astype('category').cat.rename_categories({\n",
    "    '30':'Velocitat del vent', '32':'Temperatura', '33':'Humitat Relativa',\n",
    "    '34':'Pressió Atmosfèrica', '35':'Precipitació'})"
   ]
  },
  {
   "cell_type": "code",
   "execution_count": 13,
   "metadata": {},
   "outputs": [],
   "source": [
    "datavent = data[data.VARIABLE_METEO == 'Velocitat del vent']"
   ]
  },
  {
   "cell_type": "code",
   "execution_count": 14,
   "metadata": {},
   "outputs": [
    {
     "name": "stderr",
     "output_type": "stream",
     "text": [
      "/home/marc/[/Usuarios/marcj/Descargas]/envs/masterds/lib/python3.7/site-packages/ipykernel_launcher.py:1: SettingWithCopyWarning: \n",
      "A value is trying to be set on a copy of a slice from a DataFrame.\n",
      "Try using .loc[row_indexer,col_indexer] = value instead\n",
      "\n",
      "See the caveats in the documentation: http://pandas.pydata.org/pandas-docs/stable/user_guide/indexing.html#returning-a-view-versus-a-copy\n",
      "  \"\"\"Entry point for launching an IPython kernel.\n"
     ]
    }
   ],
   "source": [
    "datavent['CODI_ESTAT'] = datavent.CODI_ESTAT == 'V'"
   ]
  },
  {
   "cell_type": "code",
   "execution_count": 15,
   "metadata": {},
   "outputs": [
    {
     "data": {
      "text/plain": [
       "Index(['ID', 'CODI_ESTACIO', 'CODI_VARIABLE', 'DATA_LECTURA', 'VALOR_LECTURA',\n",
       "       'CODI_ESTAT', 'CODI_BASE', 'VARIABLE_METEO'],\n",
       "      dtype='object')"
      ]
     },
     "execution_count": 15,
     "metadata": {},
     "output_type": "execute_result"
    }
   ],
   "source": [
    "datavent.columns"
   ]
  },
  {
   "cell_type": "code",
   "execution_count": 16,
   "metadata": {},
   "outputs": [
    {
     "name": "stderr",
     "output_type": "stream",
     "text": [
      "/home/marc/[/Usuarios/marcj/Descargas]/envs/masterds/lib/python3.7/site-packages/pandas/core/frame.py:4238: SettingWithCopyWarning: \n",
      "A value is trying to be set on a copy of a slice from a DataFrame\n",
      "\n",
      "See the caveats in the documentation: http://pandas.pydata.org/pandas-docs/stable/user_guide/indexing.html#returning-a-view-versus-a-copy\n",
      "  return super().rename(**kwargs)\n"
     ]
    }
   ],
   "source": [
    "datavent.rename(columns={'DATA_LECTURA':'DATA'}, inplace=True)"
   ]
  },
  {
   "cell_type": "code",
   "execution_count": 17,
   "metadata": {},
   "outputs": [
    {
     "data": {
      "text/plain": [
       "Index(['ID', 'CODI_ESTACIO', 'CODI_VARIABLE', 'DATA', 'VALOR_LECTURA',\n",
       "       'CODI_ESTAT', 'CODI_BASE', 'VARIABLE_METEO'],\n",
       "      dtype='object')"
      ]
     },
     "execution_count": 17,
     "metadata": {},
     "output_type": "execute_result"
    }
   ],
   "source": [
    "datavent.columns"
   ]
  },
  {
   "cell_type": "code",
   "execution_count": 18,
   "metadata": {
    "scrolled": true
   },
   "outputs": [
    {
     "data": {
      "text/html": [
       "<div>\n",
       "<style scoped>\n",
       "    .dataframe tbody tr th:only-of-type {\n",
       "        vertical-align: middle;\n",
       "    }\n",
       "\n",
       "    .dataframe tbody tr th {\n",
       "        vertical-align: top;\n",
       "    }\n",
       "\n",
       "    .dataframe thead th {\n",
       "        text-align: right;\n",
       "    }\n",
       "</style>\n",
       "<table border=\"1\" class=\"dataframe\">\n",
       "  <thead>\n",
       "    <tr style=\"text-align: right;\">\n",
       "      <th></th>\n",
       "      <th>ID</th>\n",
       "      <th>CODI_ESTACIO</th>\n",
       "      <th>CODI_VARIABLE</th>\n",
       "      <th>DATA</th>\n",
       "      <th>VALOR_LECTURA</th>\n",
       "      <th>CODI_ESTAT</th>\n",
       "      <th>CODI_BASE</th>\n",
       "      <th>VARIABLE_METEO</th>\n",
       "    </tr>\n",
       "  </thead>\n",
       "  <tbody>\n",
       "    <tr>\n",
       "      <th>37</th>\n",
       "      <td>D5300101170100</td>\n",
       "      <td>D5</td>\n",
       "      <td>30</td>\n",
       "      <td>2017-01-01 01:00:00</td>\n",
       "      <td>6.9</td>\n",
       "      <td>True</td>\n",
       "      <td>18</td>\n",
       "      <td>Velocitat del vent</td>\n",
       "    </tr>\n",
       "    <tr>\n",
       "      <th>41</th>\n",
       "      <td>X4300101170100</td>\n",
       "      <td>X4</td>\n",
       "      <td>30</td>\n",
       "      <td>2017-01-01 01:00:00</td>\n",
       "      <td>1.8</td>\n",
       "      <td>True</td>\n",
       "      <td>18</td>\n",
       "      <td>Velocitat del vent</td>\n",
       "    </tr>\n",
       "    <tr>\n",
       "      <th>46</th>\n",
       "      <td>X8300101170100</td>\n",
       "      <td>X8</td>\n",
       "      <td>30</td>\n",
       "      <td>2017-01-01 01:00:00</td>\n",
       "      <td>2.3</td>\n",
       "      <td>True</td>\n",
       "      <td>18</td>\n",
       "      <td>Velocitat del vent</td>\n",
       "    </tr>\n",
       "    <tr>\n",
       "      <th>453</th>\n",
       "      <td>X4300101171300</td>\n",
       "      <td>X4</td>\n",
       "      <td>30</td>\n",
       "      <td>2017-01-01 13:00:00</td>\n",
       "      <td>2</td>\n",
       "      <td>True</td>\n",
       "      <td>18</td>\n",
       "      <td>Velocitat del vent</td>\n",
       "    </tr>\n",
       "    <tr>\n",
       "      <th>444</th>\n",
       "      <td>D5300101171300</td>\n",
       "      <td>D5</td>\n",
       "      <td>30</td>\n",
       "      <td>2017-01-01 13:00:00</td>\n",
       "      <td>5.4</td>\n",
       "      <td>True</td>\n",
       "      <td>18</td>\n",
       "      <td>Velocitat del vent</td>\n",
       "    </tr>\n",
       "    <tr>\n",
       "      <th>...</th>\n",
       "      <td>...</td>\n",
       "      <td>...</td>\n",
       "      <td>...</td>\n",
       "      <td>...</td>\n",
       "      <td>...</td>\n",
       "      <td>...</td>\n",
       "      <td>...</td>\n",
       "      <td>...</td>\n",
       "    </tr>\n",
       "    <tr>\n",
       "      <th>595012</th>\n",
       "      <td>X4303112181230</td>\n",
       "      <td>X4</td>\n",
       "      <td>30</td>\n",
       "      <td>2018-12-31 12:30:00</td>\n",
       "      <td>1.6</td>\n",
       "      <td>True</td>\n",
       "      <td>18</td>\n",
       "      <td>Velocitat del vent</td>\n",
       "    </tr>\n",
       "    <tr>\n",
       "      <th>595019</th>\n",
       "      <td>X8303112181230</td>\n",
       "      <td>X8</td>\n",
       "      <td>30</td>\n",
       "      <td>2018-12-31 12:30:00</td>\n",
       "      <td>1.7</td>\n",
       "      <td>True</td>\n",
       "      <td>18</td>\n",
       "      <td>Velocitat del vent</td>\n",
       "    </tr>\n",
       "    <tr>\n",
       "      <th>867122</th>\n",
       "      <td>X8303112190000</td>\n",
       "      <td>X8</td>\n",
       "      <td>30</td>\n",
       "      <td>2019-12-31 00:00:00</td>\n",
       "      <td>0.1</td>\n",
       "      <td>True</td>\n",
       "      <td>18</td>\n",
       "      <td>Velocitat del vent</td>\n",
       "    </tr>\n",
       "    <tr>\n",
       "      <th>867119</th>\n",
       "      <td>X4303112190000</td>\n",
       "      <td>X4</td>\n",
       "      <td>30</td>\n",
       "      <td>2019-12-31 00:00:00</td>\n",
       "      <td>0.7</td>\n",
       "      <td>True</td>\n",
       "      <td>18</td>\n",
       "      <td>Velocitat del vent</td>\n",
       "    </tr>\n",
       "    <tr>\n",
       "      <th>867112</th>\n",
       "      <td>D5303112190000</td>\n",
       "      <td>D5</td>\n",
       "      <td>30</td>\n",
       "      <td>2019-12-31 00:00:00</td>\n",
       "      <td>3.7</td>\n",
       "      <td>True</td>\n",
       "      <td>18</td>\n",
       "      <td>Velocitat del vent</td>\n",
       "    </tr>\n",
       "  </tbody>\n",
       "</table>\n",
       "<p>157251 rows × 8 columns</p>\n",
       "</div>"
      ],
      "text/plain": [
       "                    ID CODI_ESTACIO CODI_VARIABLE                DATA  \\\n",
       "37      D5300101170100           D5            30 2017-01-01 01:00:00   \n",
       "41      X4300101170100           X4            30 2017-01-01 01:00:00   \n",
       "46      X8300101170100           X8            30 2017-01-01 01:00:00   \n",
       "453     X4300101171300           X4            30 2017-01-01 13:00:00   \n",
       "444     D5300101171300           D5            30 2017-01-01 13:00:00   \n",
       "...                ...          ...           ...                 ...   \n",
       "595012  X4303112181230           X4            30 2018-12-31 12:30:00   \n",
       "595019  X8303112181230           X8            30 2018-12-31 12:30:00   \n",
       "867122  X8303112190000           X8            30 2019-12-31 00:00:00   \n",
       "867119  X4303112190000           X4            30 2019-12-31 00:00:00   \n",
       "867112  D5303112190000           D5            30 2019-12-31 00:00:00   \n",
       "\n",
       "       VALOR_LECTURA  CODI_ESTAT  CODI_BASE      VARIABLE_METEO  \n",
       "37               6.9        True         18  Velocitat del vent  \n",
       "41               1.8        True         18  Velocitat del vent  \n",
       "46               2.3        True         18  Velocitat del vent  \n",
       "453                2        True         18  Velocitat del vent  \n",
       "444              5.4        True         18  Velocitat del vent  \n",
       "...              ...         ...        ...                 ...  \n",
       "595012           1.6        True         18  Velocitat del vent  \n",
       "595019           1.7        True         18  Velocitat del vent  \n",
       "867122           0.1        True         18  Velocitat del vent  \n",
       "867119           0.7        True         18  Velocitat del vent  \n",
       "867112           3.7        True         18  Velocitat del vent  \n",
       "\n",
       "[157251 rows x 8 columns]"
      ]
     },
     "execution_count": 18,
     "metadata": {},
     "output_type": "execute_result"
    }
   ],
   "source": [
    "datavent"
   ]
  },
  {
   "cell_type": "code",
   "execution_count": 19,
   "metadata": {},
   "outputs": [
    {
     "data": {
      "text/plain": [
       "array(['D5', 'X4', 'X8'], dtype=object)"
      ]
     },
     "execution_count": 19,
     "metadata": {},
     "output_type": "execute_result"
    }
   ],
   "source": [
    "datavent['CODI_ESTACIO'].unique()"
   ]
  },
  {
   "cell_type": "code",
   "execution_count": 20,
   "metadata": {},
   "outputs": [],
   "source": [
    "datavent_fabra = datavent[datavent['CODI_ESTACIO'] == 'D5']"
   ]
  },
  {
   "cell_type": "code",
   "execution_count": 21,
   "metadata": {},
   "outputs": [],
   "source": [
    "datavent_raval = datavent[datavent['CODI_ESTACIO'] == 'X4']"
   ]
  },
  {
   "cell_type": "code",
   "execution_count": 22,
   "metadata": {},
   "outputs": [],
   "source": [
    "datavent_zoo = datavent[datavent['CODI_ESTACIO'] == 'X2']"
   ]
  },
  {
   "cell_type": "code",
   "execution_count": 23,
   "metadata": {},
   "outputs": [],
   "source": [
    "datavent_zonauniversitaria = datavent[datavent['CODI_ESTACIO'] == 'X8']"
   ]
  },
  {
   "cell_type": "code",
   "execution_count": 24,
   "metadata": {},
   "outputs": [],
   "source": [
    "seriecontvent_fabra = datavent_fabra[datavent_fabra.CODI_ESTAT == True]\n",
    "seriecontvent_fabra= seriecontvent_fabra.sort_values('VALOR_LECTURA', ascending=False)\n",
    "seriecontvent_fabra= seriecontvent_fabra.groupby(['CODI_BASE', 'DATA'])\n",
    "seriecontvent_fabra = seriecontvent_fabra.agg({'VALOR_LECTURA': lambda x: x.head(1).mean()})\n",
    "seriecontvent_fabra= seriecontvent_fabra.reset_index(drop=False)\n",
    "seriecontvent_fabra= seriecontvent_fabra.groupby('CODI_BASE')\n",
    "seriecontvent_fabra = seriecontvent_fabra.rolling(window= 1, on='DATA').mean()\n",
    "seriecontvent_fabra = seriecontvent_fabra.drop('CODI_BASE', axis=1).reset_index()\n",
    "seriecontvent_fabra = seriecontvent_fabra.set_index('DATA')\n",
    "seriecontvent_fabra= seriecontvent_fabra.groupby(lambda x: x.date)\n",
    "seriecontvent_fabra = seriecontvent_fabra.agg({'VALOR_LECTURA':max})"
   ]
  },
  {
   "cell_type": "code",
   "execution_count": 25,
   "metadata": {},
   "outputs": [],
   "source": [
    "seriecontvent_raval = datavent_raval[datavent_raval.CODI_ESTAT == True]\n",
    "seriecontvent_raval= seriecontvent_raval.sort_values('VALOR_LECTURA', ascending=False)\n",
    "seriecontvent_raval= seriecontvent_raval.groupby(['CODI_BASE', 'DATA'])\n",
    "seriecontvent_raval = seriecontvent_raval.agg({'VALOR_LECTURA': lambda x: x.head(1).mean()})\n",
    "seriecontvent_raval= seriecontvent_raval.reset_index(drop=False)\n",
    "seriecontvent_raval= seriecontvent_raval.groupby('CODI_BASE')\n",
    "seriecontvent_raval = seriecontvent_raval.rolling(window= 1, on='DATA').mean()\n",
    "seriecontvent_raval = seriecontvent_raval.drop('CODI_BASE', axis=1).reset_index()\n",
    "seriecontvent_raval = seriecontvent_raval.set_index('DATA')\n",
    "seriecontvent_raval= seriecontvent_raval.groupby(lambda x: x.date)\n",
    "seriecontvent_raval = seriecontvent_raval.agg({'VALOR_LECTURA':max})"
   ]
  },
  {
   "cell_type": "code",
   "execution_count": 26,
   "metadata": {},
   "outputs": [],
   "source": [
    "seriecontvent_zonauniversitaria = datavent_zonauniversitaria[datavent_zonauniversitaria.CODI_ESTAT == True]\n",
    "seriecontvent_zonauniversitaria = seriecontvent_zonauniversitaria.sort_values('VALOR_LECTURA', ascending=False)\n",
    "seriecontvent_zonauniversitaria = seriecontvent_zonauniversitaria.groupby(['CODI_BASE', 'DATA'])\n",
    "seriecontvent_zonauniversitaria = seriecontvent_zonauniversitaria.agg({'VALOR_LECTURA': lambda x: x.head(1).mean()})\n",
    "seriecontvent_zonauniversitaria = seriecontvent_zonauniversitaria.reset_index(drop=False)\n",
    "seriecontvent_zonauniversitaria = seriecontvent_zonauniversitaria.groupby('CODI_BASE')\n",
    "seriecontvent_zonauniversitaria = seriecontvent_zonauniversitaria.rolling(window= 1, on='DATA').mean()\n",
    "seriecontvent_zonauniversitaria = seriecontvent_zonauniversitaria.drop('CODI_BASE', axis=1).reset_index()\n",
    "seriecontvent_zonauniversitaria = seriecontvent_zonauniversitaria.set_index('DATA')\n",
    "seriecontvent_zonauniversitaria = seriecontvent_zonauniversitaria.groupby(lambda x: x.date)\n",
    "seriecontvent_zonauniversitaria = seriecontvent_zonauniversitaria.agg({'VALOR_LECTURA':max})"
   ]
  },
  {
   "cell_type": "code",
   "execution_count": 27,
   "metadata": {},
   "outputs": [],
   "source": [
    "seriecontvent_fabra.index.names = ['DATA']\n",
    "seriecontvent_fabra = seriecontvent_fabra.reset_index()"
   ]
  },
  {
   "cell_type": "code",
   "execution_count": 28,
   "metadata": {},
   "outputs": [],
   "source": [
    "seriecontvent_fabra.to_csv('meteo-vent-fabra', index=False)"
   ]
  },
  {
   "cell_type": "code",
   "execution_count": 29,
   "metadata": {},
   "outputs": [],
   "source": [
    "seriecontvent_raval.index.names = ['DATA']\n",
    "seriecontvent_raval = seriecontvent_raval.reset_index()"
   ]
  },
  {
   "cell_type": "code",
   "execution_count": 30,
   "metadata": {},
   "outputs": [],
   "source": [
    "seriecontvent_raval.to_csv('meteo-vent-raval', index=False)"
   ]
  },
  {
   "cell_type": "code",
   "execution_count": 31,
   "metadata": {},
   "outputs": [],
   "source": [
    "seriecontvent_zonauniversitaria.index.names = ['DATA']\n",
    "seriecontvent_zonauniversitaria = seriecontvent_zonauniversitaria.reset_index()"
   ]
  },
  {
   "cell_type": "code",
   "execution_count": 32,
   "metadata": {},
   "outputs": [],
   "source": [
    "seriecontvent_zonauniversitaria.to_csv('meteo-vent-zonauniversitaria', index=False)"
   ]
  },
  {
   "cell_type": "code",
   "execution_count": 33,
   "metadata": {},
   "outputs": [],
   "source": [
    "datatemp = data[data.VARIABLE_METEO == 'Temperatura']"
   ]
  },
  {
   "cell_type": "code",
   "execution_count": 34,
   "metadata": {},
   "outputs": [
    {
     "name": "stderr",
     "output_type": "stream",
     "text": [
      "/home/marc/[/Usuarios/marcj/Descargas]/envs/masterds/lib/python3.7/site-packages/ipykernel_launcher.py:1: SettingWithCopyWarning: \n",
      "A value is trying to be set on a copy of a slice from a DataFrame.\n",
      "Try using .loc[row_indexer,col_indexer] = value instead\n",
      "\n",
      "See the caveats in the documentation: http://pandas.pydata.org/pandas-docs/stable/user_guide/indexing.html#returning-a-view-versus-a-copy\n",
      "  \"\"\"Entry point for launching an IPython kernel.\n"
     ]
    }
   ],
   "source": [
    "datatemp['CODI_ESTAT'] = datatemp.CODI_ESTAT == 'V'"
   ]
  },
  {
   "cell_type": "code",
   "execution_count": 35,
   "metadata": {},
   "outputs": [
    {
     "data": {
      "text/plain": [
       "Index(['ID', 'CODI_ESTACIO', 'CODI_VARIABLE', 'DATA_LECTURA', 'VALOR_LECTURA',\n",
       "       'CODI_ESTAT', 'CODI_BASE', 'VARIABLE_METEO'],\n",
       "      dtype='object')"
      ]
     },
     "execution_count": 35,
     "metadata": {},
     "output_type": "execute_result"
    }
   ],
   "source": [
    "datatemp.columns"
   ]
  },
  {
   "cell_type": "code",
   "execution_count": 36,
   "metadata": {},
   "outputs": [],
   "source": [
    "datatemp.rename(columns={'DATA_LECTURA':'DATA'}, inplace=True)"
   ]
  },
  {
   "cell_type": "code",
   "execution_count": 37,
   "metadata": {},
   "outputs": [],
   "source": [
    "datatemp_fabra = datatemp[datatemp['CODI_ESTACIO'] == 'D5']"
   ]
  },
  {
   "cell_type": "code",
   "execution_count": 38,
   "metadata": {},
   "outputs": [],
   "source": [
    "datatemp_raval = datatemp[datatemp['CODI_ESTACIO'] == 'X4']"
   ]
  },
  {
   "cell_type": "code",
   "execution_count": 39,
   "metadata": {},
   "outputs": [],
   "source": [
    "datatemp_zoo = datatemp[datatemp['CODI_ESTACIO'] == 'X2']"
   ]
  },
  {
   "cell_type": "code",
   "execution_count": 40,
   "metadata": {},
   "outputs": [],
   "source": [
    "datatemp_zonauniversitaria = datatemp[datatemp['CODI_ESTACIO'] == 'X8']"
   ]
  },
  {
   "cell_type": "code",
   "execution_count": 41,
   "metadata": {},
   "outputs": [],
   "source": [
    "serieconttemp_fabra = datatemp_fabra[datatemp_fabra.CODI_ESTAT == True]\n",
    "serieconttemp_fabra= serieconttemp_fabra.sort_values('VALOR_LECTURA', ascending=False)\n",
    "serieconttemp_fabra= serieconttemp_fabra.groupby(['CODI_BASE', 'DATA'])\n",
    "serieconttemp_fabra = serieconttemp_fabra.agg({'VALOR_LECTURA': lambda x: x.head(1).mean()})\n",
    "serieconttemp_fabra= serieconttemp_fabra.reset_index(drop=False)\n",
    "serieconttemp_fabra= serieconttemp_fabra.groupby('CODI_BASE')\n",
    "serieconttemp_fabra = serieconttemp_fabra.rolling(window= 1, on='DATA').mean()\n",
    "serieconttemp_fabra = serieconttemp_fabra.drop('CODI_BASE', axis=1).reset_index()\n",
    "serieconttemp_fabra = serieconttemp_fabra.set_index('DATA')\n",
    "serieconttemp_fabra= serieconttemp_fabra.groupby(lambda x: x.date)\n",
    "serieconttemp_fabra = serieconttemp_fabra.agg({'VALOR_LECTURA':max})"
   ]
  },
  {
   "cell_type": "code",
   "execution_count": 42,
   "metadata": {},
   "outputs": [],
   "source": [
    "serieconttemp_raval = datatemp_raval[datatemp_raval.CODI_ESTAT == True]\n",
    "serieconttemp_raval = serieconttemp_raval.sort_values('VALOR_LECTURA', ascending=False)\n",
    "serieconttemp_raval = serieconttemp_raval.groupby(['CODI_BASE', 'DATA'])\n",
    "serieconttemp_raval = serieconttemp_raval.agg({'VALOR_LECTURA': lambda x: x.head(1).mean()})\n",
    "serieconttemp_raval = serieconttemp_raval.reset_index(drop=False)\n",
    "serieconttemp_raval = serieconttemp_raval.groupby('CODI_BASE')\n",
    "serieconttemp_raval = serieconttemp_raval.rolling(window= 1, on='DATA').mean()\n",
    "serieconttemp_raval = serieconttemp_raval.drop('CODI_BASE', axis=1).reset_index()\n",
    "serieconttemp_raval = serieconttemp_raval.set_index('DATA')\n",
    "serieconttemp_raval = serieconttemp_raval.groupby(lambda x: x.date)\n",
    "serieconttemp_raval = serieconttemp_raval.agg({'VALOR_LECTURA':max})"
   ]
  },
  {
   "cell_type": "code",
   "execution_count": 43,
   "metadata": {},
   "outputs": [],
   "source": [
    "serieconttemp_zoo = datatemp_zoo[datatemp_zoo.CODI_ESTAT == True]\n",
    "serieconttemp_zoo= serieconttemp_zoo.sort_values('VALOR_LECTURA', ascending=False)\n",
    "serieconttemp_zoo= serieconttemp_zoo.groupby(['CODI_BASE', 'DATA'])\n",
    "serieconttemp_zoo = serieconttemp_zoo.agg({'VALOR_LECTURA': lambda x: x.head(1).mean()})\n",
    "serieconttemp_zoo = serieconttemp_zoo.reset_index(drop=False)\n",
    "serieconttemp_zoo = serieconttemp_zoo.groupby('CODI_BASE')\n",
    "serieconttemp_zoo = serieconttemp_zoo.rolling(window= 1, on='DATA').mean()\n",
    "serieconttemp_zoo = serieconttemp_zoo.drop('CODI_BASE', axis=1).reset_index()\n",
    "serieconttemp_zoo = serieconttemp_zoo.set_index('DATA')\n",
    "serieconttemp_zoo = serieconttemp_zoo.groupby(lambda x: x.date)\n",
    "serieconttemp_zoo = serieconttemp_zoo.agg({'VALOR_LECTURA':max})"
   ]
  },
  {
   "cell_type": "code",
   "execution_count": 44,
   "metadata": {},
   "outputs": [],
   "source": [
    "serieconttemp_zonauniversitaria = datatemp_zonauniversitaria[datatemp_zonauniversitaria.CODI_ESTAT == True]\n",
    "serieconttemp_zonauniversitaria = serieconttemp_zonauniversitaria.sort_values('VALOR_LECTURA', ascending=False)\n",
    "serieconttemp_zonauniversitaria = serieconttemp_zonauniversitaria.groupby(['CODI_BASE', 'DATA'])\n",
    "serieconttemp_zonauniversitaria = serieconttemp_zonauniversitaria.agg({'VALOR_LECTURA': lambda x: x.head(1).mean()})\n",
    "serieconttemp_zonauniversitaria = serieconttemp_zonauniversitaria.reset_index(drop=False)\n",
    "serieconttemp_zonauniversitaria = serieconttemp_zonauniversitaria.groupby('CODI_BASE')\n",
    "serieconttemp_zonauniversitaria = serieconttemp_zonauniversitaria.rolling(window= 1, on='DATA').mean()\n",
    "serieconttemp_zonauniversitaria = serieconttemp_zonauniversitaria.drop('CODI_BASE', axis=1).reset_index()\n",
    "serieconttemp_zonauniversitaria = serieconttemp_zonauniversitaria.set_index('DATA')\n",
    "serieconttemp_zonauniversitaria = serieconttemp_zonauniversitaria.groupby(lambda x: x.date)\n",
    "serieconttemp_zonauniversitaria = serieconttemp_zonauniversitaria.agg({'VALOR_LECTURA':max})"
   ]
  },
  {
   "cell_type": "code",
   "execution_count": 45,
   "metadata": {},
   "outputs": [],
   "source": [
    "serieconttemp_fabra.index.names = ['DATA']\n",
    "serieconttemp_fabra = serieconttemp_fabra.reset_index()"
   ]
  },
  {
   "cell_type": "code",
   "execution_count": 46,
   "metadata": {},
   "outputs": [],
   "source": [
    "serieconttemp_fabra.to_csv('meteo-temp-fabra', index=False)"
   ]
  },
  {
   "cell_type": "code",
   "execution_count": 47,
   "metadata": {},
   "outputs": [],
   "source": [
    "serieconttemp_raval.index.names = ['DATA']\n",
    "serieconttemp_raval = serieconttemp_raval.reset_index()"
   ]
  },
  {
   "cell_type": "code",
   "execution_count": 48,
   "metadata": {},
   "outputs": [],
   "source": [
    "serieconttemp_raval.to_csv('meteo-temp-raval', index=False)"
   ]
  },
  {
   "cell_type": "code",
   "execution_count": 49,
   "metadata": {},
   "outputs": [],
   "source": [
    "serieconttemp_zonauniversitaria.index.names = ['DATA']\n",
    "serieconttemp_zonauniversitaria = serieconttemp_zonauniversitaria.reset_index()"
   ]
  },
  {
   "cell_type": "code",
   "execution_count": 50,
   "metadata": {},
   "outputs": [],
   "source": [
    "serieconttemp_zonauniversitaria.to_csv('meteo-temp-zonauniversitaria', index=False)"
   ]
  },
  {
   "cell_type": "code",
   "execution_count": 51,
   "metadata": {},
   "outputs": [],
   "source": [
    "serieconttemp_zoo.index.names = ['DATA']\n",
    "serieconttemp_zoo = serieconttemp_zoo.reset_index()"
   ]
  },
  {
   "cell_type": "code",
   "execution_count": 52,
   "metadata": {},
   "outputs": [],
   "source": [
    "serieconttemp_zoo.to_csv('meteo-temp-zoo', index=False)"
   ]
  },
  {
   "cell_type": "code",
   "execution_count": 53,
   "metadata": {},
   "outputs": [],
   "source": [
    "datapress = data[data.VARIABLE_METEO == 'Pressió Atmosfèrica']"
   ]
  },
  {
   "cell_type": "code",
   "execution_count": 54,
   "metadata": {},
   "outputs": [
    {
     "name": "stderr",
     "output_type": "stream",
     "text": [
      "/home/marc/[/Usuarios/marcj/Descargas]/envs/masterds/lib/python3.7/site-packages/ipykernel_launcher.py:1: SettingWithCopyWarning: \n",
      "A value is trying to be set on a copy of a slice from a DataFrame.\n",
      "Try using .loc[row_indexer,col_indexer] = value instead\n",
      "\n",
      "See the caveats in the documentation: http://pandas.pydata.org/pandas-docs/stable/user_guide/indexing.html#returning-a-view-versus-a-copy\n",
      "  \"\"\"Entry point for launching an IPython kernel.\n"
     ]
    }
   ],
   "source": [
    "datapress['CODI_ESTAT'] = datapress.CODI_ESTAT == 'V'"
   ]
  },
  {
   "cell_type": "code",
   "execution_count": 55,
   "metadata": {},
   "outputs": [],
   "source": [
    "datapress.rename(columns={'DATA_LECTURA':'DATA'}, inplace=True)"
   ]
  },
  {
   "cell_type": "code",
   "execution_count": 56,
   "metadata": {},
   "outputs": [],
   "source": [
    "seriecontpress = datapress[datapress.CODI_ESTAT == True]\n",
    "seriecontpress= seriecontpress.sort_values('VALOR_LECTURA', ascending=False)\n",
    "seriecontpress= seriecontpress.groupby(['CODI_BASE', 'DATA'])\n",
    "seriecontpress = seriecontpress.agg({'VALOR_LECTURA': lambda x: x.head(1).mean()})\n",
    "seriecontpress= seriecontpress.reset_index(drop=False)\n",
    "seriecontpress= seriecontpress.groupby('CODI_BASE')\n",
    "seriecontpress = seriecontpress.rolling(window= 1, on='DATA').mean()\n",
    "seriecontpress = seriecontpress.drop('CODI_BASE', axis=1).reset_index()\n",
    "seriecontpress = seriecontpress.set_index('DATA')\n",
    "seriecontpress= seriecontpress.groupby(lambda x: x.date)\n",
    "seriecontpress = seriecontpress.agg({'VALOR_LECTURA':max})"
   ]
  },
  {
   "cell_type": "code",
   "execution_count": 57,
   "metadata": {},
   "outputs": [],
   "source": [
    "seriecontpress.index.names = ['DATA']\n",
    "seriecontpress = seriecontpress.reset_index()"
   ]
  },
  {
   "cell_type": "code",
   "execution_count": 58,
   "metadata": {},
   "outputs": [],
   "source": [
    "seriecontpress.to_csv('meteo-pressio', index=False)"
   ]
  },
  {
   "cell_type": "code",
   "execution_count": 59,
   "metadata": {},
   "outputs": [],
   "source": [
    "datapress_fabra = datapress[datapress['CODI_ESTACIO'] == 'D5']"
   ]
  },
  {
   "cell_type": "code",
   "execution_count": 60,
   "metadata": {},
   "outputs": [],
   "source": [
    "datapress_raval = datapress[datapress['CODI_ESTACIO'] == 'X4']"
   ]
  },
  {
   "cell_type": "code",
   "execution_count": 61,
   "metadata": {},
   "outputs": [],
   "source": [
    "datapress_zonauniversitaria = datapress[datapress['CODI_ESTACIO'] == 'X8']"
   ]
  },
  {
   "cell_type": "code",
   "execution_count": 62,
   "metadata": {},
   "outputs": [],
   "source": [
    "datapress_zoo = datapress[datapress['CODI_ESTACIO'] == 'X2']"
   ]
  },
  {
   "cell_type": "code",
   "execution_count": 63,
   "metadata": {},
   "outputs": [],
   "source": [
    "seriecontpress_fabra = datapress_fabra[datapress_fabra.CODI_ESTAT == True]\n",
    "seriecontpress_fabra= seriecontpress_fabra.sort_values('VALOR_LECTURA', ascending=False)\n",
    "seriecontpress_fabra= seriecontpress_fabra.groupby(['CODI_BASE', 'DATA'])\n",
    "seriecontpress_fabra = seriecontpress_fabra.agg({'VALOR_LECTURA': lambda x: x.head(1).mean()})\n",
    "seriecontpress_fabra= seriecontpress_fabra.reset_index(drop=False)\n",
    "seriecontpress_fabra= seriecontpress_fabra.groupby('CODI_BASE')\n",
    "seriecontpress_fabra = seriecontpress_fabra.rolling(window= 1, on='DATA').mean()\n",
    "seriecontpress_fabra = seriecontpress_fabra.drop('CODI_BASE', axis=1).reset_index()\n",
    "seriecontpress_fabra = seriecontpress_fabra.set_index('DATA')\n",
    "seriecontpress_fabra= seriecontpress_fabra.groupby(lambda x: x.date)\n",
    "seriecontpress_fabra = seriecontpress_fabra.agg({'VALOR_LECTURA':max})"
   ]
  },
  {
   "cell_type": "code",
   "execution_count": 64,
   "metadata": {},
   "outputs": [],
   "source": [
    "seriecontpress_raval = datapress_raval[datapress_raval.CODI_ESTAT == True]\n",
    "seriecontpress_raval = seriecontpress_raval.sort_values('VALOR_LECTURA', ascending=False)\n",
    "seriecontpress_raval = seriecontpress_raval.groupby(['CODI_BASE', 'DATA'])\n",
    "seriecontpress_raval = seriecontpress_raval.agg({'VALOR_LECTURA': lambda x: x.head(1).mean()})\n",
    "seriecontpress_raval = seriecontpress_raval.reset_index(drop=False)\n",
    "seriecontpress_raval = seriecontpress_raval.groupby('CODI_BASE')\n",
    "seriecontpress_raval = seriecontpress_raval.rolling(window= 1, on='DATA').mean()\n",
    "seriecontpress_raval = seriecontpress_raval.drop('CODI_BASE', axis=1).reset_index()\n",
    "seriecontpress_raval = seriecontpress_raval.set_index('DATA')\n",
    "seriecontpress_raval = seriecontpress_raval.groupby(lambda x: x.date)\n",
    "seriecontpress_raval = seriecontpress_raval.agg({'VALOR_LECTURA':max})"
   ]
  },
  {
   "cell_type": "code",
   "execution_count": 65,
   "metadata": {},
   "outputs": [],
   "source": [
    "seriecontpress_zonauniversitaria = datapress_zonauniversitaria[datapress_zonauniversitaria.CODI_ESTAT == True]\n",
    "seriecontpress_zonauniversitaria = seriecontpress_zonauniversitaria.sort_values('VALOR_LECTURA', ascending=False)\n",
    "seriecontpress_zonauniversitaria = seriecontpress_zonauniversitaria.groupby(['CODI_BASE', 'DATA'])\n",
    "seriecontpress_zonauniversitaria = seriecontpress_zonauniversitaria.agg({'VALOR_LECTURA': lambda x: x.head(1).mean()})\n",
    "seriecontpress_zonauniversitaria = seriecontpress_zonauniversitaria.reset_index(drop=False)\n",
    "seriecontpress_zonauniversitaria = seriecontpress_zonauniversitaria.groupby('CODI_BASE')\n",
    "seriecontpress_zonauniversitaria = seriecontpress_zonauniversitaria.rolling(window= 1, on='DATA').mean()\n",
    "seriecontpress_zonauniversitaria = seriecontpress_zonauniversitaria.drop('CODI_BASE', axis=1).reset_index()\n",
    "seriecontpress_zonauniversitaria = seriecontpress_zonauniversitaria.set_index('DATA')\n",
    "seriecontpress_zonauniversitaria = seriecontpress_zonauniversitaria.groupby(lambda x: x.date)\n",
    "seriecontpress_zonauniversitaria = seriecontpress_zonauniversitaria.agg({'VALOR_LECTURA':max})"
   ]
  },
  {
   "cell_type": "code",
   "execution_count": 66,
   "metadata": {},
   "outputs": [],
   "source": [
    "seriecontpress_fabra.index.names = ['DATA']\n",
    "seriecontpress_fabra = seriecontpress_fabra.reset_index()"
   ]
  },
  {
   "cell_type": "code",
   "execution_count": 67,
   "metadata": {},
   "outputs": [],
   "source": [
    "seriecontpress_fabra.to_csv('meteo-pressio-fabra', index=False)"
   ]
  },
  {
   "cell_type": "code",
   "execution_count": 68,
   "metadata": {},
   "outputs": [],
   "source": [
    "seriecontpress_raval.index.names = ['DATA']\n",
    "seriecontpress_raval = seriecontpress_raval.reset_index()"
   ]
  },
  {
   "cell_type": "code",
   "execution_count": 69,
   "metadata": {},
   "outputs": [],
   "source": [
    "seriecontpress_raval.to_csv('meteo-pressio-raval', index=False)"
   ]
  },
  {
   "cell_type": "code",
   "execution_count": 70,
   "metadata": {},
   "outputs": [],
   "source": [
    "seriecontpress_zonauniversitaria.index.names = ['DATA']\n",
    "seriecontpress_zonauniversitaria = seriecontpress_zonauniversitaria.reset_index()"
   ]
  },
  {
   "cell_type": "code",
   "execution_count": 71,
   "metadata": {},
   "outputs": [],
   "source": [
    "seriecontpress_zonauniversitaria.to_csv('meteo-pressio-zonauniversitaria', index=False)"
   ]
  },
  {
   "cell_type": "code",
   "execution_count": 72,
   "metadata": {},
   "outputs": [],
   "source": [
    "datahum = data[data.VARIABLE_METEO == 'Humitat Relativa']"
   ]
  },
  {
   "cell_type": "code",
   "execution_count": 73,
   "metadata": {},
   "outputs": [
    {
     "name": "stderr",
     "output_type": "stream",
     "text": [
      "/home/marc/[/Usuarios/marcj/Descargas]/envs/masterds/lib/python3.7/site-packages/ipykernel_launcher.py:1: SettingWithCopyWarning: \n",
      "A value is trying to be set on a copy of a slice from a DataFrame.\n",
      "Try using .loc[row_indexer,col_indexer] = value instead\n",
      "\n",
      "See the caveats in the documentation: http://pandas.pydata.org/pandas-docs/stable/user_guide/indexing.html#returning-a-view-versus-a-copy\n",
      "  \"\"\"Entry point for launching an IPython kernel.\n"
     ]
    }
   ],
   "source": [
    "datahum['CODI_ESTAT'] = datahum.CODI_ESTAT == 'V'"
   ]
  },
  {
   "cell_type": "code",
   "execution_count": 74,
   "metadata": {},
   "outputs": [],
   "source": [
    "datahum.rename(columns={'DATA_LECTURA':'DATA'}, inplace=True)"
   ]
  },
  {
   "cell_type": "code",
   "execution_count": 75,
   "metadata": {},
   "outputs": [],
   "source": [
    "serieconthum = datahum[datahum.CODI_ESTAT == True]\n",
    "serieconthum = serieconthum.sort_values('VALOR_LECTURA', ascending=False)\n",
    "serieconthum = serieconthum.groupby(['CODI_BASE', 'DATA'])\n",
    "serieconthum = serieconthum.agg({'VALOR_LECTURA': lambda x: x.head(1).mean()})\n",
    "serieconthum = serieconthum.reset_index(drop=False)\n",
    "serieconthum = serieconthum.groupby('CODI_BASE')\n",
    "serieconthum = serieconthum.rolling(window= 1, on='DATA').mean()\n",
    "serieconthum = serieconthum.drop('CODI_BASE', axis=1).reset_index()\n",
    "serieconthum = serieconthum.set_index('DATA')\n",
    "serieconthum = serieconthum.groupby(lambda x: x.date)\n",
    "serieconthum = serieconthum.agg({'VALOR_LECTURA':max})"
   ]
  },
  {
   "cell_type": "code",
   "execution_count": 76,
   "metadata": {},
   "outputs": [],
   "source": [
    "serieconthum.index.names = ['DATA']\n",
    "serieconthum = serieconthum.reset_index()"
   ]
  },
  {
   "cell_type": "code",
   "execution_count": 77,
   "metadata": {},
   "outputs": [],
   "source": [
    "serieconthum.to_csv('meteo-hum', index=False)"
   ]
  },
  {
   "cell_type": "code",
   "execution_count": 80,
   "metadata": {},
   "outputs": [],
   "source": [
    "datahum_fabra = datahum[datahum['CODI_ESTACIO'] == 'D5']\n",
    "datahum_raval = datahum[datahum['CODI_ESTACIO'] == 'X4']\n",
    "datahum_zonauniversitaria = datahum[datahum['CODI_ESTACIO'] == 'X8']\n",
    "datahum_zoo = datahum[datahum['CODI_ESTACIO'] == 'X2']"
   ]
  },
  {
   "cell_type": "code",
   "execution_count": 81,
   "metadata": {},
   "outputs": [],
   "source": [
    "serieconthum_fabra = datahum_fabra[datahum_fabra.CODI_ESTAT == True]\n",
    "serieconthum_fabra= serieconthum_fabra.sort_values('VALOR_LECTURA', ascending=False)\n",
    "serieconthum_fabra= serieconthum_fabra.groupby(['CODI_BASE', 'DATA'])\n",
    "serieconthum_fabra = serieconthum_fabra.agg({'VALOR_LECTURA': lambda x: x.head(1).mean()})\n",
    "serieconthum_fabra= serieconthum_fabra.reset_index(drop=False)\n",
    "serieconthum_fabra= serieconthum_fabra.groupby('CODI_BASE')\n",
    "serieconthum_fabra = serieconthum_fabra.rolling(window= 1, on='DATA').mean()\n",
    "serieconthum_fabra = serieconthum_fabra.drop('CODI_BASE', axis=1).reset_index()\n",
    "serieconthum_fabra = serieconthum_fabra.set_index('DATA')\n",
    "serieconthum_fabra= serieconthum_fabra.groupby(lambda x: x.date)\n",
    "serieconthum_fabra = serieconthum_fabra.agg({'VALOR_LECTURA':max})"
   ]
  },
  {
   "cell_type": "code",
   "execution_count": 82,
   "metadata": {},
   "outputs": [],
   "source": [
    "serieconthum_raval = datahum_raval[datahum_raval.CODI_ESTAT == True]\n",
    "serieconthum_raval = serieconthum_raval.sort_values('VALOR_LECTURA', ascending=False)\n",
    "serieconthum_raval = serieconthum_raval.groupby(['CODI_BASE', 'DATA'])\n",
    "serieconthum_raval = serieconthum_raval.agg({'VALOR_LECTURA': lambda x: x.head(1).mean()})\n",
    "serieconthum_raval = serieconthum_raval.reset_index(drop=False)\n",
    "serieconthum_raval = serieconthum_raval.groupby('CODI_BASE')\n",
    "serieconthum_raval = serieconthum_raval.rolling(window= 1, on='DATA').mean()\n",
    "serieconthum_raval = serieconthum_raval.drop('CODI_BASE', axis=1).reset_index()\n",
    "serieconthum_raval = serieconthum_raval.set_index('DATA')\n",
    "serieconthum_raval = serieconthum_raval.groupby(lambda x: x.date)\n",
    "serieconthum_raval = serieconthum_raval.agg({'VALOR_LECTURA':max})"
   ]
  },
  {
   "cell_type": "code",
   "execution_count": 83,
   "metadata": {},
   "outputs": [],
   "source": [
    "serieconthum_zoo = datahum_zoo[datahum_zoo.CODI_ESTAT == True]\n",
    "serieconthum_zoo= serieconthum_zoo.sort_values('VALOR_LECTURA', ascending=False)\n",
    "serieconthum_zoo= serieconthum_zoo.groupby(['CODI_BASE', 'DATA'])\n",
    "serieconthum_zoo = serieconthum_zoo.agg({'VALOR_LECTURA': lambda x: x.head(1).mean()})\n",
    "serieconthum_zoo = serieconthum_zoo.reset_index(drop=False)\n",
    "serieconthum_zoo = serieconthum_zoo.groupby('CODI_BASE')\n",
    "serieconthum_zoo = serieconthum_zoo.rolling(window= 1, on='DATA').mean()\n",
    "serieconthum_zoo = serieconthum_zoo.drop('CODI_BASE', axis=1).reset_index()\n",
    "serieconthum_zoo = serieconthum_zoo.set_index('DATA')\n",
    "serieconthum_zoo = serieconthum_zoo.groupby(lambda x: x.date)\n",
    "serieconthum_zoo = serieconthum_zoo.agg({'VALOR_LECTURA':max})"
   ]
  },
  {
   "cell_type": "code",
   "execution_count": 84,
   "metadata": {},
   "outputs": [],
   "source": [
    "serieconthum_zonauniversitaria = datahum_zonauniversitaria[datahum_zonauniversitaria.CODI_ESTAT == True]\n",
    "serieconthum_zonauniversitaria = serieconthum_zonauniversitaria.sort_values('VALOR_LECTURA', ascending=False)\n",
    "serieconthum_zonauniversitaria = serieconthum_zonauniversitaria.groupby(['CODI_BASE', 'DATA'])\n",
    "serieconthum_zonauniversitaria = serieconthum_zonauniversitaria.agg({'VALOR_LECTURA': lambda x: x.head(1).mean()})\n",
    "serieconthum_zonauniversitaria = serieconthum_zonauniversitaria.reset_index(drop=False)\n",
    "serieconthum_zonauniversitaria = serieconthum_zonauniversitaria.groupby('CODI_BASE')\n",
    "serieconthum_zonauniversitaria = serieconthum_zonauniversitaria.rolling(window= 1, on='DATA').mean()\n",
    "serieconthum_zonauniversitaria = serieconthum_zonauniversitaria.drop('CODI_BASE', axis=1).reset_index()\n",
    "serieconthum_zonauniversitaria = serieconthum_zonauniversitaria.set_index('DATA')\n",
    "serieconthum_zonauniversitaria = serieconthum_zonauniversitaria.groupby(lambda x: x.date)\n",
    "serieconthum_zonauniversitaria = serieconthum_zonauniversitaria.agg({'VALOR_LECTURA':max})"
   ]
  },
  {
   "cell_type": "code",
   "execution_count": 85,
   "metadata": {},
   "outputs": [],
   "source": [
    "serieconthum_fabra.index.names = ['DATA']\n",
    "serieconthum_fabra = serieconthum_fabra.reset_index()"
   ]
  },
  {
   "cell_type": "code",
   "execution_count": 86,
   "metadata": {},
   "outputs": [],
   "source": [
    "serieconthum_fabra.to_csv('meteo-hum-fabra', index=False)"
   ]
  },
  {
   "cell_type": "code",
   "execution_count": 87,
   "metadata": {},
   "outputs": [],
   "source": [
    "serieconthum_raval.index.names = ['DATA']\n",
    "serieconthum_raval = serieconthum_raval.reset_index()"
   ]
  },
  {
   "cell_type": "code",
   "execution_count": 88,
   "metadata": {},
   "outputs": [],
   "source": [
    "serieconttemp_raval.to_csv('meteo-hum-raval', index=False)"
   ]
  },
  {
   "cell_type": "code",
   "execution_count": 89,
   "metadata": {},
   "outputs": [],
   "source": [
    "serieconthum_zonauniversitaria.index.names = ['DATA']\n",
    "serieconthum_zonauniversitaria = serieconthum_zonauniversitaria.reset_index()"
   ]
  },
  {
   "cell_type": "code",
   "execution_count": 90,
   "metadata": {},
   "outputs": [],
   "source": [
    "serieconthum_zonauniversitaria.to_csv('meteo-hum-zonauniversitaria', index=False)"
   ]
  },
  {
   "cell_type": "code",
   "execution_count": 91,
   "metadata": {},
   "outputs": [],
   "source": [
    "serieconthum_zoo.index.names = ['DATA']\n",
    "serieconthum_zoo = serieconthum_zoo.reset_index()"
   ]
  },
  {
   "cell_type": "code",
   "execution_count": 92,
   "metadata": {},
   "outputs": [],
   "source": [
    "serieconthum_zoo.to_csv('meteo-hum-zoo', index=False)"
   ]
  },
  {
   "cell_type": "code",
   "execution_count": 93,
   "metadata": {},
   "outputs": [],
   "source": [
    "dataprep = data[data.VARIABLE_METEO == 'Precipitació']"
   ]
  },
  {
   "cell_type": "code",
   "execution_count": 94,
   "metadata": {},
   "outputs": [
    {
     "name": "stderr",
     "output_type": "stream",
     "text": [
      "/home/marc/[/Usuarios/marcj/Descargas]/envs/masterds/lib/python3.7/site-packages/ipykernel_launcher.py:1: SettingWithCopyWarning: \n",
      "A value is trying to be set on a copy of a slice from a DataFrame.\n",
      "Try using .loc[row_indexer,col_indexer] = value instead\n",
      "\n",
      "See the caveats in the documentation: http://pandas.pydata.org/pandas-docs/stable/user_guide/indexing.html#returning-a-view-versus-a-copy\n",
      "  \"\"\"Entry point for launching an IPython kernel.\n"
     ]
    }
   ],
   "source": [
    "dataprep['CODI_ESTAT'] = dataprep.CODI_ESTAT == 'V'"
   ]
  },
  {
   "cell_type": "code",
   "execution_count": 95,
   "metadata": {},
   "outputs": [
    {
     "name": "stderr",
     "output_type": "stream",
     "text": [
      "/home/marc/[/Usuarios/marcj/Descargas]/envs/masterds/lib/python3.7/site-packages/pandas/core/frame.py:4238: SettingWithCopyWarning: \n",
      "A value is trying to be set on a copy of a slice from a DataFrame\n",
      "\n",
      "See the caveats in the documentation: http://pandas.pydata.org/pandas-docs/stable/user_guide/indexing.html#returning-a-view-versus-a-copy\n",
      "  return super().rename(**kwargs)\n"
     ]
    }
   ],
   "source": [
    "dataprep.rename(columns={'DATA_LECTURA':'DATA'}, inplace=True)"
   ]
  },
  {
   "cell_type": "code",
   "execution_count": 96,
   "metadata": {},
   "outputs": [],
   "source": [
    "seriecontprep = dataprep[dataprep.CODI_ESTAT == True]\n",
    "seriecontprep= seriecontprep.sort_values('VALOR_LECTURA', ascending=False)\n",
    "seriecontprep = seriecontprep.groupby(['CODI_BASE', 'DATA'])\n",
    "seriecontprep= seriecontprep.agg({'VALOR_LECTURA': lambda x: x.head(1).mean()})\n",
    "seriecontprep= seriecontprep.reset_index(drop=False)\n",
    "seriecontprep= seriecontprep.groupby('CODI_BASE')\n",
    "seriecontprep= seriecontprep.rolling(window= 1, on='DATA').mean()\n",
    "seriecontprep= seriecontprep.drop('CODI_BASE', axis=1).reset_index()\n",
    "seriecontprep= seriecontprep.set_index('DATA')\n",
    "seriecontprep= seriecontprep.groupby(lambda x: x.date)\n",
    "seriecontprep= seriecontprep.agg({'VALOR_LECTURA':max})"
   ]
  },
  {
   "cell_type": "code",
   "execution_count": 97,
   "metadata": {},
   "outputs": [],
   "source": [
    "seriecontprep.index.names = ['DATA']\n",
    "seriecontprep= seriecontprep.reset_index()"
   ]
  },
  {
   "cell_type": "code",
   "execution_count": 98,
   "metadata": {},
   "outputs": [],
   "source": [
    "seriecontprep.to_csv('meteo-pre', index=False)"
   ]
  },
  {
   "cell_type": "code",
   "execution_count": 99,
   "metadata": {},
   "outputs": [],
   "source": [
    "dataprep_fabra = dataprep[dataprep['CODI_ESTACIO'] == 'D5']\n",
    "dataprep_raval = dataprep[dataprep['CODI_ESTACIO'] == 'X4']\n",
    "dataprep_zonauniversitaria = dataprep[dataprep['CODI_ESTACIO'] == 'X8']\n",
    "dataprep_zoo = dataprep[dataprep['CODI_ESTACIO'] == 'X2']"
   ]
  },
  {
   "cell_type": "code",
   "execution_count": 100,
   "metadata": {},
   "outputs": [],
   "source": [
    "seriecontprep_fabra = dataprep_fabra[dataprep_fabra.CODI_ESTAT == True]\n",
    "seriecontprep_fabra= seriecontprep_fabra.sort_values('VALOR_LECTURA', ascending=False)\n",
    "seriecontprep_fabra= seriecontprep_fabra.groupby(['CODI_BASE', 'DATA'])\n",
    "seriecontprep_fabra = seriecontprep_fabra.agg({'VALOR_LECTURA': lambda x: x.head(1).mean()})\n",
    "seriecontprep_fabra= seriecontprep_fabra.reset_index(drop=False)\n",
    "seriecontprep_fabra= seriecontprep_fabra.groupby('CODI_BASE')\n",
    "seriecontprep_fabra = seriecontprep_fabra.rolling(window= 1, on='DATA').mean()\n",
    "seriecontprep_fabra = seriecontprep_fabra.drop('CODI_BASE', axis=1).reset_index()\n",
    "seriecontprep_fabra = seriecontprep_fabra.set_index('DATA')\n",
    "seriecontprep_fabra= seriecontprep_fabra.groupby(lambda x: x.date)\n",
    "seriecontprep_fabra = seriecontprep_fabra.agg({'VALOR_LECTURA':max})"
   ]
  },
  {
   "cell_type": "code",
   "execution_count": 101,
   "metadata": {},
   "outputs": [],
   "source": [
    "seriecontprep_raval = dataprep_raval[dataprep_raval.CODI_ESTAT == True]\n",
    "seriecontprep_raval = seriecontprep_raval.sort_values('VALOR_LECTURA', ascending=False)\n",
    "seriecontprep_raval = seriecontprep_raval.groupby(['CODI_BASE', 'DATA'])\n",
    "seriecontprep_raval = seriecontprep_raval.agg({'VALOR_LECTURA': lambda x: x.head(1).mean()})\n",
    "seriecontprep_raval = seriecontprep_raval.reset_index(drop=False)\n",
    "seriecontprep_raval = seriecontprep_raval.groupby('CODI_BASE')\n",
    "seriecontprep_raval = seriecontprep_raval.rolling(window= 1, on='DATA').mean()\n",
    "seriecontprep_raval = seriecontprep_raval.drop('CODI_BASE', axis=1).reset_index()\n",
    "seriecontprep_raval = seriecontprep_raval.set_index('DATA')\n",
    "seriecontprep_raval = seriecontprep_raval.groupby(lambda x: x.date)\n",
    "seriecontprep_raval = seriecontprep_raval.agg({'VALOR_LECTURA':max})"
   ]
  },
  {
   "cell_type": "code",
   "execution_count": 103,
   "metadata": {},
   "outputs": [],
   "source": [
    "seriecontprep_zonauniversitaria = dataprep_zonauniversitaria[dataprep_zonauniversitaria.CODI_ESTAT == True]\n",
    "seriecontprep_zonauniversitaria = seriecontprep_zonauniversitaria.sort_values('VALOR_LECTURA', ascending=False)\n",
    "seriecontprep_zonauniversitaria = seriecontprep_zonauniversitaria.groupby(['CODI_BASE', 'DATA'])\n",
    "seriecontprep_zonauniversitaria = seriecontprep_zonauniversitaria.agg({'VALOR_LECTURA': lambda x: x.head(1).mean()})\n",
    "seriecontprep_zonauniversitaria = seriecontprep_zonauniversitaria.reset_index(drop=False)\n",
    "seriecontprep_zonauniversitaria = seriecontprep_zonauniversitaria.groupby('CODI_BASE')\n",
    "seriecontprep_zonauniversitaria = seriecontprep_zonauniversitaria.rolling(window= 1, on='DATA').mean()\n",
    "seriecontprep_zonauniversitaria = seriecontprep_zonauniversitaria.drop('CODI_BASE', axis=1).reset_index()\n",
    "seriecontprep_zonauniversitaria = seriecontprep_zonauniversitaria.set_index('DATA')\n",
    "seriecontprep_zonauniversitaria = seriecontprep_zonauniversitaria.groupby(lambda x: x.date)\n",
    "seriecontprep_zonauniversitaria = seriecontprep_zonauniversitaria.agg({'VALOR_LECTURA':max})"
   ]
  },
  {
   "cell_type": "code",
   "execution_count": 104,
   "metadata": {},
   "outputs": [],
   "source": [
    "seriecontprep_fabra.index.names = ['DATA']\n",
    "seriecontprep_fabra = seriecontprep_fabra.reset_index()"
   ]
  },
  {
   "cell_type": "code",
   "execution_count": 105,
   "metadata": {},
   "outputs": [],
   "source": [
    "seriecontprep_fabra.to_csv('meteo-prep-fabra', index=False)"
   ]
  },
  {
   "cell_type": "code",
   "execution_count": 106,
   "metadata": {},
   "outputs": [],
   "source": [
    "seriecontprep_raval.index.names = ['DATA']\n",
    "seriecontprep_raval = seriecontprep_raval.reset_index()"
   ]
  },
  {
   "cell_type": "code",
   "execution_count": 107,
   "metadata": {},
   "outputs": [],
   "source": [
    "seriecontprep_raval.to_csv('meteo-prep-raval', index=False)"
   ]
  },
  {
   "cell_type": "code",
   "execution_count": 108,
   "metadata": {},
   "outputs": [],
   "source": [
    "seriecontprep_zonauniversitaria.index.names = ['DATA']\n",
    "seriecontprep_zonauniversitaria = seriecontprep_zonauniversitaria.reset_index()"
   ]
  },
  {
   "cell_type": "code",
   "execution_count": 109,
   "metadata": {},
   "outputs": [],
   "source": [
    "seriecontprep_zonauniversitaria.to_csv('meteo-prep-zonauniversitaria', index=False)"
   ]
  },
  {
   "cell_type": "code",
   "execution_count": 110,
   "metadata": {},
   "outputs": [],
   "source": [
    "seriecontprep_zoo.index.names = ['DATA']\n",
    "seriecontprep_zoo = seriecontprep_zoo.reset_index()"
   ]
  },
  {
   "cell_type": "code",
   "execution_count": 111,
   "metadata": {},
   "outputs": [],
   "source": [
    "seriecontprep_zoo.to_csv('meteo-prep-zoo', index=False)"
   ]
  }
 ],
 "metadata": {
  "kernelspec": {
   "display_name": "Python 3",
   "language": "python",
   "name": "python3"
  },
  "language_info": {
   "codemirror_mode": {
    "name": "ipython",
    "version": 3
   },
   "file_extension": ".py",
   "mimetype": "text/x-python",
   "name": "python",
   "nbconvert_exporter": "python",
   "pygments_lexer": "ipython3",
   "version": "3.7.5"
  }
 },
 "nbformat": 4,
 "nbformat_minor": 2
}
